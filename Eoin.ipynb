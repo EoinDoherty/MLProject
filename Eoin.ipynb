{
 "cells": [
  {
   "cell_type": "code",
   "execution_count": 1,
   "metadata": {},
   "outputs": [],
   "source": [
    "import numpy as np\n",
    "import pandas as pd\n",
    "\n",
    "from sklearn.naive_bayes import GaussianNB"
   ]
  },
  {
   "cell_type": "code",
   "execution_count": 2,
   "metadata": {},
   "outputs": [
    {
     "data": {
      "text/html": [
       "<div>\n",
       "<style scoped>\n",
       "    .dataframe tbody tr th:only-of-type {\n",
       "        vertical-align: middle;\n",
       "    }\n",
       "\n",
       "    .dataframe tbody tr th {\n",
       "        vertical-align: top;\n",
       "    }\n",
       "\n",
       "    .dataframe thead th {\n",
       "        text-align: right;\n",
       "    }\n",
       "</style>\n",
       "<table border=\"1\" class=\"dataframe\">\n",
       "  <thead>\n",
       "    <tr style=\"text-align: right;\">\n",
       "      <th></th>\n",
       "      <th>WikiID</th>\n",
       "      <th>Name</th>\n",
       "      <th>Revenue</th>\n",
       "      <th>ReleaseDate</th>\n",
       "      <th>Languages</th>\n",
       "      <th>Countries</th>\n",
       "      <th>Genres</th>\n",
       "      <th>Summary</th>\n",
       "      <th>Year</th>\n",
       "      <th>AdjustedRevenue</th>\n",
       "    </tr>\n",
       "  </thead>\n",
       "  <tbody>\n",
       "    <tr>\n",
       "      <th>0</th>\n",
       "      <td>975900</td>\n",
       "      <td>Ghosts of Mars</td>\n",
       "      <td>14010832.0</td>\n",
       "      <td>2001-08-24</td>\n",
       "      <td>['English Language']</td>\n",
       "      <td>['United States of America']</td>\n",
       "      <td>['Thriller', 'Science Fiction', 'Horror', 'Adv...</td>\n",
       "      <td>Set in the second half of the 22nd century, th...</td>\n",
       "      <td>2001.0</td>\n",
       "      <td>2.022468e+07</td>\n",
       "    </tr>\n",
       "    <tr>\n",
       "      <th>1</th>\n",
       "      <td>9363483</td>\n",
       "      <td>White Of The Eye</td>\n",
       "      <td>NaN</td>\n",
       "      <td>1987</td>\n",
       "      <td>['English Language']</td>\n",
       "      <td>['United Kingdom']</td>\n",
       "      <td>['Thriller', 'Erotic thriller', 'Psychological...</td>\n",
       "      <td>A series of murders of rich young women throug...</td>\n",
       "      <td>1987.0</td>\n",
       "      <td>NaN</td>\n",
       "    </tr>\n",
       "    <tr>\n",
       "      <th>2</th>\n",
       "      <td>261236</td>\n",
       "      <td>A Woman in Flames</td>\n",
       "      <td>NaN</td>\n",
       "      <td>1983</td>\n",
       "      <td>['German Language']</td>\n",
       "      <td>['Germany']</td>\n",
       "      <td>['Drama']</td>\n",
       "      <td>Eva, an upper class housewife, becomes frustra...</td>\n",
       "      <td>1983.0</td>\n",
       "      <td>NaN</td>\n",
       "    </tr>\n",
       "    <tr>\n",
       "      <th>3</th>\n",
       "      <td>18998739</td>\n",
       "      <td>The Sorcerer's Apprentice</td>\n",
       "      <td>NaN</td>\n",
       "      <td>2002</td>\n",
       "      <td>['English Language']</td>\n",
       "      <td>['South Africa']</td>\n",
       "      <td>['Family Film', 'Fantasy', 'Adventure', 'World...</td>\n",
       "      <td>Every hundred years, the evil Morgana  returns...</td>\n",
       "      <td>2002.0</td>\n",
       "      <td>NaN</td>\n",
       "    </tr>\n",
       "    <tr>\n",
       "      <th>4</th>\n",
       "      <td>6631279</td>\n",
       "      <td>Little city</td>\n",
       "      <td>NaN</td>\n",
       "      <td>1997-04-04</td>\n",
       "      <td>['English Language']</td>\n",
       "      <td>['United States of America']</td>\n",
       "      <td>['Romantic comedy', 'Ensemble Film', 'Comedy-d...</td>\n",
       "      <td>Adam, a San Francisco-based artist who works a...</td>\n",
       "      <td>1997.0</td>\n",
       "      <td>NaN</td>\n",
       "    </tr>\n",
       "  </tbody>\n",
       "</table>\n",
       "</div>"
      ],
      "text/plain": [
       "     WikiID                       Name     Revenue ReleaseDate  \\\n",
       "0    975900             Ghosts of Mars  14010832.0  2001-08-24   \n",
       "1   9363483           White Of The Eye         NaN        1987   \n",
       "2    261236          A Woman in Flames         NaN        1983   \n",
       "3  18998739  The Sorcerer's Apprentice         NaN        2002   \n",
       "4   6631279                Little city         NaN  1997-04-04   \n",
       "\n",
       "              Languages                     Countries  \\\n",
       "0  ['English Language']  ['United States of America']   \n",
       "1  ['English Language']            ['United Kingdom']   \n",
       "2   ['German Language']                   ['Germany']   \n",
       "3  ['English Language']              ['South Africa']   \n",
       "4  ['English Language']  ['United States of America']   \n",
       "\n",
       "                                              Genres  \\\n",
       "0  ['Thriller', 'Science Fiction', 'Horror', 'Adv...   \n",
       "1  ['Thriller', 'Erotic thriller', 'Psychological...   \n",
       "2                                          ['Drama']   \n",
       "3  ['Family Film', 'Fantasy', 'Adventure', 'World...   \n",
       "4  ['Romantic comedy', 'Ensemble Film', 'Comedy-d...   \n",
       "\n",
       "                                             Summary    Year  AdjustedRevenue  \n",
       "0  Set in the second half of the 22nd century, th...  2001.0     2.022468e+07  \n",
       "1  A series of murders of rich young women throug...  1987.0              NaN  \n",
       "2  Eva, an upper class housewife, becomes frustra...  1983.0              NaN  \n",
       "3  Every hundred years, the evil Morgana  returns...  2002.0              NaN  \n",
       "4  Adam, a San Francisco-based artist who works a...  1997.0              NaN  "
      ]
     },
     "execution_count": 2,
     "metadata": {},
     "output_type": "execute_result"
    }
   ],
   "source": [
    "dfCMU = pd.read_csv(\"ExportedData/cleanCMURevenueAdjusted.tsv\", sep=\"\\t\")\n",
    "dfCMU.head()"
   ]
  },
  {
   "cell_type": "code",
   "execution_count": 3,
   "metadata": {},
   "outputs": [],
   "source": [
    "dfCMU[\"Languages\"] = dfCMU.apply(lambda row: eval(row[\"Languages\"]), axis=1)\n",
    "dfCMU[\"Countries\"] = dfCMU.apply(lambda row: eval(row[\"Countries\"]), axis=1)\n",
    "dfCMU[\"Genres\"] = dfCMU.apply(lambda row: eval(row[\"Genres\"]), axis=1)"
   ]
  },
  {
   "cell_type": "code",
   "execution_count": 13,
   "metadata": {},
   "outputs": [],
   "source": [
    "from sklearn.model_selection import train_test_split\n",
    "train, test = train_test_split(dfCMU.dropna(), test_size=0.2)"
   ]
  },
  {
   "cell_type": "code",
   "execution_count": 14,
   "metadata": {
    "scrolled": true
   },
   "outputs": [],
   "source": [
    "from sklearn.feature_extraction.text import CountVectorizer\n",
    "\n",
    "titleVectorizer = CountVectorizer()\n",
    "titleX = titleVectorizer.fit_transform(train[\"Name\"])\n",
    "dfCMU[\"tokenizedTitle\"] = titleX"
   ]
  },
  {
   "cell_type": "code",
   "execution_count": 15,
   "metadata": {},
   "outputs": [],
   "source": [
    "from sklearn.model_selection import train_test_split\n",
    "train, test = train_test_split(dfCMU.dropna(), test_size=0.2)"
   ]
  },
  {
   "cell_type": "code",
   "execution_count": 16,
   "metadata": {},
   "outputs": [
    {
     "data": {
      "text/plain": [
       "array([[0, 0, 0, ..., 0, 0, 0],\n",
       "       [0, 0, 0, ..., 0, 0, 0],\n",
       "       [0, 0, 0, ..., 0, 0, 0],\n",
       "       ...,\n",
       "       [0, 0, 0, ..., 0, 0, 0],\n",
       "       [0, 0, 0, ..., 0, 0, 0],\n",
       "       [0, 0, 0, ..., 0, 0, 0]], dtype=int64)"
      ]
     },
     "execution_count": 16,
     "metadata": {},
     "output_type": "execute_result"
    }
   ],
   "source": [
    "titleX.toarray()"
   ]
  },
  {
   "cell_type": "code",
   "execution_count": 17,
   "metadata": {},
   "outputs": [],
   "source": [
    "features = train[[\"tokenizedTitle\", \"Revenue\", \"Languages\", \"Countries\", \"Genres\", \"Summary\", \"AdjustedRevenue\"]]\n",
    "label = train[\"Year\"]"
   ]
  },
  {
   "cell_type": "code",
   "execution_count": 20,
   "metadata": {
    "scrolled": false
   },
   "outputs": [
    {
     "data": {
      "text/plain": [
       "GaussianNB(priors=None, var_smoothing=1e-09)"
      ]
     },
     "execution_count": 20,
     "metadata": {},
     "output_type": "execute_result"
    }
   ],
   "source": [
    "gb = GaussianNB()\n",
    "# gb.fit(features[\"AdjustedRevenue\"].values.reshape(-1,1), label.values)\n",
    "# predictions = gb.predict(test[\"AdjustedRevenue\"].values.reshape(-1,1))\n",
    "gb.fit(titleX.toarray(), label.values)"
   ]
  },
  {
   "cell_type": "code",
   "execution_count": 21,
   "metadata": {},
   "outputs": [],
   "source": [
    "testTitles = titleVectorizer.transform(test[\"Name\"]).toarray()\n",
    "predictions = gb.predict(testTitles)"
   ]
  },
  {
   "cell_type": "code",
   "execution_count": 22,
   "metadata": {},
   "outputs": [
    {
     "data": {
      "text/plain": [
       "0.017264276228419653"
      ]
     },
     "execution_count": 22,
     "metadata": {},
     "output_type": "execute_result"
    }
   ],
   "source": [
    "sum(predictions == test[\"Year\"])/len(test)"
   ]
  },
  {
   "cell_type": "code",
   "execution_count": 23,
   "metadata": {
    "scrolled": true
   },
   "outputs": [
    {
     "data": {
      "text/plain": [
       "KNeighborsClassifier(algorithm='auto', leaf_size=30, metric='minkowski',\n",
       "           metric_params=None, n_jobs=None, n_neighbors=5, p=2,\n",
       "           weights='uniform')"
      ]
     },
     "execution_count": 23,
     "metadata": {},
     "output_type": "execute_result"
    }
   ],
   "source": [
    "from sklearn.neighbors import KNeighborsClassifier\n",
    "\n",
    "knn = KNeighborsClassifier()\n",
    "knn.fit(titleX.toarray(), label.values)"
   ]
  },
  {
   "cell_type": "code",
   "execution_count": 24,
   "metadata": {},
   "outputs": [],
   "source": [
    "predict = knn.predict(testTitles[:100])"
   ]
  },
  {
   "cell_type": "code",
   "execution_count": 25,
   "metadata": {},
   "outputs": [
    {
     "data": {
      "text/plain": [
       "-21.62"
      ]
     },
     "execution_count": 25,
     "metadata": {},
     "output_type": "execute_result"
    }
   ],
   "source": [
    "sum(predict - test[\"Year\"][:100])/100"
   ]
  },
  {
   "cell_type": "code",
   "execution_count": 26,
   "metadata": {},
   "outputs": [],
   "source": [
    "dfCMU[\"Decade\"] = 10 * np.round(dfCMU[\"Year\"]/10)"
   ]
  },
  {
   "cell_type": "markdown",
   "metadata": {},
   "source": [
    "## Starting over"
   ]
  },
  {
   "cell_type": "code",
   "execution_count": 1,
   "metadata": {},
   "outputs": [],
   "source": [
    "import numpy as np\n",
    "import pandas as pd\n",
    "\n",
    "from sklearn.naive_bayes import GaussianNB\n",
    "from sklearn.neighbors import KNeighborsClassifier\n",
    "from sklearn.model_selection import train_test_split\n",
    "from sklearn.feature_extraction.text import CountVectorizer"
   ]
  },
  {
   "cell_type": "code",
   "execution_count": 2,
   "metadata": {},
   "outputs": [
    {
     "data": {
      "text/html": [
       "<div>\n",
       "<style scoped>\n",
       "    .dataframe tbody tr th:only-of-type {\n",
       "        vertical-align: middle;\n",
       "    }\n",
       "\n",
       "    .dataframe tbody tr th {\n",
       "        vertical-align: top;\n",
       "    }\n",
       "\n",
       "    .dataframe thead th {\n",
       "        text-align: right;\n",
       "    }\n",
       "</style>\n",
       "<table border=\"1\" class=\"dataframe\">\n",
       "  <thead>\n",
       "    <tr style=\"text-align: right;\">\n",
       "      <th></th>\n",
       "      <th>WikiID</th>\n",
       "      <th>Name</th>\n",
       "      <th>Revenue</th>\n",
       "      <th>ReleaseDate</th>\n",
       "      <th>Languages</th>\n",
       "      <th>Countries</th>\n",
       "      <th>Genres</th>\n",
       "      <th>Summary</th>\n",
       "      <th>Year</th>\n",
       "      <th>AdjustedRevenue</th>\n",
       "    </tr>\n",
       "  </thead>\n",
       "  <tbody>\n",
       "    <tr>\n",
       "      <th>0</th>\n",
       "      <td>975900</td>\n",
       "      <td>Ghosts of Mars</td>\n",
       "      <td>14010832.0</td>\n",
       "      <td>2001-08-24</td>\n",
       "      <td>['English Language']</td>\n",
       "      <td>['United States of America']</td>\n",
       "      <td>['Thriller', 'Science Fiction', 'Horror', 'Adv...</td>\n",
       "      <td>Set in the second half of the 22nd century, th...</td>\n",
       "      <td>2001.0</td>\n",
       "      <td>2.022468e+07</td>\n",
       "    </tr>\n",
       "    <tr>\n",
       "      <th>1</th>\n",
       "      <td>9363483</td>\n",
       "      <td>White Of The Eye</td>\n",
       "      <td>NaN</td>\n",
       "      <td>1987</td>\n",
       "      <td>['English Language']</td>\n",
       "      <td>['United Kingdom']</td>\n",
       "      <td>['Thriller', 'Erotic thriller', 'Psychological...</td>\n",
       "      <td>A series of murders of rich young women throug...</td>\n",
       "      <td>1987.0</td>\n",
       "      <td>NaN</td>\n",
       "    </tr>\n",
       "    <tr>\n",
       "      <th>2</th>\n",
       "      <td>261236</td>\n",
       "      <td>A Woman in Flames</td>\n",
       "      <td>NaN</td>\n",
       "      <td>1983</td>\n",
       "      <td>['German Language']</td>\n",
       "      <td>['Germany']</td>\n",
       "      <td>['Drama']</td>\n",
       "      <td>Eva, an upper class housewife, becomes frustra...</td>\n",
       "      <td>1983.0</td>\n",
       "      <td>NaN</td>\n",
       "    </tr>\n",
       "    <tr>\n",
       "      <th>3</th>\n",
       "      <td>18998739</td>\n",
       "      <td>The Sorcerer's Apprentice</td>\n",
       "      <td>NaN</td>\n",
       "      <td>2002</td>\n",
       "      <td>['English Language']</td>\n",
       "      <td>['South Africa']</td>\n",
       "      <td>['Family Film', 'Fantasy', 'Adventure', 'World...</td>\n",
       "      <td>Every hundred years, the evil Morgana  returns...</td>\n",
       "      <td>2002.0</td>\n",
       "      <td>NaN</td>\n",
       "    </tr>\n",
       "    <tr>\n",
       "      <th>4</th>\n",
       "      <td>6631279</td>\n",
       "      <td>Little city</td>\n",
       "      <td>NaN</td>\n",
       "      <td>1997-04-04</td>\n",
       "      <td>['English Language']</td>\n",
       "      <td>['United States of America']</td>\n",
       "      <td>['Romantic comedy', 'Ensemble Film', 'Comedy-d...</td>\n",
       "      <td>Adam, a San Francisco-based artist who works a...</td>\n",
       "      <td>1997.0</td>\n",
       "      <td>NaN</td>\n",
       "    </tr>\n",
       "  </tbody>\n",
       "</table>\n",
       "</div>"
      ],
      "text/plain": [
       "     WikiID                       Name     Revenue ReleaseDate  \\\n",
       "0    975900             Ghosts of Mars  14010832.0  2001-08-24   \n",
       "1   9363483           White Of The Eye         NaN        1987   \n",
       "2    261236          A Woman in Flames         NaN        1983   \n",
       "3  18998739  The Sorcerer's Apprentice         NaN        2002   \n",
       "4   6631279                Little city         NaN  1997-04-04   \n",
       "\n",
       "              Languages                     Countries  \\\n",
       "0  ['English Language']  ['United States of America']   \n",
       "1  ['English Language']            ['United Kingdom']   \n",
       "2   ['German Language']                   ['Germany']   \n",
       "3  ['English Language']              ['South Africa']   \n",
       "4  ['English Language']  ['United States of America']   \n",
       "\n",
       "                                              Genres  \\\n",
       "0  ['Thriller', 'Science Fiction', 'Horror', 'Adv...   \n",
       "1  ['Thriller', 'Erotic thriller', 'Psychological...   \n",
       "2                                          ['Drama']   \n",
       "3  ['Family Film', 'Fantasy', 'Adventure', 'World...   \n",
       "4  ['Romantic comedy', 'Ensemble Film', 'Comedy-d...   \n",
       "\n",
       "                                             Summary    Year  AdjustedRevenue  \n",
       "0  Set in the second half of the 22nd century, th...  2001.0     2.022468e+07  \n",
       "1  A series of murders of rich young women throug...  1987.0              NaN  \n",
       "2  Eva, an upper class housewife, becomes frustra...  1983.0              NaN  \n",
       "3  Every hundred years, the evil Morgana  returns...  2002.0              NaN  \n",
       "4  Adam, a San Francisco-based artist who works a...  1997.0              NaN  "
      ]
     },
     "execution_count": 2,
     "metadata": {},
     "output_type": "execute_result"
    }
   ],
   "source": [
    "dfCMU = pd.read_csv(\"ExportedData/cleanCMURevenueAdjusted.tsv\", sep=\"\\t\")\n",
    "dfCMU.head()"
   ]
  },
  {
   "cell_type": "code",
   "execution_count": 3,
   "metadata": {},
   "outputs": [],
   "source": [
    "dfCMU[\"Decade\"] = 10 * np.round(dfCMU[\"Year\"]/10)"
   ]
  },
  {
   "cell_type": "code",
   "execution_count": 4,
   "metadata": {},
   "outputs": [],
   "source": [
    "# train test split\n",
    "train, test = train_test_split(dfCMU, test_size=0.2)\n",
    "train = train.dropna()\n",
    "test = test.dropna()"
   ]
  },
  {
   "cell_type": "code",
   "execution_count": 5,
   "metadata": {},
   "outputs": [
    {
     "data": {
      "text/html": [
       "<div>\n",
       "<style scoped>\n",
       "    .dataframe tbody tr th:only-of-type {\n",
       "        vertical-align: middle;\n",
       "    }\n",
       "\n",
       "    .dataframe tbody tr th {\n",
       "        vertical-align: top;\n",
       "    }\n",
       "\n",
       "    .dataframe thead th {\n",
       "        text-align: right;\n",
       "    }\n",
       "</style>\n",
       "<table border=\"1\" class=\"dataframe\">\n",
       "  <thead>\n",
       "    <tr style=\"text-align: right;\">\n",
       "      <th></th>\n",
       "      <th>WikiID</th>\n",
       "      <th>Name</th>\n",
       "      <th>Revenue</th>\n",
       "      <th>ReleaseDate</th>\n",
       "      <th>Languages</th>\n",
       "      <th>Countries</th>\n",
       "      <th>Genres</th>\n",
       "      <th>Summary</th>\n",
       "      <th>Year</th>\n",
       "      <th>AdjustedRevenue</th>\n",
       "      <th>Decade</th>\n",
       "    </tr>\n",
       "  </thead>\n",
       "  <tbody>\n",
       "    <tr>\n",
       "      <th>37019</th>\n",
       "      <td>18609739</td>\n",
       "      <td>Broken Embraces</td>\n",
       "      <td>30991660.0</td>\n",
       "      <td>2009-03-17</td>\n",
       "      <td>['Slovak Language', 'Russian Language', 'Engli...</td>\n",
       "      <td>['United States of America', 'Spain', 'Slovak ...</td>\n",
       "      <td>['Thriller', 'Biography', 'World cinema', 'Com...</td>\n",
       "      <td>Harry Caine  is a blind writer who shares his ...</td>\n",
       "      <td>2009.0</td>\n",
       "      <td>3.691547e+07</td>\n",
       "      <td>2010.0</td>\n",
       "    </tr>\n",
       "    <tr>\n",
       "      <th>5954</th>\n",
       "      <td>235418</td>\n",
       "      <td>Lethal Weapon</td>\n",
       "      <td>120207127.0</td>\n",
       "      <td>1987-03-06</td>\n",
       "      <td>['English Language']</td>\n",
       "      <td>['United States of America']</td>\n",
       "      <td>['Crime Fiction', 'Albino bias', 'Buddy film',...</td>\n",
       "      <td>L.A.P.D. Homicide Sergeant Roger Murtaugh  is ...</td>\n",
       "      <td>1987.0</td>\n",
       "      <td>2.705984e+08</td>\n",
       "      <td>1990.0</td>\n",
       "    </tr>\n",
       "    <tr>\n",
       "      <th>19047</th>\n",
       "      <td>2110936</td>\n",
       "      <td>Navy SEALs</td>\n",
       "      <td>25069101.0</td>\n",
       "      <td>1990-07-20</td>\n",
       "      <td>['Arabic Language', 'English Language']</td>\n",
       "      <td>['United States of America']</td>\n",
       "      <td>['Action/Adventure', 'Thriller', 'Action', 'Wa...</td>\n",
       "      <td>The {{USS}}, an aircraft carrier on station in...</td>\n",
       "      <td>1990.0</td>\n",
       "      <td>4.898780e+07</td>\n",
       "      <td>1990.0</td>\n",
       "    </tr>\n",
       "    <tr>\n",
       "      <th>16096</th>\n",
       "      <td>26282750</td>\n",
       "      <td>About Her Brother</td>\n",
       "      <td>19969473.0</td>\n",
       "      <td>2010-01-30</td>\n",
       "      <td>['Japanese Language']</td>\n",
       "      <td>['Japan']</td>\n",
       "      <td>['Japanese Movies', 'Family Drama', 'Drama', '...</td>\n",
       "      <td>The story unfolds as the young Koharu , the da...</td>\n",
       "      <td>2010.0</td>\n",
       "      <td>2.340459e+07</td>\n",
       "      <td>2010.0</td>\n",
       "    </tr>\n",
       "    <tr>\n",
       "      <th>10640</th>\n",
       "      <td>1839695</td>\n",
       "      <td>Darkman</td>\n",
       "      <td>48878502.0</td>\n",
       "      <td>1990-08-24</td>\n",
       "      <td>['English Language']</td>\n",
       "      <td>['United States of America']</td>\n",
       "      <td>['Crime Fiction', 'Thriller', 'Science Fiction...</td>\n",
       "      <td>Scientist Dr. Peyton Westlake  is developing a...</td>\n",
       "      <td>1990.0</td>\n",
       "      <td>9.551401e+07</td>\n",
       "      <td>1990.0</td>\n",
       "    </tr>\n",
       "  </tbody>\n",
       "</table>\n",
       "</div>"
      ],
      "text/plain": [
       "         WikiID               Name      Revenue ReleaseDate  \\\n",
       "37019  18609739    Broken Embraces   30991660.0  2009-03-17   \n",
       "5954     235418      Lethal Weapon  120207127.0  1987-03-06   \n",
       "19047   2110936         Navy SEALs   25069101.0  1990-07-20   \n",
       "16096  26282750  About Her Brother   19969473.0  2010-01-30   \n",
       "10640   1839695            Darkman   48878502.0  1990-08-24   \n",
       "\n",
       "                                               Languages  \\\n",
       "37019  ['Slovak Language', 'Russian Language', 'Engli...   \n",
       "5954                                ['English Language']   \n",
       "19047            ['Arabic Language', 'English Language']   \n",
       "16096                              ['Japanese Language']   \n",
       "10640                               ['English Language']   \n",
       "\n",
       "                                               Countries  \\\n",
       "37019  ['United States of America', 'Spain', 'Slovak ...   \n",
       "5954                        ['United States of America']   \n",
       "19047                       ['United States of America']   \n",
       "16096                                          ['Japan']   \n",
       "10640                       ['United States of America']   \n",
       "\n",
       "                                                  Genres  \\\n",
       "37019  ['Thriller', 'Biography', 'World cinema', 'Com...   \n",
       "5954   ['Crime Fiction', 'Albino bias', 'Buddy film',...   \n",
       "19047  ['Action/Adventure', 'Thriller', 'Action', 'Wa...   \n",
       "16096  ['Japanese Movies', 'Family Drama', 'Drama', '...   \n",
       "10640  ['Crime Fiction', 'Thriller', 'Science Fiction...   \n",
       "\n",
       "                                                 Summary    Year  \\\n",
       "37019  Harry Caine  is a blind writer who shares his ...  2009.0   \n",
       "5954   L.A.P.D. Homicide Sergeant Roger Murtaugh  is ...  1987.0   \n",
       "19047  The {{USS}}, an aircraft carrier on station in...  1990.0   \n",
       "16096  The story unfolds as the young Koharu , the da...  2010.0   \n",
       "10640  Scientist Dr. Peyton Westlake  is developing a...  1990.0   \n",
       "\n",
       "       AdjustedRevenue  Decade  \n",
       "37019     3.691547e+07  2010.0  \n",
       "5954      2.705984e+08  1990.0  \n",
       "19047     4.898780e+07  1990.0  \n",
       "16096     2.340459e+07  2010.0  \n",
       "10640     9.551401e+07  1990.0  "
      ]
     },
     "execution_count": 5,
     "metadata": {},
     "output_type": "execute_result"
    }
   ],
   "source": [
    "train.head()"
   ]
  },
  {
   "cell_type": "code",
   "execution_count": 6,
   "metadata": {
    "scrolled": true
   },
   "outputs": [],
   "source": [
    "train_y = train[\"Decade\"]\n",
    "# train_X = train.drop([\"Decade\", \"Year\", \"ReleaseDate\"], axis=1)\n",
    "train_X = train[[\"Name\", \"Revenue\", \"Languages\", \"Countries\", \"Genres\", \"Summary\", \"AdjustedRevenue\"]]\n",
    "\n",
    "test_y = test[\"Decade\"]\n",
    "# train_X = train.drop([\"Decade\", \"Year\", \"ReleaseDate\"], axis=1)\n",
    "test_X = test[[\"Name\", \"Revenue\", \"Languages\", \"Countries\", \"Genres\", \"Summary\", \"AdjustedRevenue\"]]"
   ]
  },
  {
   "cell_type": "markdown",
   "metadata": {},
   "source": [
    "### Decade from title"
   ]
  },
  {
   "cell_type": "markdown",
   "metadata": {},
   "source": [
    "Bayes"
   ]
  },
  {
   "cell_type": "code",
   "execution_count": 11,
   "metadata": {},
   "outputs": [],
   "source": [
    "from sklearn.feature_extraction.text import CountVectorizer\n",
    "\n",
    "titleTokenizer = CountVectorizer()\n",
    "trainTItle = titleTokenizer.fit_transform(train_X[\"Name\"])\n",
    "tokenizedTest = titleTokenizer.transform(test_X[\"Name\"])"
   ]
  },
  {
   "cell_type": "code",
   "execution_count": 12,
   "metadata": {},
   "outputs": [
    {
     "data": {
      "text/plain": [
       "GaussianNB(priors=None, var_smoothing=1e-09)"
      ]
     },
     "execution_count": 12,
     "metadata": {},
     "output_type": "execute_result"
    }
   ],
   "source": [
    "gb = GaussianNB()\n",
    "gb.fit(tokenizedTraining.toarray(), train_y)"
   ]
  },
  {
   "cell_type": "code",
   "execution_count": 13,
   "metadata": {},
   "outputs": [],
   "source": [
    "predictions = gb.predict(tokenizedTest.toarray())"
   ]
  },
  {
   "cell_type": "code",
   "execution_count": 14,
   "metadata": {},
   "outputs": [
    {
     "data": {
      "text/plain": [
       "0.1467828418230563"
      ]
     },
     "execution_count": 14,
     "metadata": {},
     "output_type": "execute_result"
    }
   ],
   "source": [
    "sum(predictions == test_y)/len(predictions)"
   ]
  },
  {
   "cell_type": "markdown",
   "metadata": {},
   "source": [
    "knn"
   ]
  },
  {
   "cell_type": "code",
   "execution_count": 15,
   "metadata": {},
   "outputs": [
    {
     "data": {
      "text/plain": [
       "KNeighborsClassifier(algorithm='auto', leaf_size=30, metric='minkowski',\n",
       "           metric_params=None, n_jobs=None, n_neighbors=5, p=2,\n",
       "           weights='uniform')"
      ]
     },
     "execution_count": 15,
     "metadata": {},
     "output_type": "execute_result"
    }
   ],
   "source": [
    "from sklearn.neighbors import KNeighborsClassifier\n",
    "\n",
    "knn = KNeighborsClassifier()\n",
    "knn.fit(tokenizedTraining.toarray(), train_y)"
   ]
  },
  {
   "cell_type": "code",
   "execution_count": 16,
   "metadata": {},
   "outputs": [],
   "source": [
    "predict = knn.predict(tokenizedTest.toarray())"
   ]
  },
  {
   "cell_type": "code",
   "execution_count": 17,
   "metadata": {},
   "outputs": [
    {
     "data": {
      "text/plain": [
       "0.21648793565683647"
      ]
     },
     "execution_count": 17,
     "metadata": {},
     "output_type": "execute_result"
    }
   ],
   "source": [
    "sum(predict == test_y)/len(predict)"
   ]
  },
  {
   "cell_type": "code",
   "execution_count": 18,
   "metadata": {},
   "outputs": [
    {
     "data": {
      "text/plain": [
       "5426"
      ]
     },
     "execution_count": 18,
     "metadata": {},
     "output_type": "execute_result"
    }
   ],
   "source": [
    "len(tokenizedTest.toarray()[0])"
   ]
  },
  {
   "cell_type": "markdown",
   "metadata": {},
   "source": [
    "### Decade from plot summary"
   ]
  },
  {
   "cell_type": "code",
   "execution_count": 19,
   "metadata": {},
   "outputs": [],
   "source": [
    "plotTokenizer = CountVectorizer()\n",
    "trainPlots = plotTokenizer.fit_transform(train_X[\"Summary\"])\n",
    "testPlots = plotTokenizer.transform(test_X[\"Summary\"])"
   ]
  },
  {
   "cell_type": "markdown",
   "metadata": {},
   "source": [
    "Bayes"
   ]
  },
  {
   "cell_type": "code",
   "execution_count": 20,
   "metadata": {},
   "outputs": [
    {
     "data": {
      "text/plain": [
       "GaussianNB(priors=None, var_smoothing=1e-09)"
      ]
     },
     "execution_count": 20,
     "metadata": {},
     "output_type": "execute_result"
    }
   ],
   "source": [
    "gb = GaussianNB()\n",
    "gb.fit(trainPlots.toarray(), train_y)"
   ]
  },
  {
   "cell_type": "code",
   "execution_count": 21,
   "metadata": {},
   "outputs": [
    {
     "data": {
      "text/plain": [
       "0.3116621983914209"
      ]
     },
     "execution_count": 21,
     "metadata": {},
     "output_type": "execute_result"
    }
   ],
   "source": [
    "predict = gb.predict(testPlots.toarray())\n",
    "sum(predict == test_y)/len(predict)"
   ]
  },
  {
   "cell_type": "markdown",
   "metadata": {},
   "source": [
    "KNN"
   ]
  },
  {
   "cell_type": "code",
   "execution_count": 22,
   "metadata": {},
   "outputs": [
    {
     "data": {
      "text/plain": [
       "KNeighborsClassifier(algorithm='auto', leaf_size=30, metric='minkowski',\n",
       "           metric_params=None, n_jobs=None, n_neighbors=5, p=2,\n",
       "           weights='uniform')"
      ]
     },
     "execution_count": 22,
     "metadata": {},
     "output_type": "execute_result"
    }
   ],
   "source": [
    "from sklearn.neighbors import KNeighborsClassifier\n",
    "\n",
    "knn = KNeighborsClassifier()\n",
    "knn.fit(trainPlots.toarray(), train_y)"
   ]
  },
  {
   "cell_type": "code",
   "execution_count": 23,
   "metadata": {},
   "outputs": [],
   "source": [
    "predict = knn.predict(testPlots.toarray())"
   ]
  },
  {
   "cell_type": "code",
   "execution_count": 24,
   "metadata": {},
   "outputs": [
    {
     "data": {
      "text/plain": [
       "0.23927613941018766"
      ]
     },
     "execution_count": 24,
     "metadata": {},
     "output_type": "execute_result"
    }
   ],
   "source": [
    "sum(predict == test_y)/len(predict)"
   ]
  },
  {
   "cell_type": "markdown",
   "metadata": {},
   "source": [
    "Predict based off of title and plot summary"
   ]
  },
  {
   "cell_type": "code",
   "execution_count": null,
   "metadata": {},
   "outputs": [],
   "source": [
    "trainFeatures = np.array([plotTokenizerainPlots, tokenizedTraining.toarray()])"
   ]
  },
  {
   "cell_type": "markdown",
   "metadata": {},
   "source": [
    "Use NLTK"
   ]
  },
  {
   "cell_type": "code",
   "execution_count": null,
   "metadata": {},
   "outputs": [],
   "source": [
    "from nltk import "
   ]
  },
  {
   "cell_type": "code",
   "execution_count": null,
   "metadata": {},
   "outputs": [],
   "source": [
    "stemmer = "
   ]
  }
 ],
 "metadata": {
  "kernelspec": {
   "display_name": "Python 3",
   "language": "python",
   "name": "python3"
  },
  "language_info": {
   "codemirror_mode": {
    "name": "ipython",
    "version": 3
   },
   "file_extension": ".py",
   "mimetype": "text/x-python",
   "name": "python",
   "nbconvert_exporter": "python",
   "pygments_lexer": "ipython3",
   "version": "3.6.7"
  }
 },
 "nbformat": 4,
 "nbformat_minor": 2
}
