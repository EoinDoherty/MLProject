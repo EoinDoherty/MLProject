{
 "cells": [
  {
   "cell_type": "code",
   "execution_count": 125,
   "metadata": {},
   "outputs": [],
   "source": [
    "import pandas as pd\n",
    "import numpy as np"
   ]
  },
  {
   "cell_type": "code",
   "execution_count": 126,
   "metadata": {},
   "outputs": [
    {
     "data": {
      "text/html": [
       "<div>\n",
       "<style scoped>\n",
       "    .dataframe tbody tr th:only-of-type {\n",
       "        vertical-align: middle;\n",
       "    }\n",
       "\n",
       "    .dataframe tbody tr th {\n",
       "        vertical-align: top;\n",
       "    }\n",
       "\n",
       "    .dataframe thead th {\n",
       "        text-align: right;\n",
       "    }\n",
       "</style>\n",
       "<table border=\"1\" class=\"dataframe\">\n",
       "  <thead>\n",
       "    <tr style=\"text-align: right;\">\n",
       "      <th></th>\n",
       "      <th>WikiID</th>\n",
       "      <th>Name</th>\n",
       "      <th>Revenue</th>\n",
       "      <th>ReleaseDate</th>\n",
       "      <th>Languages</th>\n",
       "      <th>Countries</th>\n",
       "      <th>Genres</th>\n",
       "      <th>Summary</th>\n",
       "      <th>Year</th>\n",
       "      <th>AdjustedRevenue</th>\n",
       "    </tr>\n",
       "  </thead>\n",
       "  <tbody>\n",
       "    <tr>\n",
       "      <th>0</th>\n",
       "      <td>975900</td>\n",
       "      <td>Ghosts of Mars</td>\n",
       "      <td>14010832.0</td>\n",
       "      <td>2001-08-24</td>\n",
       "      <td>[English Language]</td>\n",
       "      <td>[United States of America]</td>\n",
       "      <td>[Thriller, Science Fiction, Horror, Adventure,...</td>\n",
       "      <td>Set in the second half of the 22nd century, th...</td>\n",
       "      <td>2001.0</td>\n",
       "      <td>2.022468e+07</td>\n",
       "    </tr>\n",
       "    <tr>\n",
       "      <th>5</th>\n",
       "      <td>171005</td>\n",
       "      <td>Henry V</td>\n",
       "      <td>10161099.0</td>\n",
       "      <td>1989-11-08</td>\n",
       "      <td>[English Language]</td>\n",
       "      <td>[United Kingdom]</td>\n",
       "      <td>[Costume drama, War film, Epic, Period piece, ...</td>\n",
       "      <td>{{Plot|dateAct 1Act 2Act 3Act 4Act 5 Finally n...</td>\n",
       "      <td>1989.0</td>\n",
       "      <td>2.093678e+07</td>\n",
       "    </tr>\n",
       "    <tr>\n",
       "      <th>8</th>\n",
       "      <td>77856</td>\n",
       "      <td>Mary Poppins</td>\n",
       "      <td>102272727.0</td>\n",
       "      <td>1964-08-27</td>\n",
       "      <td>[English Language]</td>\n",
       "      <td>[United States of America]</td>\n",
       "      <td>[Children's/Family, Musical, Fantasy, Comedy, ...</td>\n",
       "      <td>The film opens with Mary Poppins  perched in a...</td>\n",
       "      <td>1964.0</td>\n",
       "      <td>8.429252e+08</td>\n",
       "    </tr>\n",
       "    <tr>\n",
       "      <th>12</th>\n",
       "      <td>156558</td>\n",
       "      <td>Baby Boy</td>\n",
       "      <td>29381649.0</td>\n",
       "      <td>2001-06-27</td>\n",
       "      <td>[English Language]</td>\n",
       "      <td>[United States of America]</td>\n",
       "      <td>[Crime Fiction, Drama, Coming of age]</td>\n",
       "      <td>A young 20-year-old named Jody  lives with his...</td>\n",
       "      <td>2001.0</td>\n",
       "      <td>4.241249e+07</td>\n",
       "    </tr>\n",
       "    <tr>\n",
       "      <th>22</th>\n",
       "      <td>261237</td>\n",
       "      <td>The Gods Must Be Crazy</td>\n",
       "      <td>34331783.0</td>\n",
       "      <td>1980</td>\n",
       "      <td>[Afrikaans Language, English Language]</td>\n",
       "      <td>[South Africa]</td>\n",
       "      <td>[Adventure, Action/Adventure, Indie, World cin...</td>\n",
       "      <td>The film is a collision of three separate stor...</td>\n",
       "      <td>1980.0</td>\n",
       "      <td>1.066477e+08</td>\n",
       "    </tr>\n",
       "  </tbody>\n",
       "</table>\n",
       "</div>"
      ],
      "text/plain": [
       "    WikiID                    Name      Revenue ReleaseDate  \\\n",
       "0   975900          Ghosts of Mars   14010832.0  2001-08-24   \n",
       "5   171005                 Henry V   10161099.0  1989-11-08   \n",
       "8    77856            Mary Poppins  102272727.0  1964-08-27   \n",
       "12  156558                Baby Boy   29381649.0  2001-06-27   \n",
       "22  261237  The Gods Must Be Crazy   34331783.0        1980   \n",
       "\n",
       "                                 Languages                   Countries  \\\n",
       "0                       [English Language]  [United States of America]   \n",
       "5                       [English Language]            [United Kingdom]   \n",
       "8                       [English Language]  [United States of America]   \n",
       "12                      [English Language]  [United States of America]   \n",
       "22  [Afrikaans Language, English Language]              [South Africa]   \n",
       "\n",
       "                                               Genres  \\\n",
       "0   [Thriller, Science Fiction, Horror, Adventure,...   \n",
       "5   [Costume drama, War film, Epic, Period piece, ...   \n",
       "8   [Children's/Family, Musical, Fantasy, Comedy, ...   \n",
       "12              [Crime Fiction, Drama, Coming of age]   \n",
       "22  [Adventure, Action/Adventure, Indie, World cin...   \n",
       "\n",
       "                                              Summary    Year  AdjustedRevenue  \n",
       "0   Set in the second half of the 22nd century, th...  2001.0     2.022468e+07  \n",
       "5   {{Plot|dateAct 1Act 2Act 3Act 4Act 5 Finally n...  1989.0     2.093678e+07  \n",
       "8   The film opens with Mary Poppins  perched in a...  1964.0     8.429252e+08  \n",
       "12  A young 20-year-old named Jody  lives with his...  2001.0     4.241249e+07  \n",
       "22  The film is a collision of three separate stor...  1980.0     1.066477e+08  "
      ]
     },
     "execution_count": 126,
     "metadata": {},
     "output_type": "execute_result"
    }
   ],
   "source": [
    "df = pd.read_csv(\"ExportedData/cleanCMURevenueAdjusted.tsv\", sep=\"\\t\")\n",
    "\n",
    "df[\"Languages\"] = df[\"Languages\"].apply(lambda x: eval(x))\n",
    "df[\"Languages\"] = df[df[\"Languages\"].map(len) > 0][\"Languages\"]\n",
    "\n",
    "df[\"Genres\"] = df[\"Genres\"].apply(lambda x: eval(x))\n",
    "df[\"Genres\"] = df[df[\"Genres\"].map(len) > 0][\"Genres\"]\n",
    "\n",
    "df[\"Countries\"] = df[\"Countries\"].apply(lambda x: eval(x))\n",
    "df[\"Countries\"] = df[df[\"Countries\"].map(len) > 0][\"Countries\"]\n",
    "\n",
    "df = df.dropna()\n",
    "df.head()"
   ]
  },
  {
   "cell_type": "code",
   "execution_count": 127,
   "metadata": {
    "scrolled": false
   },
   "outputs": [
    {
     "data": {
      "text/plain": [
       "7295"
      ]
     },
     "execution_count": 127,
     "metadata": {},
     "output_type": "execute_result"
    }
   ],
   "source": [
    "len(df)"
   ]
  },
  {
   "cell_type": "code",
   "execution_count": 128,
   "metadata": {},
   "outputs": [
    {
     "data": {
      "text/html": [
       "<div>\n",
       "<style scoped>\n",
       "    .dataframe tbody tr th:only-of-type {\n",
       "        vertical-align: middle;\n",
       "    }\n",
       "\n",
       "    .dataframe tbody tr th {\n",
       "        vertical-align: top;\n",
       "    }\n",
       "\n",
       "    .dataframe thead th {\n",
       "        text-align: right;\n",
       "    }\n",
       "</style>\n",
       "<table border=\"1\" class=\"dataframe\">\n",
       "  <thead>\n",
       "    <tr style=\"text-align: right;\">\n",
       "      <th></th>\n",
       "      <th>WikiID</th>\n",
       "      <th>Name</th>\n",
       "      <th>Revenue</th>\n",
       "      <th>ReleaseDate</th>\n",
       "      <th>Languages</th>\n",
       "      <th>Countries</th>\n",
       "      <th>Genres</th>\n",
       "      <th>Summary</th>\n",
       "      <th>Year</th>\n",
       "      <th>AdjustedRevenue</th>\n",
       "      <th>ForeignLanguage</th>\n",
       "    </tr>\n",
       "  </thead>\n",
       "  <tbody>\n",
       "    <tr>\n",
       "      <th>0</th>\n",
       "      <td>975900</td>\n",
       "      <td>Ghosts of Mars</td>\n",
       "      <td>14010832.0</td>\n",
       "      <td>2001-08-24</td>\n",
       "      <td>[English Language]</td>\n",
       "      <td>[United States of America]</td>\n",
       "      <td>[Thriller, Science Fiction, Horror, Adventure,...</td>\n",
       "      <td>Set in the second half of the 22nd century, th...</td>\n",
       "      <td>2001.0</td>\n",
       "      <td>2.022468e+07</td>\n",
       "      <td>1</td>\n",
       "    </tr>\n",
       "    <tr>\n",
       "      <th>5</th>\n",
       "      <td>171005</td>\n",
       "      <td>Henry V</td>\n",
       "      <td>10161099.0</td>\n",
       "      <td>1989-11-08</td>\n",
       "      <td>[English Language]</td>\n",
       "      <td>[United Kingdom]</td>\n",
       "      <td>[Costume drama, War film, Epic, Period piece, ...</td>\n",
       "      <td>{{Plot|dateAct 1Act 2Act 3Act 4Act 5 Finally n...</td>\n",
       "      <td>1989.0</td>\n",
       "      <td>2.093678e+07</td>\n",
       "      <td>1</td>\n",
       "    </tr>\n",
       "    <tr>\n",
       "      <th>8</th>\n",
       "      <td>77856</td>\n",
       "      <td>Mary Poppins</td>\n",
       "      <td>102272727.0</td>\n",
       "      <td>1964-08-27</td>\n",
       "      <td>[English Language]</td>\n",
       "      <td>[United States of America]</td>\n",
       "      <td>[Children's/Family, Musical, Fantasy, Comedy, ...</td>\n",
       "      <td>The film opens with Mary Poppins  perched in a...</td>\n",
       "      <td>1964.0</td>\n",
       "      <td>8.429252e+08</td>\n",
       "      <td>1</td>\n",
       "    </tr>\n",
       "    <tr>\n",
       "      <th>12</th>\n",
       "      <td>156558</td>\n",
       "      <td>Baby Boy</td>\n",
       "      <td>29381649.0</td>\n",
       "      <td>2001-06-27</td>\n",
       "      <td>[English Language]</td>\n",
       "      <td>[United States of America]</td>\n",
       "      <td>[Crime Fiction, Drama, Coming of age]</td>\n",
       "      <td>A young 20-year-old named Jody  lives with his...</td>\n",
       "      <td>2001.0</td>\n",
       "      <td>4.241249e+07</td>\n",
       "      <td>1</td>\n",
       "    </tr>\n",
       "    <tr>\n",
       "      <th>22</th>\n",
       "      <td>261237</td>\n",
       "      <td>The Gods Must Be Crazy</td>\n",
       "      <td>34331783.0</td>\n",
       "      <td>1980</td>\n",
       "      <td>[Afrikaans Language, English Language]</td>\n",
       "      <td>[South Africa]</td>\n",
       "      <td>[Adventure, Action/Adventure, Indie, World cin...</td>\n",
       "      <td>The film is a collision of three separate stor...</td>\n",
       "      <td>1980.0</td>\n",
       "      <td>1.066477e+08</td>\n",
       "      <td>1</td>\n",
       "    </tr>\n",
       "  </tbody>\n",
       "</table>\n",
       "</div>"
      ],
      "text/plain": [
       "    WikiID                    Name      Revenue ReleaseDate  \\\n",
       "0   975900          Ghosts of Mars   14010832.0  2001-08-24   \n",
       "5   171005                 Henry V   10161099.0  1989-11-08   \n",
       "8    77856            Mary Poppins  102272727.0  1964-08-27   \n",
       "12  156558                Baby Boy   29381649.0  2001-06-27   \n",
       "22  261237  The Gods Must Be Crazy   34331783.0        1980   \n",
       "\n",
       "                                 Languages                   Countries  \\\n",
       "0                       [English Language]  [United States of America]   \n",
       "5                       [English Language]            [United Kingdom]   \n",
       "8                       [English Language]  [United States of America]   \n",
       "12                      [English Language]  [United States of America]   \n",
       "22  [Afrikaans Language, English Language]              [South Africa]   \n",
       "\n",
       "                                               Genres  \\\n",
       "0   [Thriller, Science Fiction, Horror, Adventure,...   \n",
       "5   [Costume drama, War film, Epic, Period piece, ...   \n",
       "8   [Children's/Family, Musical, Fantasy, Comedy, ...   \n",
       "12              [Crime Fiction, Drama, Coming of age]   \n",
       "22  [Adventure, Action/Adventure, Indie, World cin...   \n",
       "\n",
       "                                              Summary    Year  \\\n",
       "0   Set in the second half of the 22nd century, th...  2001.0   \n",
       "5   {{Plot|dateAct 1Act 2Act 3Act 4Act 5 Finally n...  1989.0   \n",
       "8   The film opens with Mary Poppins  perched in a...  1964.0   \n",
       "12  A young 20-year-old named Jody  lives with his...  2001.0   \n",
       "22  The film is a collision of three separate stor...  1980.0   \n",
       "\n",
       "    AdjustedRevenue  ForeignLanguage  \n",
       "0      2.022468e+07                1  \n",
       "5      2.093678e+07                1  \n",
       "8      8.429252e+08                1  \n",
       "12     4.241249e+07                1  \n",
       "22     1.066477e+08                1  "
      ]
     },
     "execution_count": 128,
     "metadata": {},
     "output_type": "execute_result"
    }
   ],
   "source": [
    "englishes = set(['American English', 'English Language'])\n",
    "\n",
    "englishOrNo = []\n",
    "\n",
    "for language in df[\"Languages\"]:\n",
    "    counter = 0\n",
    "    for lang in language:\n",
    "        if lang in englishes:\n",
    "            counter = 1\n",
    "    englishOrNo.append(counter)\n",
    "\n",
    "df[\"ForeignLanguage\"] = englishOrNo\n",
    "df.head()"
   ]
  },
  {
   "cell_type": "code",
   "execution_count": 129,
   "metadata": {},
   "outputs": [
    {
     "data": {
      "text/html": [
       "<div>\n",
       "<style scoped>\n",
       "    .dataframe tbody tr th:only-of-type {\n",
       "        vertical-align: middle;\n",
       "    }\n",
       "\n",
       "    .dataframe tbody tr th {\n",
       "        vertical-align: top;\n",
       "    }\n",
       "\n",
       "    .dataframe thead th {\n",
       "        text-align: right;\n",
       "    }\n",
       "</style>\n",
       "<table border=\"1\" class=\"dataframe\">\n",
       "  <thead>\n",
       "    <tr style=\"text-align: right;\">\n",
       "      <th></th>\n",
       "      <th>WikiID</th>\n",
       "      <th>Name</th>\n",
       "      <th>Revenue</th>\n",
       "      <th>ReleaseDate</th>\n",
       "      <th>Languages</th>\n",
       "      <th>Countries</th>\n",
       "      <th>Genres</th>\n",
       "      <th>Summary</th>\n",
       "      <th>Year</th>\n",
       "      <th>AdjustedRevenue</th>\n",
       "      <th>ForeignLanguage</th>\n",
       "      <th>International</th>\n",
       "    </tr>\n",
       "  </thead>\n",
       "  <tbody>\n",
       "    <tr>\n",
       "      <th>0</th>\n",
       "      <td>975900</td>\n",
       "      <td>Ghosts of Mars</td>\n",
       "      <td>14010832.0</td>\n",
       "      <td>2001-08-24</td>\n",
       "      <td>[English Language]</td>\n",
       "      <td>[United States of America]</td>\n",
       "      <td>[Thriller, Science Fiction, Horror, Adventure,...</td>\n",
       "      <td>Set in the second half of the 22nd century, th...</td>\n",
       "      <td>2001.0</td>\n",
       "      <td>2.022468e+07</td>\n",
       "      <td>1</td>\n",
       "      <td>0</td>\n",
       "    </tr>\n",
       "    <tr>\n",
       "      <th>5</th>\n",
       "      <td>171005</td>\n",
       "      <td>Henry V</td>\n",
       "      <td>10161099.0</td>\n",
       "      <td>1989-11-08</td>\n",
       "      <td>[English Language]</td>\n",
       "      <td>[United Kingdom]</td>\n",
       "      <td>[Costume drama, War film, Epic, Period piece, ...</td>\n",
       "      <td>{{Plot|dateAct 1Act 2Act 3Act 4Act 5 Finally n...</td>\n",
       "      <td>1989.0</td>\n",
       "      <td>2.093678e+07</td>\n",
       "      <td>1</td>\n",
       "      <td>1</td>\n",
       "    </tr>\n",
       "    <tr>\n",
       "      <th>8</th>\n",
       "      <td>77856</td>\n",
       "      <td>Mary Poppins</td>\n",
       "      <td>102272727.0</td>\n",
       "      <td>1964-08-27</td>\n",
       "      <td>[English Language]</td>\n",
       "      <td>[United States of America]</td>\n",
       "      <td>[Children's/Family, Musical, Fantasy, Comedy, ...</td>\n",
       "      <td>The film opens with Mary Poppins  perched in a...</td>\n",
       "      <td>1964.0</td>\n",
       "      <td>8.429252e+08</td>\n",
       "      <td>1</td>\n",
       "      <td>0</td>\n",
       "    </tr>\n",
       "    <tr>\n",
       "      <th>12</th>\n",
       "      <td>156558</td>\n",
       "      <td>Baby Boy</td>\n",
       "      <td>29381649.0</td>\n",
       "      <td>2001-06-27</td>\n",
       "      <td>[English Language]</td>\n",
       "      <td>[United States of America]</td>\n",
       "      <td>[Crime Fiction, Drama, Coming of age]</td>\n",
       "      <td>A young 20-year-old named Jody  lives with his...</td>\n",
       "      <td>2001.0</td>\n",
       "      <td>4.241249e+07</td>\n",
       "      <td>1</td>\n",
       "      <td>0</td>\n",
       "    </tr>\n",
       "    <tr>\n",
       "      <th>22</th>\n",
       "      <td>261237</td>\n",
       "      <td>The Gods Must Be Crazy</td>\n",
       "      <td>34331783.0</td>\n",
       "      <td>1980</td>\n",
       "      <td>[Afrikaans Language, English Language]</td>\n",
       "      <td>[South Africa]</td>\n",
       "      <td>[Adventure, Action/Adventure, Indie, World cin...</td>\n",
       "      <td>The film is a collision of three separate stor...</td>\n",
       "      <td>1980.0</td>\n",
       "      <td>1.066477e+08</td>\n",
       "      <td>1</td>\n",
       "      <td>1</td>\n",
       "    </tr>\n",
       "  </tbody>\n",
       "</table>\n",
       "</div>"
      ],
      "text/plain": [
       "    WikiID                    Name      Revenue ReleaseDate  \\\n",
       "0   975900          Ghosts of Mars   14010832.0  2001-08-24   \n",
       "5   171005                 Henry V   10161099.0  1989-11-08   \n",
       "8    77856            Mary Poppins  102272727.0  1964-08-27   \n",
       "12  156558                Baby Boy   29381649.0  2001-06-27   \n",
       "22  261237  The Gods Must Be Crazy   34331783.0        1980   \n",
       "\n",
       "                                 Languages                   Countries  \\\n",
       "0                       [English Language]  [United States of America]   \n",
       "5                       [English Language]            [United Kingdom]   \n",
       "8                       [English Language]  [United States of America]   \n",
       "12                      [English Language]  [United States of America]   \n",
       "22  [Afrikaans Language, English Language]              [South Africa]   \n",
       "\n",
       "                                               Genres  \\\n",
       "0   [Thriller, Science Fiction, Horror, Adventure,...   \n",
       "5   [Costume drama, War film, Epic, Period piece, ...   \n",
       "8   [Children's/Family, Musical, Fantasy, Comedy, ...   \n",
       "12              [Crime Fiction, Drama, Coming of age]   \n",
       "22  [Adventure, Action/Adventure, Indie, World cin...   \n",
       "\n",
       "                                              Summary    Year  \\\n",
       "0   Set in the second half of the 22nd century, th...  2001.0   \n",
       "5   {{Plot|dateAct 1Act 2Act 3Act 4Act 5 Finally n...  1989.0   \n",
       "8   The film opens with Mary Poppins  perched in a...  1964.0   \n",
       "12  A young 20-year-old named Jody  lives with his...  2001.0   \n",
       "22  The film is a collision of three separate stor...  1980.0   \n",
       "\n",
       "    AdjustedRevenue  ForeignLanguage  International  \n",
       "0      2.022468e+07                1              0  \n",
       "5      2.093678e+07                1              1  \n",
       "8      8.429252e+08                1              0  \n",
       "12     4.241249e+07                1              0  \n",
       "22     1.066477e+08                1              1  "
      ]
     },
     "execution_count": 129,
     "metadata": {},
     "output_type": "execute_result"
    }
   ],
   "source": [
    "us = 'United States of America'\n",
    "internationalFilms = []\n",
    "\n",
    "for country in df[\"Countries\"]:\n",
    "    counter = 1\n",
    "    for c in country:\n",
    "        if c == us:\n",
    "            counter = 0\n",
    "    internationalFilms.append(counter)\n",
    "\n",
    "df[\"International\"] = internationalFilms\n",
    "df.head()"
   ]
  },
  {
   "cell_type": "code",
   "execution_count": 130,
   "metadata": {},
   "outputs": [],
   "source": [
    "from sklearn.model_selection import train_test_split\n",
    "\n",
    "train, test = train_test_split(df, test_size=0.2)"
   ]
  },
  {
   "cell_type": "code",
   "execution_count": 135,
   "metadata": {},
   "outputs": [],
   "source": [
    "from nltk.corpus import stopwords\n",
    "from sklearn.feature_extraction.text import TfidfVectorizer\n",
    "\n",
    "rawPlots = train[\"Summary\"]\n",
    "\n",
    "plotVectorizer = TfidfVectorizer(max_features=500, stop_words=stopwords.words('english'))\n",
    "trainPlots = plotVectorizer.fit_transform(rawPlots).toarray()\n",
    "testPlots = plotVectorizer.transform(test[\"Summary\"]).toarray()"
   ]
  },
  {
   "cell_type": "code",
   "execution_count": 136,
   "metadata": {},
   "outputs": [],
   "source": [
    "def testClassifier(trainX, trainY, testX, testY, classifier):\n",
    "    classifier.fit(trainX, trainY)\n",
    "    prediction = classifier.predict(testX)\n",
    "    return sum(prediction == testY)/len(testY)"
   ]
  },
  {
   "cell_type": "code",
   "execution_count": 137,
   "metadata": {},
   "outputs": [
    {
     "data": {
      "text/plain": [
       "0.6106922549691569"
      ]
     },
     "execution_count": 137,
     "metadata": {},
     "output_type": "execute_result"
    }
   ],
   "source": [
    "from sklearn.naive_bayes import GaussianNB\n",
    "\n",
    "testClassifier(trainPlots, train[\"International\"], testPlots, test[\"International\"], GaussianNB())"
   ]
  },
  {
   "cell_type": "code",
   "execution_count": 139,
   "metadata": {},
   "outputs": [
    {
     "data": {
      "text/plain": [
       "0.8389307745030843"
      ]
     },
     "execution_count": 139,
     "metadata": {},
     "output_type": "execute_result"
    }
   ],
   "source": [
    "from sklearn.neighbors import KNeighborsClassifier\n",
    "\n",
    "testClassifier(trainPlots, train[\"International\"], testPlots, test[\"International\"], KNeighborsClassifier())"
   ]
  },
  {
   "cell_type": "code",
   "execution_count": 140,
   "metadata": {},
   "outputs": [
    {
     "data": {
      "text/plain": [
       "0.7710760795065114"
      ]
     },
     "execution_count": 140,
     "metadata": {},
     "output_type": "execute_result"
    }
   ],
   "source": [
    "from sklearn.tree import DecisionTreeClassifier\n",
    "\n",
    "testClassifier(trainPlots, train[\"International\"], testPlots, test[\"International\"], DecisionTreeClassifier())"
   ]
  },
  {
   "cell_type": "code",
   "execution_count": 141,
   "metadata": {},
   "outputs": [
    {
     "name": "stdout",
     "output_type": "stream",
     "text": [
      "0.8594928032899246 accuracy for 100\n",
      "0.8588074023303632 accuracy for 110\n",
      "0.8594928032899246 accuracy for 120\n",
      "0.8588074023303632 accuracy for 130\n",
      "0.8574366004112406 accuracy for 140\n",
      "0.8574366004112406 accuracy for 150\n",
      "0.8574366004112406 accuracy for 160\n",
      "0.8588074023303632 accuracy for 170\n",
      "0.8588074023303632 accuracy for 180\n",
      "0.8574366004112406 accuracy for 190\n"
     ]
    },
    {
     "data": {
      "text/plain": [
       "[<matplotlib.lines.Line2D at 0x1a27bc0e80>]"
      ]
     },
     "execution_count": 141,
     "metadata": {},
     "output_type": "execute_result"
    },
    {
     "data": {
      "image/png": "[encoded data removed]",
      "text/plain": [
       "<Figure size 432x288 with 1 Axes>"
      ]
     },
     "metadata": {
      "needs_background": "light"
     },
     "output_type": "display_data"
    }
   ],
   "source": [
    "import matplotlib.pyplot as plt\n",
    "from sklearn.ensemble import RandomForestClassifier\n",
    "%matplotlib inline\n",
    "\n",
    "ns = np.arange(100,200, 10)\n",
    "accuracies = []\n",
    "\n",
    "for n in ns:\n",
    "    accuracy = testClassifier(trainPlots, train[\"International\"], testPlots, test[\"International\"], RandomForestClassifier(n_estimators=n))\n",
    "    print(f\"{accuracy} accuracy for {n}\")\n",
    "    accuracies.append(accuracy)\n",
    "plt.plot(ns, accuracies)"
   ]
  },
  {
   "cell_type": "code",
   "execution_count": 143,
   "metadata": {},
   "outputs": [
    {
     "name": "stdout",
     "output_type": "stream",
     "text": [
      "0.8594928032899246 accuracy for 10\n",
      "0.858122001370802 accuracy for 20\n",
      "0.8485263879369431 accuracy for 30\n",
      "0.8444139821795751 accuracy for 40\n",
      "0.8505825908156271 accuracy for 50\n",
      "0.8464701850582591 accuracy for 60\n",
      "0.8519533927347498 accuracy for 70\n",
      "0.8560657984921178 accuracy for 80\n",
      "0.8540095956134338 accuracy for 90\n"
     ]
    },
    {
     "data": {
      "text/plain": [
       "[<matplotlib.lines.Line2D at 0x1a2b6a6588>]"
      ]
     },
     "execution_count": 143,
     "metadata": {},
     "output_type": "execute_result"
    },
    {
     "data": {
      "image/png": "[encoded data removed]",
      "text/plain": [
       "<Figure size 432x288 with 1 Axes>"
      ]
     },
     "metadata": {
      "needs_background": "light"
     },
     "output_type": "display_data"
    }
   ],
   "source": [
    "depths = np.arange(10,100, 10)\n",
    "accuracies = []\n",
    "\n",
    "for depth in depths:\n",
    "    accuracy = testClassifier(trainPlots, train[\"International\"], testPlots, test[\"International\"], RandomForestClassifier(n_estimators=10, max_depth=depth))\n",
    "    print(f\"{accuracy} accuracy for {depth}\")\n",
    "    accuracies.append(accuracy)\n",
    "plt.plot(depths, accuracies)"
   ]
  },
  {
   "cell_type": "code",
   "execution_count": 144,
   "metadata": {},
   "outputs": [
    {
     "data": {
      "text/plain": [
       "0.8588074023303632"
      ]
     },
     "execution_count": 144,
     "metadata": {},
     "output_type": "execute_result"
    }
   ],
   "source": [
    "testClassifier(trainPlots, train[\"International\"], testPlots, test[\"International\"], RandomForestClassifier(n_estimators=120, max_depth=10))"
   ]
  },
  {
   "cell_type": "code",
   "execution_count": 145,
   "metadata": {},
   "outputs": [
    {
     "name": "stdout",
     "output_type": "stream",
     "text": [
      "0.8553803975325566 for 10\n",
      "0.8519533927347498 for 20\n",
      "0.8567511994516792 for 30\n",
      "0.8498971898560658 for 40\n",
      "0.8457847840986977 for 50\n",
      "0.8444139821795751 for 60\n",
      "0.8464701850582591 for 70\n",
      "0.8416723783413297 for 80\n",
      "0.8382453735435229 for 90\n"
     ]
    },
    {
     "data": {
      "text/plain": [
       "[<matplotlib.lines.Line2D at 0x1a2791f198>]"
      ]
     },
     "execution_count": 145,
     "metadata": {},
     "output_type": "execute_result"
    },
    {
     "data": {
      "image/png": "[encoded data removed]",
      "text/plain": [
       "<Figure size 432x288 with 1 Axes>"
      ]
     },
     "metadata": {
      "needs_background": "light"
     },
     "output_type": "display_data"
    }
   ],
   "source": [
    "from sklearn.ensemble import AdaBoostClassifier\n",
    "\n",
    "accuracies = []\n",
    "ns = np.arange(10,100, 10)\n",
    "\n",
    "for n in ns:\n",
    "    accuracy = testClassifier(trainPlots, train[\"International\"], testPlots, test[\"International\"], AdaBoostClassifier(n_estimators=n))\n",
    "    print(f\"{accuracy} for {n}\")\n",
    "    accuracies.append(accuracy)\n",
    "plt.plot(ns, accuracies)"
   ]
  },
  {
   "cell_type": "code",
   "execution_count": 123,
   "metadata": {},
   "outputs": [
    {
     "data": {
      "text/plain": [
       "0.84893762851268"
      ]
     },
     "execution_count": 123,
     "metadata": {},
     "output_type": "execute_result"
    }
   ],
   "source": [
    "countries = set()\n",
    "counter = 0\n",
    "for ls in df[\"Countries\"]:\n",
    "    value = 0\n",
    "    for country in ls:\n",
    "        if country == us:\n",
    "            value = 1\n",
    "    counter += value\n",
    "counter/len(df)"
   ]
  }
 ],
 "metadata": {
  "kernelspec": {
   "display_name": "Python 3",
   "language": "python",
   "name": "python3"
  },
  "language_info": {
   "codemirror_mode": {
    "name": "ipython",
    "version": 3
   },
   "file_extension": ".py",
   "mimetype": "text/x-python",
   "name": "python",
   "nbconvert_exporter": "python",
   "pygments_lexer": "ipython3",
   "version": "3.6.7"
  }
 },
 "nbformat": 4,
 "nbformat_minor": 2
}
