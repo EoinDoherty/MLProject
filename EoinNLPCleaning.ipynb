{
 "cells": [
  {
   "cell_type": "code",
   "execution_count": 1,
   "metadata": {},
   "outputs": [],
   "source": [
    "import pandas as pd\n",
    "import numpy as np"
   ]
  },
  {
   "cell_type": "code",
   "execution_count": 45,
   "metadata": {},
   "outputs": [],
   "source": [
    "from nltk.corpus import stopwords\n",
    "from sklearn.model_selection import KFold\n",
    "from sklearn.feature_extraction.text import TfidfVectorizer\n",
    "\n",
    "def kFoldCheck(data, yFeature, XFeature, classifier, k=3):\n",
    "    kf = KFold(n_splits=k)\n",
    "    accuracies = []\n",
    "    \n",
    "    data_X = data[XFeature].values\n",
    "    data_y = data[yFeature].values\n",
    "    \n",
    "    for train, test in kf.split(data_X):\n",
    "        train_x = [data_X[i] for i in train]\n",
    "        train_y = [data_y[i] for i in train]\n",
    "        \n",
    "        test_x = [data_X[i] for i in test]\n",
    "        test_y = [data_y[i] for i in test]\n",
    "        \n",
    "        vectorizer = TfidfVectorizer(max_features=3000, stop_words=stopwords.words('english'))\n",
    "        train_x = vectorizer.fit_transform(train_x).toarray()\n",
    "        \n",
    "        test_x = vectorizer.transform(test_x).toarray()\n",
    "        \n",
    "        classifier.fit(train_x, train_y)\n",
    "        \n",
    "        prediction = classifier.predict(test_x)\n",
    "        \n",
    "        accuracy = (np.sum([1 if prediction[i] == test_y[i] else 0 for i in range(len(prediction))]))/len(prediction)\n",
    "        accuracies.append(accuracy)\n",
    "    \n",
    "    return np.mean(accuracies)\n",
    "\n",
    "# def kFoldCheck(trainDataX, trainDataY, vectorizerFeat, classifier, k=3):\n",
    "#     kf = KFold(n_splits=k)\n",
    "#     accuracies = []\n",
    "    \n",
    "#     for train, test in kf.split(trainDataX):\n",
    "        \n",
    "#         trainFoldX = np.array([trainDataX[i] for i in train])\n",
    "#         trainFoldY = np.array([trainDataY[i] for i in train])\n",
    "\n",
    "#         testFoldX = np.array([trainDataX[i] for i in test])\n",
    "#         testFoldY = np.array([trainDataY[i] for i in test])\n",
    "\n",
    "#         vectorizer = TfidfVectorizer(max_features=500, stop_words=stopwords.words('english'))\n",
    "#         trainFoldX = vectorizer.fit_transform(trainFoldX[vectorizerFeat]).toarray()\n",
    "#         testFoldX = vectorizer.transform(testFoldX[vectorizerFeat]).toarray()\n",
    "        \n",
    "#         classifier.fit(trainFoldX, trainFoldY)\n",
    "\n",
    "#         prediction = classifier.predict(testFoldX)\n",
    "#         accuracy = (np.sum([1 if prediction[i] == testFoldY[i] else 0 for i in range(len(prediction))]))/len(prediction)\n",
    "#         accuracies.append(accuracy)\n",
    "    \n",
    "#     return np.mean(accuracies)"
   ]
  },
  {
   "cell_type": "code",
   "execution_count": 2,
   "metadata": {},
   "outputs": [
    {
     "data": {
      "text/html": [
       "<div>\n",
       "<style scoped>\n",
       "    .dataframe tbody tr th:only-of-type {\n",
       "        vertical-align: middle;\n",
       "    }\n",
       "\n",
       "    .dataframe tbody tr th {\n",
       "        vertical-align: top;\n",
       "    }\n",
       "\n",
       "    .dataframe thead th {\n",
       "        text-align: right;\n",
       "    }\n",
       "</style>\n",
       "<table border=\"1\" class=\"dataframe\">\n",
       "  <thead>\n",
       "    <tr style=\"text-align: right;\">\n",
       "      <th></th>\n",
       "      <th>WikiID</th>\n",
       "      <th>Name</th>\n",
       "      <th>Revenue</th>\n",
       "      <th>ReleaseDate</th>\n",
       "      <th>Languages</th>\n",
       "      <th>Countries</th>\n",
       "      <th>Genres</th>\n",
       "      <th>Summary</th>\n",
       "      <th>Year</th>\n",
       "      <th>AdjustedRevenue</th>\n",
       "    </tr>\n",
       "  </thead>\n",
       "  <tbody>\n",
       "    <tr>\n",
       "      <th>0</th>\n",
       "      <td>975900</td>\n",
       "      <td>Ghosts of Mars</td>\n",
       "      <td>14010832.0</td>\n",
       "      <td>2001-08-24</td>\n",
       "      <td>[English Language]</td>\n",
       "      <td>[United States of America]</td>\n",
       "      <td>[Thriller, Science Fiction, Horror, Adventure,...</td>\n",
       "      <td>Set in the second half of the 22nd century, th...</td>\n",
       "      <td>2001.0</td>\n",
       "      <td>2.022468e+07</td>\n",
       "    </tr>\n",
       "    <tr>\n",
       "      <th>5</th>\n",
       "      <td>171005</td>\n",
       "      <td>Henry V</td>\n",
       "      <td>10161099.0</td>\n",
       "      <td>1989-11-08</td>\n",
       "      <td>[English Language]</td>\n",
       "      <td>[United Kingdom]</td>\n",
       "      <td>[Costume drama, War film, Epic, Period piece, ...</td>\n",
       "      <td>{{Plot|dateAct 1Act 2Act 3Act 4Act 5 Finally n...</td>\n",
       "      <td>1989.0</td>\n",
       "      <td>2.093678e+07</td>\n",
       "    </tr>\n",
       "    <tr>\n",
       "      <th>8</th>\n",
       "      <td>77856</td>\n",
       "      <td>Mary Poppins</td>\n",
       "      <td>102272727.0</td>\n",
       "      <td>1964-08-27</td>\n",
       "      <td>[English Language]</td>\n",
       "      <td>[United States of America]</td>\n",
       "      <td>[Children's/Family, Musical, Fantasy, Comedy, ...</td>\n",
       "      <td>The film opens with Mary Poppins  perched in a...</td>\n",
       "      <td>1964.0</td>\n",
       "      <td>8.429252e+08</td>\n",
       "    </tr>\n",
       "    <tr>\n",
       "      <th>12</th>\n",
       "      <td>156558</td>\n",
       "      <td>Baby Boy</td>\n",
       "      <td>29381649.0</td>\n",
       "      <td>2001-06-27</td>\n",
       "      <td>[English Language]</td>\n",
       "      <td>[United States of America]</td>\n",
       "      <td>[Crime Fiction, Drama, Coming of age]</td>\n",
       "      <td>A young 20-year-old named Jody  lives with his...</td>\n",
       "      <td>2001.0</td>\n",
       "      <td>4.241249e+07</td>\n",
       "    </tr>\n",
       "    <tr>\n",
       "      <th>22</th>\n",
       "      <td>261237</td>\n",
       "      <td>The Gods Must Be Crazy</td>\n",
       "      <td>34331783.0</td>\n",
       "      <td>1980</td>\n",
       "      <td>[Afrikaans Language, English Language]</td>\n",
       "      <td>[South Africa]</td>\n",
       "      <td>[Adventure, Action/Adventure, Indie, World cin...</td>\n",
       "      <td>The film is a collision of three separate stor...</td>\n",
       "      <td>1980.0</td>\n",
       "      <td>1.066477e+08</td>\n",
       "    </tr>\n",
       "  </tbody>\n",
       "</table>\n",
       "</div>"
      ],
      "text/plain": [
       "    WikiID                    Name      Revenue ReleaseDate  \\\n",
       "0   975900          Ghosts of Mars   14010832.0  2001-08-24   \n",
       "5   171005                 Henry V   10161099.0  1989-11-08   \n",
       "8    77856            Mary Poppins  102272727.0  1964-08-27   \n",
       "12  156558                Baby Boy   29381649.0  2001-06-27   \n",
       "22  261237  The Gods Must Be Crazy   34331783.0        1980   \n",
       "\n",
       "                                 Languages                   Countries  \\\n",
       "0                       [English Language]  [United States of America]   \n",
       "5                       [English Language]            [United Kingdom]   \n",
       "8                       [English Language]  [United States of America]   \n",
       "12                      [English Language]  [United States of America]   \n",
       "22  [Afrikaans Language, English Language]              [South Africa]   \n",
       "\n",
       "                                               Genres  \\\n",
       "0   [Thriller, Science Fiction, Horror, Adventure,...   \n",
       "5   [Costume drama, War film, Epic, Period piece, ...   \n",
       "8   [Children's/Family, Musical, Fantasy, Comedy, ...   \n",
       "12              [Crime Fiction, Drama, Coming of age]   \n",
       "22  [Adventure, Action/Adventure, Indie, World cin...   \n",
       "\n",
       "                                              Summary    Year  AdjustedRevenue  \n",
       "0   Set in the second half of the 22nd century, th...  2001.0     2.022468e+07  \n",
       "5   {{Plot|dateAct 1Act 2Act 3Act 4Act 5 Finally n...  1989.0     2.093678e+07  \n",
       "8   The film opens with Mary Poppins  perched in a...  1964.0     8.429252e+08  \n",
       "12  A young 20-year-old named Jody  lives with his...  2001.0     4.241249e+07  \n",
       "22  The film is a collision of three separate stor...  1980.0     1.066477e+08  "
      ]
     },
     "execution_count": 2,
     "metadata": {},
     "output_type": "execute_result"
    }
   ],
   "source": [
    "df = pd.read_csv(\"ExportedData/cleanCMURevenueAdjusted.tsv\", sep=\"\\t\")\n",
    "\n",
    "df[\"Languages\"] = df[\"Languages\"].apply(lambda x: eval(x))\n",
    "df[\"Languages\"] = df[df[\"Languages\"].map(len) > 0][\"Languages\"]\n",
    "\n",
    "df[\"Genres\"] = df[\"Genres\"].apply(lambda x: eval(x))\n",
    "df[\"Genres\"] = df[df[\"Genres\"].map(len) > 0][\"Genres\"]\n",
    "\n",
    "df[\"Countries\"] = df[\"Countries\"].apply(lambda x: eval(x))\n",
    "df[\"Countries\"] = df[df[\"Countries\"].map(len) > 0][\"Countries\"]\n",
    "\n",
    "df = df.dropna()\n",
    "df.head()"
   ]
  },
  {
   "cell_type": "code",
   "execution_count": 3,
   "metadata": {
    "scrolled": false
   },
   "outputs": [
    {
     "data": {
      "text/plain": [
       "7295"
      ]
     },
     "execution_count": 3,
     "metadata": {},
     "output_type": "execute_result"
    }
   ],
   "source": [
    "len(df)"
   ]
  },
  {
   "cell_type": "code",
   "execution_count": 4,
   "metadata": {},
   "outputs": [
    {
     "data": {
      "text/html": [
       "<div>\n",
       "<style scoped>\n",
       "    .dataframe tbody tr th:only-of-type {\n",
       "        vertical-align: middle;\n",
       "    }\n",
       "\n",
       "    .dataframe tbody tr th {\n",
       "        vertical-align: top;\n",
       "    }\n",
       "\n",
       "    .dataframe thead th {\n",
       "        text-align: right;\n",
       "    }\n",
       "</style>\n",
       "<table border=\"1\" class=\"dataframe\">\n",
       "  <thead>\n",
       "    <tr style=\"text-align: right;\">\n",
       "      <th></th>\n",
       "      <th>WikiID</th>\n",
       "      <th>Name</th>\n",
       "      <th>Revenue</th>\n",
       "      <th>ReleaseDate</th>\n",
       "      <th>Languages</th>\n",
       "      <th>Countries</th>\n",
       "      <th>Genres</th>\n",
       "      <th>Summary</th>\n",
       "      <th>Year</th>\n",
       "      <th>AdjustedRevenue</th>\n",
       "      <th>ForeignLanguage</th>\n",
       "    </tr>\n",
       "  </thead>\n",
       "  <tbody>\n",
       "    <tr>\n",
       "      <th>0</th>\n",
       "      <td>975900</td>\n",
       "      <td>Ghosts of Mars</td>\n",
       "      <td>14010832.0</td>\n",
       "      <td>2001-08-24</td>\n",
       "      <td>[English Language]</td>\n",
       "      <td>[United States of America]</td>\n",
       "      <td>[Thriller, Science Fiction, Horror, Adventure,...</td>\n",
       "      <td>Set in the second half of the 22nd century, th...</td>\n",
       "      <td>2001.0</td>\n",
       "      <td>2.022468e+07</td>\n",
       "      <td>1</td>\n",
       "    </tr>\n",
       "    <tr>\n",
       "      <th>5</th>\n",
       "      <td>171005</td>\n",
       "      <td>Henry V</td>\n",
       "      <td>10161099.0</td>\n",
       "      <td>1989-11-08</td>\n",
       "      <td>[English Language]</td>\n",
       "      <td>[United Kingdom]</td>\n",
       "      <td>[Costume drama, War film, Epic, Period piece, ...</td>\n",
       "      <td>{{Plot|dateAct 1Act 2Act 3Act 4Act 5 Finally n...</td>\n",
       "      <td>1989.0</td>\n",
       "      <td>2.093678e+07</td>\n",
       "      <td>1</td>\n",
       "    </tr>\n",
       "    <tr>\n",
       "      <th>8</th>\n",
       "      <td>77856</td>\n",
       "      <td>Mary Poppins</td>\n",
       "      <td>102272727.0</td>\n",
       "      <td>1964-08-27</td>\n",
       "      <td>[English Language]</td>\n",
       "      <td>[United States of America]</td>\n",
       "      <td>[Children's/Family, Musical, Fantasy, Comedy, ...</td>\n",
       "      <td>The film opens with Mary Poppins  perched in a...</td>\n",
       "      <td>1964.0</td>\n",
       "      <td>8.429252e+08</td>\n",
       "      <td>1</td>\n",
       "    </tr>\n",
       "    <tr>\n",
       "      <th>12</th>\n",
       "      <td>156558</td>\n",
       "      <td>Baby Boy</td>\n",
       "      <td>29381649.0</td>\n",
       "      <td>2001-06-27</td>\n",
       "      <td>[English Language]</td>\n",
       "      <td>[United States of America]</td>\n",
       "      <td>[Crime Fiction, Drama, Coming of age]</td>\n",
       "      <td>A young 20-year-old named Jody  lives with his...</td>\n",
       "      <td>2001.0</td>\n",
       "      <td>4.241249e+07</td>\n",
       "      <td>1</td>\n",
       "    </tr>\n",
       "    <tr>\n",
       "      <th>22</th>\n",
       "      <td>261237</td>\n",
       "      <td>The Gods Must Be Crazy</td>\n",
       "      <td>34331783.0</td>\n",
       "      <td>1980</td>\n",
       "      <td>[Afrikaans Language, English Language]</td>\n",
       "      <td>[South Africa]</td>\n",
       "      <td>[Adventure, Action/Adventure, Indie, World cin...</td>\n",
       "      <td>The film is a collision of three separate stor...</td>\n",
       "      <td>1980.0</td>\n",
       "      <td>1.066477e+08</td>\n",
       "      <td>1</td>\n",
       "    </tr>\n",
       "  </tbody>\n",
       "</table>\n",
       "</div>"
      ],
      "text/plain": [
       "    WikiID                    Name      Revenue ReleaseDate  \\\n",
       "0   975900          Ghosts of Mars   14010832.0  2001-08-24   \n",
       "5   171005                 Henry V   10161099.0  1989-11-08   \n",
       "8    77856            Mary Poppins  102272727.0  1964-08-27   \n",
       "12  156558                Baby Boy   29381649.0  2001-06-27   \n",
       "22  261237  The Gods Must Be Crazy   34331783.0        1980   \n",
       "\n",
       "                                 Languages                   Countries  \\\n",
       "0                       [English Language]  [United States of America]   \n",
       "5                       [English Language]            [United Kingdom]   \n",
       "8                       [English Language]  [United States of America]   \n",
       "12                      [English Language]  [United States of America]   \n",
       "22  [Afrikaans Language, English Language]              [South Africa]   \n",
       "\n",
       "                                               Genres  \\\n",
       "0   [Thriller, Science Fiction, Horror, Adventure,...   \n",
       "5   [Costume drama, War film, Epic, Period piece, ...   \n",
       "8   [Children's/Family, Musical, Fantasy, Comedy, ...   \n",
       "12              [Crime Fiction, Drama, Coming of age]   \n",
       "22  [Adventure, Action/Adventure, Indie, World cin...   \n",
       "\n",
       "                                              Summary    Year  \\\n",
       "0   Set in the second half of the 22nd century, th...  2001.0   \n",
       "5   {{Plot|dateAct 1Act 2Act 3Act 4Act 5 Finally n...  1989.0   \n",
       "8   The film opens with Mary Poppins  perched in a...  1964.0   \n",
       "12  A young 20-year-old named Jody  lives with his...  2001.0   \n",
       "22  The film is a collision of three separate stor...  1980.0   \n",
       "\n",
       "    AdjustedRevenue  ForeignLanguage  \n",
       "0      2.022468e+07                1  \n",
       "5      2.093678e+07                1  \n",
       "8      8.429252e+08                1  \n",
       "12     4.241249e+07                1  \n",
       "22     1.066477e+08                1  "
      ]
     },
     "execution_count": 4,
     "metadata": {},
     "output_type": "execute_result"
    }
   ],
   "source": [
    "englishes = set(['American English', 'English Language'])\n",
    "\n",
    "englishOrNo = []\n",
    "\n",
    "for language in df[\"Languages\"]:\n",
    "    counter = 0\n",
    "    for lang in language:\n",
    "        if lang in englishes:\n",
    "            counter = 1\n",
    "    englishOrNo.append(counter)\n",
    "\n",
    "df[\"ForeignLanguage\"] = englishOrNo\n",
    "df.head()"
   ]
  },
  {
   "cell_type": "code",
   "execution_count": 5,
   "metadata": {},
   "outputs": [
    {
     "data": {
      "text/html": [
       "<div>\n",
       "<style scoped>\n",
       "    .dataframe tbody tr th:only-of-type {\n",
       "        vertical-align: middle;\n",
       "    }\n",
       "\n",
       "    .dataframe tbody tr th {\n",
       "        vertical-align: top;\n",
       "    }\n",
       "\n",
       "    .dataframe thead th {\n",
       "        text-align: right;\n",
       "    }\n",
       "</style>\n",
       "<table border=\"1\" class=\"dataframe\">\n",
       "  <thead>\n",
       "    <tr style=\"text-align: right;\">\n",
       "      <th></th>\n",
       "      <th>WikiID</th>\n",
       "      <th>Name</th>\n",
       "      <th>Revenue</th>\n",
       "      <th>ReleaseDate</th>\n",
       "      <th>Languages</th>\n",
       "      <th>Countries</th>\n",
       "      <th>Genres</th>\n",
       "      <th>Summary</th>\n",
       "      <th>Year</th>\n",
       "      <th>AdjustedRevenue</th>\n",
       "      <th>ForeignLanguage</th>\n",
       "      <th>International</th>\n",
       "    </tr>\n",
       "  </thead>\n",
       "  <tbody>\n",
       "    <tr>\n",
       "      <th>0</th>\n",
       "      <td>975900</td>\n",
       "      <td>Ghosts of Mars</td>\n",
       "      <td>14010832.0</td>\n",
       "      <td>2001-08-24</td>\n",
       "      <td>[English Language]</td>\n",
       "      <td>[United States of America]</td>\n",
       "      <td>[Thriller, Science Fiction, Horror, Adventure,...</td>\n",
       "      <td>Set in the second half of the 22nd century, th...</td>\n",
       "      <td>2001.0</td>\n",
       "      <td>2.022468e+07</td>\n",
       "      <td>1</td>\n",
       "      <td>0</td>\n",
       "    </tr>\n",
       "    <tr>\n",
       "      <th>5</th>\n",
       "      <td>171005</td>\n",
       "      <td>Henry V</td>\n",
       "      <td>10161099.0</td>\n",
       "      <td>1989-11-08</td>\n",
       "      <td>[English Language]</td>\n",
       "      <td>[United Kingdom]</td>\n",
       "      <td>[Costume drama, War film, Epic, Period piece, ...</td>\n",
       "      <td>{{Plot|dateAct 1Act 2Act 3Act 4Act 5 Finally n...</td>\n",
       "      <td>1989.0</td>\n",
       "      <td>2.093678e+07</td>\n",
       "      <td>1</td>\n",
       "      <td>1</td>\n",
       "    </tr>\n",
       "    <tr>\n",
       "      <th>8</th>\n",
       "      <td>77856</td>\n",
       "      <td>Mary Poppins</td>\n",
       "      <td>102272727.0</td>\n",
       "      <td>1964-08-27</td>\n",
       "      <td>[English Language]</td>\n",
       "      <td>[United States of America]</td>\n",
       "      <td>[Children's/Family, Musical, Fantasy, Comedy, ...</td>\n",
       "      <td>The film opens with Mary Poppins  perched in a...</td>\n",
       "      <td>1964.0</td>\n",
       "      <td>8.429252e+08</td>\n",
       "      <td>1</td>\n",
       "      <td>0</td>\n",
       "    </tr>\n",
       "    <tr>\n",
       "      <th>12</th>\n",
       "      <td>156558</td>\n",
       "      <td>Baby Boy</td>\n",
       "      <td>29381649.0</td>\n",
       "      <td>2001-06-27</td>\n",
       "      <td>[English Language]</td>\n",
       "      <td>[United States of America]</td>\n",
       "      <td>[Crime Fiction, Drama, Coming of age]</td>\n",
       "      <td>A young 20-year-old named Jody  lives with his...</td>\n",
       "      <td>2001.0</td>\n",
       "      <td>4.241249e+07</td>\n",
       "      <td>1</td>\n",
       "      <td>0</td>\n",
       "    </tr>\n",
       "    <tr>\n",
       "      <th>22</th>\n",
       "      <td>261237</td>\n",
       "      <td>The Gods Must Be Crazy</td>\n",
       "      <td>34331783.0</td>\n",
       "      <td>1980</td>\n",
       "      <td>[Afrikaans Language, English Language]</td>\n",
       "      <td>[South Africa]</td>\n",
       "      <td>[Adventure, Action/Adventure, Indie, World cin...</td>\n",
       "      <td>The film is a collision of three separate stor...</td>\n",
       "      <td>1980.0</td>\n",
       "      <td>1.066477e+08</td>\n",
       "      <td>1</td>\n",
       "      <td>1</td>\n",
       "    </tr>\n",
       "  </tbody>\n",
       "</table>\n",
       "</div>"
      ],
      "text/plain": [
       "    WikiID                    Name      Revenue ReleaseDate  \\\n",
       "0   975900          Ghosts of Mars   14010832.0  2001-08-24   \n",
       "5   171005                 Henry V   10161099.0  1989-11-08   \n",
       "8    77856            Mary Poppins  102272727.0  1964-08-27   \n",
       "12  156558                Baby Boy   29381649.0  2001-06-27   \n",
       "22  261237  The Gods Must Be Crazy   34331783.0        1980   \n",
       "\n",
       "                                 Languages                   Countries  \\\n",
       "0                       [English Language]  [United States of America]   \n",
       "5                       [English Language]            [United Kingdom]   \n",
       "8                       [English Language]  [United States of America]   \n",
       "12                      [English Language]  [United States of America]   \n",
       "22  [Afrikaans Language, English Language]              [South Africa]   \n",
       "\n",
       "                                               Genres  \\\n",
       "0   [Thriller, Science Fiction, Horror, Adventure,...   \n",
       "5   [Costume drama, War film, Epic, Period piece, ...   \n",
       "8   [Children's/Family, Musical, Fantasy, Comedy, ...   \n",
       "12              [Crime Fiction, Drama, Coming of age]   \n",
       "22  [Adventure, Action/Adventure, Indie, World cin...   \n",
       "\n",
       "                                              Summary    Year  \\\n",
       "0   Set in the second half of the 22nd century, th...  2001.0   \n",
       "5   {{Plot|dateAct 1Act 2Act 3Act 4Act 5 Finally n...  1989.0   \n",
       "8   The film opens with Mary Poppins  perched in a...  1964.0   \n",
       "12  A young 20-year-old named Jody  lives with his...  2001.0   \n",
       "22  The film is a collision of three separate stor...  1980.0   \n",
       "\n",
       "    AdjustedRevenue  ForeignLanguage  International  \n",
       "0      2.022468e+07                1              0  \n",
       "5      2.093678e+07                1              1  \n",
       "8      8.429252e+08                1              0  \n",
       "12     4.241249e+07                1              0  \n",
       "22     1.066477e+08                1              1  "
      ]
     },
     "execution_count": 5,
     "metadata": {},
     "output_type": "execute_result"
    }
   ],
   "source": [
    "us = 'United States of America'\n",
    "internationalFilms = []\n",
    "\n",
    "for country in df[\"Countries\"]:\n",
    "    counter = 1\n",
    "    for c in country:\n",
    "        if c == us:\n",
    "            counter = 0\n",
    "    internationalFilms.append(counter)\n",
    "\n",
    "df[\"International\"] = internationalFilms\n",
    "df.head()"
   ]
  },
  {
   "cell_type": "code",
   "execution_count": 6,
   "metadata": {},
   "outputs": [],
   "source": [
    "from sklearn.model_selection import train_test_split\n",
    "\n",
    "train, test = train_test_split(df, test_size=0.2)"
   ]
  },
  {
   "cell_type": "code",
   "execution_count": 48,
   "metadata": {},
   "outputs": [],
   "source": [
    "from nltk.corpus import stopwords\n",
    "from sklearn.feature_extraction.text import TfidfVectorizer\n",
    "\n",
    "rawPlots = train[\"Summary\"]\n",
    "\n",
    "plotVectorizer = TfidfVectorizer(max_features=3000, stop_words=stopwords.words('english'))\n",
    "trainPlots = plotVectorizer.fit_transform(rawPlots).toarray()\n",
    "testPlots = plotVectorizer.transform(test[\"Summary\"]).toarray()"
   ]
  },
  {
   "cell_type": "code",
   "execution_count": 8,
   "metadata": {},
   "outputs": [],
   "source": [
    "def testClassifier(trainX, trainY, testX, testY, classifier):\n",
    "    classifier.fit(trainX, trainY)\n",
    "    prediction = classifier.predict(testX)\n",
    "    return sum(prediction == testY)/len(testY)"
   ]
  },
  {
   "cell_type": "code",
   "execution_count": 9,
   "metadata": {},
   "outputs": [
    {
     "data": {
      "text/plain": [
       "0.6511309115832762"
      ]
     },
     "execution_count": 9,
     "metadata": {},
     "output_type": "execute_result"
    }
   ],
   "source": [
    "from sklearn.naive_bayes import GaussianNB\n",
    "\n",
    "testClassifier(trainPlots, train[\"International\"], testPlots, test[\"International\"], GaussianNB())"
   ]
  },
  {
   "cell_type": "code",
   "execution_count": 10,
   "metadata": {},
   "outputs": [
    {
     "data": {
      "text/plain": [
       "0.8286497601096642"
      ]
     },
     "execution_count": 10,
     "metadata": {},
     "output_type": "execute_result"
    }
   ],
   "source": [
    "from sklearn.neighbors import KNeighborsClassifier\n",
    "\n",
    "testClassifier(trainPlots, train[\"International\"], testPlots, test[\"International\"], KNeighborsClassifier())"
   ]
  },
  {
   "cell_type": "code",
   "execution_count": 140,
   "metadata": {},
   "outputs": [
    {
     "data": {
      "text/plain": [
       "0.7710760795065114"
      ]
     },
     "execution_count": 140,
     "metadata": {},
     "output_type": "execute_result"
    }
   ],
   "source": [
    "from sklearn.tree import DecisionTreeClassifier\n",
    "\n",
    "testClassifier(trainPlots, train[\"International\"], testPlots, test[\"International\"], DecisionTreeClassifier())"
   ]
  },
  {
   "cell_type": "code",
   "execution_count": 141,
   "metadata": {},
   "outputs": [
    {
     "name": "stdout",
     "output_type": "stream",
     "text": [
      "0.8594928032899246 accuracy for 100\n",
      "0.8588074023303632 accuracy for 110\n",
      "0.8594928032899246 accuracy for 120\n",
      "0.8588074023303632 accuracy for 130\n",
      "0.8574366004112406 accuracy for 140\n",
      "0.8574366004112406 accuracy for 150\n",
      "0.8574366004112406 accuracy for 160\n",
      "0.8588074023303632 accuracy for 170\n",
      "0.8588074023303632 accuracy for 180\n",
      "0.8574366004112406 accuracy for 190\n"
     ]
    },
    {
     "data": {
      "text/plain": [
       "[<matplotlib.lines.Line2D at 0x1a27bc0e80>]"
      ]
     },
     "execution_count": 141,
     "metadata": {},
     "output_type": "execute_result"
    },
    {
     "data": {
      "image/png": "[encoded data removed]",
      "text/plain": [
       "<Figure size 432x288 with 1 Axes>"
      ]
     },
     "metadata": {
      "needs_background": "light"
     },
     "output_type": "display_data"
    }
   ],
   "source": [
    "import matplotlib.pyplot as plt\n",
    "from sklearn.ensemble import RandomForestClassifier\n",
    "%matplotlib inline\n",
    "\n",
    "ns = np.arange(100,200, 10)\n",
    "accuracies = []\n",
    "\n",
    "for n in ns:\n",
    "    accuracy = testClassifier(trainPlots, train[\"International\"], testPlots, test[\"International\"], RandomForestClassifier(n_estimators=n))\n",
    "    print(f\"{accuracy} accuracy for {n}\")\n",
    "    accuracies.append(accuracy)\n",
    "plt.plot(ns, accuracies)"
   ]
  },
  {
   "cell_type": "code",
   "execution_count": 143,
   "metadata": {},
   "outputs": [
    {
     "name": "stdout",
     "output_type": "stream",
     "text": [
      "0.8594928032899246 accuracy for 10\n",
      "0.858122001370802 accuracy for 20\n",
      "0.8485263879369431 accuracy for 30\n",
      "0.8444139821795751 accuracy for 40\n",
      "0.8505825908156271 accuracy for 50\n",
      "0.8464701850582591 accuracy for 60\n",
      "0.8519533927347498 accuracy for 70\n",
      "0.8560657984921178 accuracy for 80\n",
      "0.8540095956134338 accuracy for 90\n"
     ]
    },
    {
     "data": {
      "text/plain": [
       "[<matplotlib.lines.Line2D at 0x1a2b6a6588>]"
      ]
     },
     "execution_count": 143,
     "metadata": {},
     "output_type": "execute_result"
    },
    {
     "data": {
      "image/png": "[encoded data removed]",
      "text/plain": [
       "<Figure size 432x288 with 1 Axes>"
      ]
     },
     "metadata": {
      "needs_background": "light"
     },
     "output_type": "display_data"
    }
   ],
   "source": [
    "depths = np.arange(10,100, 10)\n",
    "accuracies = []\n",
    "\n",
    "for depth in depths:\n",
    "    accuracy = testClassifier(trainPlots, train[\"International\"], testPlots, test[\"International\"], RandomForestClassifier(n_estimators=10, max_depth=depth))\n",
    "    print(f\"{accuracy} accuracy for {depth}\")\n",
    "    accuracies.append(accuracy)\n",
    "plt.plot(depths, accuracies)"
   ]
  },
  {
   "cell_type": "code",
   "execution_count": 144,
   "metadata": {},
   "outputs": [
    {
     "data": {
      "text/plain": [
       "0.8588074023303632"
      ]
     },
     "execution_count": 144,
     "metadata": {},
     "output_type": "execute_result"
    }
   ],
   "source": [
    "testClassifier(trainPlots, train[\"International\"], testPlots, test[\"International\"], RandomForestClassifier(n_estimators=120, max_depth=10))"
   ]
  },
  {
   "cell_type": "code",
   "execution_count": 145,
   "metadata": {},
   "outputs": [
    {
     "name": "stdout",
     "output_type": "stream",
     "text": [
      "0.8553803975325566 for 10\n",
      "0.8519533927347498 for 20\n",
      "0.8567511994516792 for 30\n",
      "0.8498971898560658 for 40\n",
      "0.8457847840986977 for 50\n",
      "0.8444139821795751 for 60\n",
      "0.8464701850582591 for 70\n",
      "0.8416723783413297 for 80\n",
      "0.8382453735435229 for 90\n"
     ]
    },
    {
     "data": {
      "text/plain": [
       "[<matplotlib.lines.Line2D at 0x1a2791f198>]"
      ]
     },
     "execution_count": 145,
     "metadata": {},
     "output_type": "execute_result"
    },
    {
     "data": {
      "image/png": "[encoded data removed]",
      "text/plain": [
       "<Figure size 432x288 with 1 Axes>"
      ]
     },
     "metadata": {
      "needs_background": "light"
     },
     "output_type": "display_data"
    }
   ],
   "source": [
    "from sklearn.ensemble import AdaBoostClassifier\n",
    "\n",
    "accuracies = []\n",
    "ns = np.arange(10,100, 10)\n",
    "\n",
    "for n in ns:\n",
    "    accuracy = testClassifier(trainPlots, train[\"International\"], testPlots, test[\"International\"], AdaBoostClassifier(n_estimators=n))\n",
    "    print(f\"{accuracy} for {n}\")\n",
    "    accuracies.append(accuracy)\n",
    "plt.plot(ns, accuracies)"
   ]
  },
  {
   "cell_type": "code",
   "execution_count": 123,
   "metadata": {},
   "outputs": [
    {
     "data": {
      "text/plain": [
       "0.84893762851268"
      ]
     },
     "execution_count": 123,
     "metadata": {},
     "output_type": "execute_result"
    }
   ],
   "source": [
    "countries = set()\n",
    "counter = 0\n",
    "for ls in df[\"Countries\"]:\n",
    "    value = 0\n",
    "    for country in ls:\n",
    "        if country == us:\n",
    "            value = 1\n",
    "    counter += value\n",
    "counter/len(df)"
   ]
  },
  {
   "cell_type": "code",
   "execution_count": 46,
   "metadata": {},
   "outputs": [
    {
     "data": {
      "text/plain": [
       "0.8504455989701732"
      ]
     },
     "execution_count": 46,
     "metadata": {},
     "output_type": "execute_result"
    }
   ],
   "source": [
    "from sklearn.ensemble import RandomForestClassifier\n",
    "\n",
    "# kFoldCheck(df.drop(\"International\", axis=1), df[\"International\"], \"International\", RandomForestClassifier(n_estimators=120, max_depth=10))\n",
    "kFoldCheck(df, \"International\", \"Summary\", RandomForestClassifier(n_estimators=120, max_depth=10))"
   ]
  },
  {
   "cell_type": "code",
   "execution_count": 49,
   "metadata": {},
   "outputs": [
    {
     "data": {
      "text/plain": [
       "{0, 1}"
      ]
     },
     "execution_count": 49,
     "metadata": {},
     "output_type": "execute_result"
    }
   ],
   "source": [
    "rf = RandomForestClassifier(n_estimators=120, max_depth=10)\n",
    "rf.fit(trainPlots, train[\"International\"])\n",
    "predictions = rf.predict(testPlots)\n",
    "set(predictions)"
   ]
  },
  {
   "cell_type": "code",
   "execution_count": 42,
   "metadata": {},
   "outputs": [
    {
     "data": {
      "text/plain": [
       "{0, 1}"
      ]
     },
     "execution_count": 42,
     "metadata": {},
     "output_type": "execute_result"
    }
   ],
   "source": [
    "from sklearn.neighbors import KNeighborsClassifier\n",
    "\n",
    "knn = KNeighborsClassifier()\n",
    "knn.fit(trainPlots, train[\"International\"])\n",
    "predictions = knn.predict(testPlots)\n",
    "\n",
    "print(sum(predictions == test[\"International\"])/len(predictions))\n",
    "print(set(predictions))"
   ]
  },
  {
   "cell_type": "code",
   "execution_count": 44,
   "metadata": {},
   "outputs": [
    {
     "name": "stdout",
     "output_type": "stream",
     "text": [
      "0.7676490747087046\n",
      "{0, 1}\n"
     ]
    }
   ],
   "source": [
    "from sklearn.tree import DecisionTreeClassifier\n",
    "\n",
    "dt = DecisionTreeClassifier()\n",
    "dt.fit(trainPlots, train[\"International\"])\n",
    "predictions = dt.predict(testPlots)\n",
    "\n",
    "print(sum(predictions == test[\"International\"])/len(predictions))\n",
    "print(set(predictions))"
   ]
  },
  {
   "cell_type": "markdown",
   "metadata": {},
   "source": [
    "### Finding parameters with KFold cross validation"
   ]
  },
  {
   "cell_type": "code",
   "execution_count": 52,
   "metadata": {},
   "outputs": [
    {
     "name": "stdout",
     "output_type": "stream",
     "text": [
      "accuracy for 100: 0.8470185564564434\n",
      "accuracy for 200: 0.848389903440213\n",
      "accuracy for 300: 0.8490754359804282\n",
      "accuracy for 400: 0.8529132116593416\n"
     ]
    },
    {
     "data": {
      "text/plain": [
       "[<matplotlib.lines.Line2D at 0x1a1ca78128>]"
      ]
     },
     "execution_count": 52,
     "metadata": {},
     "output_type": "execute_result"
    },
    {
     "data": {
      "image/png": "[encoded data removed]",
      "text/plain": [
       "<Figure size 432x288 with 1 Axes>"
      ]
     },
     "metadata": {
      "needs_background": "light"
     },
     "output_type": "display_data"
    }
   ],
   "source": [
    "from sklearn.ensemble import AdaBoostClassifier\n",
    "import matplotlib.pyplot as plt\n",
    "%matplotlib inline\n",
    "\n",
    "ns = np.arange(100, 500, 100)\n",
    "accuracies = []\n",
    "\n",
    "for n in ns:\n",
    "    acc = kFoldCheck(df, \"International\", \"Summary\", AdaBoostClassifier(n_estimators=n))\n",
    "    accuracies.append(acc)\n",
    "    print(F\"accuracy for {n}: {acc}\")\n",
    "\n",
    "plt.plot(ns, accuracies)"
   ]
  },
  {
   "cell_type": "code",
   "execution_count": 65,
   "metadata": {},
   "outputs": [
    {
     "name": "stdout",
     "output_type": "stream",
     "text": [
      "accuracy for 0.1: 0.852228186545137\n",
      "accuracy for 0.2: 0.8515425412435862\n",
      "accuracy for 0.30000000000000004: 0.8507201728225335\n",
      "accuracy for 0.4: 0.8538725851032353\n",
      "accuracy for 0.5: 0.854009646506744\n",
      "accuracy for 0.6: 0.853872641483903\n",
      "accuracy for 0.7000000000000001: 0.8540097592680796\n",
      "accuracy for 0.8: 0.8540097592680796\n",
      "accuracy for 0.9: 0.8533244522505359\n"
     ]
    },
    {
     "data": {
      "text/plain": [
       "[<matplotlib.lines.Line2D at 0x1a19ae13c8>]"
      ]
     },
     "execution_count": 65,
     "metadata": {},
     "output_type": "execute_result"
    },
    {
     "data": {
      "image/png": "[encoded data removed]",
      "text/plain": [
       "<Figure size 432x288 with 1 Axes>"
      ]
     },
     "metadata": {
      "needs_background": "light"
     },
     "output_type": "display_data"
    }
   ],
   "source": [
    "ns = np.arange(100, 500, 100)\n",
    "lrs = np.arange(0.1, 1, 0.1)\n",
    "\n",
    "accuracies = []\n",
    "\n",
    "for lr in lrs:\n",
    "    acc = kFoldCheck(df, \"International\", \"Summary\", AdaBoostClassifier(n_estimators=10, learning_rate=lr))\n",
    "    accuracies.append(acc)\n",
    "    print(F\"accuracy for {lr}: {acc}\")\n",
    "\n",
    "plt.plot(lrs, accuracies)"
   ]
  },
  {
   "cell_type": "code",
   "execution_count": 67,
   "metadata": {},
   "outputs": [
    {
     "data": {
      "text/plain": [
       "0.8625078481889629"
      ]
     },
     "execution_count": 67,
     "metadata": {},
     "output_type": "execute_result"
    }
   ],
   "source": [
    "kFoldCheck(df, \"International\", \"Summary\", AdaBoostClassifier(n_estimators=400, learning_rate=0.5))"
   ]
  },
  {
   "cell_type": "code",
   "execution_count": 53,
   "metadata": {},
   "outputs": [
    {
     "data": {
      "text/plain": [
       "0.6603163429063197"
      ]
     },
     "execution_count": 53,
     "metadata": {},
     "output_type": "execute_result"
    }
   ],
   "source": [
    "from sklearn.naive_bayes import BernoulliNB\n",
    "\n",
    "kFoldCheck(df, \"International\", \"Summary\", BernoulliNB())"
   ]
  },
  {
   "cell_type": "code",
   "execution_count": 54,
   "metadata": {},
   "outputs": [
    {
     "data": {
      "text/plain": [
       "0.864701845497124"
      ]
     },
     "execution_count": 54,
     "metadata": {},
     "output_type": "execute_result"
    }
   ],
   "source": [
    "from sklearn.naive_bayes import MultinomialNB\n",
    "\n",
    "kFoldCheck(df, \"International\", \"Summary\", MultinomialNB())"
   ]
  },
  {
   "cell_type": "code",
   "execution_count": 58,
   "metadata": {},
   "outputs": [
    {
     "name": "stderr",
     "output_type": "stream",
     "text": [
      "/Users/eoin/anaconda/lib/python3.6/site-packages/sklearn/naive_bayes.py:480: UserWarning: alpha too small will result in numeric errors, setting alpha = 1.0e-10\n",
      "  'setting alpha = %.1e' % _ALPHA_MIN)\n",
      "/Users/eoin/anaconda/lib/python3.6/site-packages/sklearn/naive_bayes.py:480: UserWarning: alpha too small will result in numeric errors, setting alpha = 1.0e-10\n",
      "  'setting alpha = %.1e' % _ALPHA_MIN)\n",
      "/Users/eoin/anaconda/lib/python3.6/site-packages/sklearn/naive_bayes.py:480: UserWarning: alpha too small will result in numeric errors, setting alpha = 1.0e-10\n",
      "  'setting alpha = %.1e' % _ALPHA_MIN)\n"
     ]
    },
    {
     "name": "stdout",
     "output_type": "stream",
     "text": [
      "accuracy for 0.0: 0.8715562124279229\n",
      "accuracy for 0.1: 0.870048029563316\n",
      "accuracy for 0.2: 0.8690884869774189\n",
      "accuracy for 0.30000000000000004: 0.8678548215845042\n",
      "accuracy for 0.4: 0.8673064632091334\n",
      "accuracy for 0.5: 0.8667581612144305\n",
      "accuracy for 0.6000000000000001: 0.8664839256460773\n",
      "accuracy for 0.7000000000000001: 0.8660726850548831\n",
      "accuracy for 0.8: 0.8652502038724948\n",
      "accuracy for 0.9: 0.8649760246848096\n",
      "accuracy for 1.0: 0.864701845497124\n"
     ]
    },
    {
     "data": {
      "text/plain": [
       "[<matplotlib.lines.Line2D at 0x1a1992b278>]"
      ]
     },
     "execution_count": 58,
     "metadata": {},
     "output_type": "execute_result"
    },
    {
     "data": {
      "image/png": "[encoded data removed]",
      "text/plain": [
       "<Figure size 432x288 with 1 Axes>"
      ]
     },
     "metadata": {
      "needs_background": "light"
     },
     "output_type": "display_data"
    }
   ],
   "source": [
    "import matplotlib.pyplot as plt\n",
    "%matplotlib inline\n",
    "\n",
    "alphas = np.arange(0,1.1,0.1)\n",
    "accuracies = []\n",
    "\n",
    "for alpha in alphas:\n",
    "    acc = kFoldCheck(df, \"International\", \"Summary\", MultinomialNB(alpha=alpha))\n",
    "    accuracies.append(acc)\n",
    "    print(F\"accuracy for {alpha}: {acc}\")\n",
    "\n",
    "plt.plot(alphas, accuracies)"
   ]
  },
  {
   "cell_type": "code",
   "execution_count": 59,
   "metadata": {},
   "outputs": [
    {
     "name": "stderr",
     "output_type": "stream",
     "text": [
      "/Users/eoin/anaconda/lib/python3.6/site-packages/sklearn/naive_bayes.py:480: UserWarning: alpha too small will result in numeric errors, setting alpha = 1.0e-10\n",
      "  'setting alpha = %.1e' % _ALPHA_MIN)\n",
      "/Users/eoin/anaconda/lib/python3.6/site-packages/sklearn/naive_bayes.py:480: UserWarning: alpha too small will result in numeric errors, setting alpha = 1.0e-10\n",
      "  'setting alpha = %.1e' % _ALPHA_MIN)\n",
      "/Users/eoin/anaconda/lib/python3.6/site-packages/sklearn/naive_bayes.py:480: UserWarning: alpha too small will result in numeric errors, setting alpha = 1.0e-10\n",
      "  'setting alpha = %.1e' % _ALPHA_MIN)\n"
     ]
    },
    {
     "data": {
      "text/plain": [
       "0.8715562124279229"
      ]
     },
     "execution_count": 59,
     "metadata": {},
     "output_type": "execute_result"
    }
   ],
   "source": [
    "kFoldCheck(df, \"International\", \"Summary\", MultinomialNB(alpha=0))"
   ]
  },
  {
   "cell_type": "code",
   "execution_count": 60,
   "metadata": {},
   "outputs": [
    {
     "data": {
      "text/plain": [
       "0.8712820332402377"
      ]
     },
     "execution_count": 60,
     "metadata": {},
     "output_type": "execute_result"
    }
   ],
   "source": [
    "kFoldCheck(df, \"International\", \"Summary\", MultinomialNB(alpha=0.005))"
   ]
  },
  {
   "cell_type": "code",
   "execution_count": 73,
   "metadata": {},
   "outputs": [
    {
     "ename": "IndexError",
     "evalue": "only integers, slices (`:`), ellipsis (`...`), numpy.newaxis (`None`) and integer or boolean arrays are valid indices",
     "output_type": "error",
     "traceback": [
      "\u001b[0;31m---------------------------------------------------------------------------\u001b[0m",
      "\u001b[0;31mIndexError\u001b[0m                                Traceback (most recent call last)",
      "\u001b[0;32m<ipython-input-73-a15dd8f9bc4a>\u001b[0m in \u001b[0;36m<module>\u001b[0;34m\u001b[0m\n\u001b[1;32m      4\u001b[0m \u001b[0mgb\u001b[0m\u001b[0;34m.\u001b[0m\u001b[0mfit\u001b[0m\u001b[0;34m(\u001b[0m\u001b[0mtrainPlots\u001b[0m\u001b[0;34m,\u001b[0m \u001b[0mtrain\u001b[0m\u001b[0;34m[\u001b[0m\u001b[0;34m\"International\"\u001b[0m\u001b[0;34m]\u001b[0m\u001b[0;34m)\u001b[0m\u001b[0;34m\u001b[0m\u001b[0;34m\u001b[0m\u001b[0m\n\u001b[1;32m      5\u001b[0m \u001b[0mpred\u001b[0m \u001b[0;34m=\u001b[0m \u001b[0mgb\u001b[0m\u001b[0;34m.\u001b[0m\u001b[0mpredict\u001b[0m\u001b[0;34m(\u001b[0m\u001b[0mtestPlots\u001b[0m\u001b[0;34m)\u001b[0m\u001b[0;34m\u001b[0m\u001b[0;34m\u001b[0m\u001b[0m\n\u001b[0;32m----> 6\u001b[0;31m \u001b[0msum\u001b[0m\u001b[0;34m(\u001b[0m\u001b[0mpred\u001b[0m \u001b[0;34m==\u001b[0m \u001b[0mtestPlots\u001b[0m\u001b[0;34m[\u001b[0m\u001b[0;34m\"International\"\u001b[0m\u001b[0;34m]\u001b[0m\u001b[0;34m)\u001b[0m\u001b[0;34m/\u001b[0m\u001b[0mlen\u001b[0m\u001b[0;34m(\u001b[0m\u001b[0mpred\u001b[0m\u001b[0;34m)\u001b[0m\u001b[0;34m\u001b[0m\u001b[0;34m\u001b[0m\u001b[0m\n\u001b[0m",
      "\u001b[0;31mIndexError\u001b[0m: only integers, slices (`:`), ellipsis (`...`), numpy.newaxis (`None`) and integer or boolean arrays are valid indices"
     ]
    }
   ],
   "source": [
    "from sklearn.ensemble import GradientBoostingClassifier\n",
    "\n",
    "gb = GradientBoostingClassifier()\n",
    "gb.fit(trainPlots, train[\"International\"])\n",
    "pred = gb.predict(testPlots)\n",
    "sum(pred == testPlots[\"International\"])/len(pred)"
   ]
  },
  {
   "cell_type": "code",
   "execution_count": 74,
   "metadata": {},
   "outputs": [
    {
     "data": {
      "text/plain": [
       "0.8492117888965045"
      ]
     },
     "execution_count": 74,
     "metadata": {},
     "output_type": "execute_result"
    }
   ],
   "source": [
    "sum(pred == test[\"International\"])/len(pred)"
   ]
  },
  {
   "cell_type": "code",
   "execution_count": 75,
   "metadata": {},
   "outputs": [
    {
     "data": {
      "text/plain": [
       "0.8457847840986977"
      ]
     },
     "execution_count": 75,
     "metadata": {},
     "output_type": "execute_result"
    }
   ],
   "source": [
    "from sklearn.ensemble import BaggingClassifier\n",
    "\n",
    "bg = BaggingClassifier()\n",
    "bg.fit(trainPlots, train[\"International\"])\n",
    "pred = bg.predict(testPlots)\n",
    "sum(pred == test[\"International\"])/len(pred)"
   ]
  },
  {
   "cell_type": "markdown",
   "metadata": {},
   "source": [
    "### Language"
   ]
  },
  {
   "cell_type": "code",
   "execution_count": 71,
   "metadata": {},
   "outputs": [
    {
     "data": {
      "text/plain": [
       "0.9361208161034013"
      ]
     },
     "execution_count": 71,
     "metadata": {},
     "output_type": "execute_result"
    }
   ],
   "source": [
    "kFoldCheck(df, \"ForeignLanguage\", \"Summary\", MultinomialNB(alpha=1e-10))"
   ]
  }
 ],
 "metadata": {
  "kernelspec": {
   "display_name": "Python 3",
   "language": "python",
   "name": "python3"
  },
  "language_info": {
   "codemirror_mode": {
    "name": "ipython",
    "version": 3
   },
   "file_extension": ".py",
   "mimetype": "text/x-python",
   "name": "python",
   "nbconvert_exporter": "python",
   "pygments_lexer": "ipython3",
   "version": "3.6.7"
  }
 },
 "nbformat": 4,
 "nbformat_minor": 2
}
