{
 "cells": [
  {
   "cell_type": "code",
   "execution_count": 1,
   "metadata": {},
   "outputs": [],
   "source": [
    "import pandas as pd\n",
    "import matplotlib.pyplot as plt\n",
    "import numpy as np\n",
    "\n",
    "%matplotlib inline"
   ]
  },
  {
   "cell_type": "code",
   "execution_count": 27,
   "metadata": {},
   "outputs": [
    {
     "data": {
      "text/html": [
       "<div>\n",
       "<style scoped>\n",
       "    .dataframe tbody tr th:only-of-type {\n",
       "        vertical-align: middle;\n",
       "    }\n",
       "\n",
       "    .dataframe tbody tr th {\n",
       "        vertical-align: top;\n",
       "    }\n",
       "\n",
       "    .dataframe thead th {\n",
       "        text-align: right;\n",
       "    }\n",
       "</style>\n",
       "<table border=\"1\" class=\"dataframe\">\n",
       "  <thead>\n",
       "    <tr style=\"text-align: right;\">\n",
       "      <th></th>\n",
       "      <th>WikiID</th>\n",
       "      <th>Name</th>\n",
       "      <th>Revenue</th>\n",
       "      <th>ReleaseDate</th>\n",
       "      <th>Languages</th>\n",
       "      <th>Countries</th>\n",
       "      <th>Genres</th>\n",
       "      <th>Summary</th>\n",
       "      <th>Year</th>\n",
       "      <th>AdjustedRevenue</th>\n",
       "    </tr>\n",
       "  </thead>\n",
       "  <tbody>\n",
       "    <tr>\n",
       "      <th>0</th>\n",
       "      <td>975900</td>\n",
       "      <td>Ghosts of Mars</td>\n",
       "      <td>14010832.0</td>\n",
       "      <td>2001-08-24</td>\n",
       "      <td>[English Language]</td>\n",
       "      <td>[United States of America]</td>\n",
       "      <td>[Thriller, Science Fiction, Horror, Adventure,...</td>\n",
       "      <td>Set in the second half of the 22nd century, th...</td>\n",
       "      <td>2001.0</td>\n",
       "      <td>2.022468e+07</td>\n",
       "    </tr>\n",
       "    <tr>\n",
       "      <th>5</th>\n",
       "      <td>171005</td>\n",
       "      <td>Henry V</td>\n",
       "      <td>10161099.0</td>\n",
       "      <td>1989-11-08</td>\n",
       "      <td>[English Language]</td>\n",
       "      <td>[United Kingdom]</td>\n",
       "      <td>[Costume drama, War film, Epic, Period piece, ...</td>\n",
       "      <td>{{Plot|dateAct 1Act 2Act 3Act 4Act 5 Finally n...</td>\n",
       "      <td>1989.0</td>\n",
       "      <td>2.093678e+07</td>\n",
       "    </tr>\n",
       "    <tr>\n",
       "      <th>8</th>\n",
       "      <td>77856</td>\n",
       "      <td>Mary Poppins</td>\n",
       "      <td>102272727.0</td>\n",
       "      <td>1964-08-27</td>\n",
       "      <td>[English Language]</td>\n",
       "      <td>[United States of America]</td>\n",
       "      <td>[Children's/Family, Musical, Fantasy, Comedy, ...</td>\n",
       "      <td>The film opens with Mary Poppins  perched in a...</td>\n",
       "      <td>1964.0</td>\n",
       "      <td>8.429252e+08</td>\n",
       "    </tr>\n",
       "    <tr>\n",
       "      <th>12</th>\n",
       "      <td>156558</td>\n",
       "      <td>Baby Boy</td>\n",
       "      <td>29381649.0</td>\n",
       "      <td>2001-06-27</td>\n",
       "      <td>[English Language]</td>\n",
       "      <td>[United States of America]</td>\n",
       "      <td>[Crime Fiction, Drama, Coming of age]</td>\n",
       "      <td>A young 20-year-old named Jody  lives with his...</td>\n",
       "      <td>2001.0</td>\n",
       "      <td>4.241249e+07</td>\n",
       "    </tr>\n",
       "    <tr>\n",
       "      <th>22</th>\n",
       "      <td>261237</td>\n",
       "      <td>The Gods Must Be Crazy</td>\n",
       "      <td>34331783.0</td>\n",
       "      <td>1980</td>\n",
       "      <td>[Afrikaans Language, English Language]</td>\n",
       "      <td>[South Africa]</td>\n",
       "      <td>[Adventure, Action/Adventure, Indie, World cin...</td>\n",
       "      <td>The film is a collision of three separate stor...</td>\n",
       "      <td>1980.0</td>\n",
       "      <td>1.066477e+08</td>\n",
       "    </tr>\n",
       "  </tbody>\n",
       "</table>\n",
       "</div>"
      ],
      "text/plain": [
       "    WikiID                    Name      Revenue ReleaseDate  \\\n",
       "0   975900          Ghosts of Mars   14010832.0  2001-08-24   \n",
       "5   171005                 Henry V   10161099.0  1989-11-08   \n",
       "8    77856            Mary Poppins  102272727.0  1964-08-27   \n",
       "12  156558                Baby Boy   29381649.0  2001-06-27   \n",
       "22  261237  The Gods Must Be Crazy   34331783.0        1980   \n",
       "\n",
       "                                 Languages                   Countries  \\\n",
       "0                       [English Language]  [United States of America]   \n",
       "5                       [English Language]            [United Kingdom]   \n",
       "8                       [English Language]  [United States of America]   \n",
       "12                      [English Language]  [United States of America]   \n",
       "22  [Afrikaans Language, English Language]              [South Africa]   \n",
       "\n",
       "                                               Genres  \\\n",
       "0   [Thriller, Science Fiction, Horror, Adventure,...   \n",
       "5   [Costume drama, War film, Epic, Period piece, ...   \n",
       "8   [Children's/Family, Musical, Fantasy, Comedy, ...   \n",
       "12              [Crime Fiction, Drama, Coming of age]   \n",
       "22  [Adventure, Action/Adventure, Indie, World cin...   \n",
       "\n",
       "                                              Summary    Year  AdjustedRevenue  \n",
       "0   Set in the second half of the 22nd century, th...  2001.0     2.022468e+07  \n",
       "5   {{Plot|dateAct 1Act 2Act 3Act 4Act 5 Finally n...  1989.0     2.093678e+07  \n",
       "8   The film opens with Mary Poppins  perched in a...  1964.0     8.429252e+08  \n",
       "12  A young 20-year-old named Jody  lives with his...  2001.0     4.241249e+07  \n",
       "22  The film is a collision of three separate stor...  1980.0     1.066477e+08  "
      ]
     },
     "execution_count": 27,
     "metadata": {},
     "output_type": "execute_result"
    }
   ],
   "source": [
    "df = pd.read_csv(\"ExportedData/cleanCMURevenueAdjusted.tsv\", sep=\"\\t\")\n",
    "df = pd.read_csv(\"ExportedData/cleanCMURevenueAdjusted.tsv\", sep=\"\\t\")\n",
    "\n",
    "df[\"Languages\"] = df[\"Languages\"].apply(lambda x: eval(x))\n",
    "df[\"Languages\"] = df[df[\"Languages\"].map(len) > 0][\"Languages\"]\n",
    "\n",
    "df[\"Genres\"] = df[\"Genres\"].apply(lambda x: eval(x))\n",
    "df[\"Genres\"] = df[df[\"Genres\"].map(len) > 0][\"Genres\"]\n",
    "\n",
    "df[\"Countries\"] = df[\"Countries\"].apply(lambda x: eval(x))\n",
    "df[\"Countries\"] = df[df[\"Countries\"].map(len) > 0][\"Countries\"]\n",
    "\n",
    "df = df.dropna()\n",
    "df.head()"
   ]
  },
  {
   "cell_type": "code",
   "execution_count": 10,
   "metadata": {},
   "outputs": [
    {
     "data": {
      "text/plain": [
       "7295"
      ]
     },
     "execution_count": 10,
     "metadata": {},
     "output_type": "execute_result"
    }
   ],
   "source": [
    "len(df)"
   ]
  },
  {
   "cell_type": "code",
   "execution_count": 15,
   "metadata": {},
   "outputs": [
    {
     "data": {
      "text/plain": [
       "(array([0.0001119 , 0.00069939, 0.0017205 , 0.00461597, 0.00454603,\n",
       "        0.00288148, 0.0065183 , 0.01824006, 0.02579346, 0.03691374]),\n",
       " array([1914. , 1923.8, 1933.6, 1943.4, 1953.2, 1963. , 1972.8, 1982.6,\n",
       "        1992.4, 2002.2, 2012. ]),\n",
       " <a list of 10 Patch objects>)"
      ]
     },
     "execution_count": 15,
     "metadata": {},
     "output_type": "execute_result"
    },
    {
     "data": {
      "image/png": "[encoded data removed]",
      "text/plain": [
       "<Figure size 432x288 with 1 Axes>"
      ]
     },
     "metadata": {
      "needs_background": "light"
     },
     "output_type": "display_data"
    }
   ],
   "source": [
    "fig, ax = plt.subplots(figsize=(6,4))\n",
    "ax.set_title(\"Distribution of Movie Years in the Dataset\")\n",
    "ax.hist(df[\"Year\"].values, density=True, edgecolor='white')"
   ]
  },
  {
   "cell_type": "code",
   "execution_count": 24,
   "metadata": {},
   "outputs": [
    {
     "data": {
      "text/plain": [
       "Text(0.5, 1.0, 'Proportion of Countries in the Dataset')"
      ]
     },
     "execution_count": 24,
     "metadata": {},
     "output_type": "execute_result"
    },
    {
     "data": {
      "image/png": "[encoded data removed]",
      "text/plain": [
       "<Figure size 432x288 with 1 Axes>"
      ]
     },
     "metadata": {},
     "output_type": "display_data"
    }
   ],
   "source": [
    "numUs = 0\n",
    "for cList in df[\"Countries\"]:\n",
    "    isUS = False\n",
    "    for country in cList:\n",
    "        if country == \"United States of America\":\n",
    "            isUS = True\n",
    "    if isUS:\n",
    "        numUs += 1\n",
    "\n",
    "numUs = numUs / len(df)\n",
    "numNot = 1 - numUs\n",
    "        \n",
    "fig, ax = plt.subplots(figsize=(6,4))\n",
    "ax.pie([numUs,numNot], labels=[\"US\",\"International\"], autopct='%1.1f%%', shadow=True)\n",
    "ax.set_title(\"Proportion of Countries in the Dataset\")"
   ]
  },
  {
   "cell_type": "code",
   "execution_count": 30,
   "metadata": {},
   "outputs": [
    {
     "data": {
      "text/plain": [
       "Text(0.5, 1.0, 'Proportion of Languages in the Dataset')"
      ]
     },
     "execution_count": 30,
     "metadata": {},
     "output_type": "execute_result"
    },
    {
     "data": {
      "image/png": "[encoded data removed]",
      "text/plain": [
       "<Figure size 432x288 with 1 Axes>"
      ]
     },
     "metadata": {},
     "output_type": "display_data"
    }
   ],
   "source": [
    "numEng = 0\n",
    "englishes = set(['American English', 'English Language'])\n",
    "\n",
    "for lList in df[\"Languages\"]:\n",
    "    isEng = False\n",
    "    for lang in lList:\n",
    "        if lang in englishes:\n",
    "            isEng = True\n",
    "            break\n",
    "    if isEng:\n",
    "        numEng += 1\n",
    "\n",
    "numEng = numEng / len(df)\n",
    "numNot = 1 - numEng\n",
    "        \n",
    "fig, ax = plt.subplots(figsize=(6,4))\n",
    "ax.pie([numEng,numNot], labels=[\"English\",\"Non-English\"], autopct='%1.1f%%', shadow=True)\n",
    "ax.set_title(\"Proportion of Languages in the Dataset\")"
   ]
  },
  {
   "cell_type": "code",
   "execution_count": null,
   "metadata": {},
   "outputs": [],
   "source": []
  }
 ],
 "metadata": {
  "kernelspec": {
   "display_name": "Python 3",
   "language": "python",
   "name": "python3"
  },
  "language_info": {
   "codemirror_mode": {
    "name": "ipython",
    "version": 3
   },
   "file_extension": ".py",
   "mimetype": "text/x-python",
   "name": "python",
   "nbconvert_exporter": "python",
   "pygments_lexer": "ipython3",
   "version": "3.6.7"
  }
 },
 "nbformat": 4,
 "nbformat_minor": 2
}
