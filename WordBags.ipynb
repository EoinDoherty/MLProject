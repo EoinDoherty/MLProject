{
 "cells": [
  {
   "cell_type": "code",
   "execution_count": 41,
   "metadata": {
    "collapsed": true
   },
   "outputs": [],
   "source": [
    "from nltk.corpus import stopwords\n",
    "from nltk.tokenize import word_tokenize\n",
    "from nltk.corpus import stopwords\n",
    "from nltk.stem.porter import PorterStemmer\n",
    "from sklearn.feature_extraction.text import TfidfVectorizer\n",
    "from sklearn.decomposition import TruncatedSVD\n",
    "from nltk.tokenize import RegexpTokenizer\n",
    "from sklearn.model_selection import train_test_split\n",
    "from sklearn.ensemble import RandomForestClassifier\n",
    "from sklearn.datasets import make_classification\n",
    "from sklearn.linear_model import LogisticRegression\n",
    "from sklearn.naive_bayes import GaussianNB\n",
    "import pandas as pd\n",
    "import numpy as np\n",
    "from sklearn.feature_extraction.text import CountVectorizer\n",
    "from sklearn.ensemble import GradientBoostingClassifier"
   ]
  },
  {
   "cell_type": "code",
   "execution_count": 42,
   "metadata": {},
   "outputs": [
    {
     "data": {
      "text/html": [
       "<div>\n",
       "<style scoped>\n",
       "    .dataframe tbody tr th:only-of-type {\n",
       "        vertical-align: middle;\n",
       "    }\n",
       "\n",
       "    .dataframe tbody tr th {\n",
       "        vertical-align: top;\n",
       "    }\n",
       "\n",
       "    .dataframe thead th {\n",
       "        text-align: right;\n",
       "    }\n",
       "</style>\n",
       "<table border=\"1\" class=\"dataframe\">\n",
       "  <thead>\n",
       "    <tr style=\"text-align: right;\">\n",
       "      <th></th>\n",
       "      <th>WikiID</th>\n",
       "      <th>Name</th>\n",
       "      <th>Revenue</th>\n",
       "      <th>ReleaseDate</th>\n",
       "      <th>Languages</th>\n",
       "      <th>Countries</th>\n",
       "      <th>Genres</th>\n",
       "      <th>Summary</th>\n",
       "      <th>Year</th>\n",
       "      <th>AdjustedRevenue</th>\n",
       "    </tr>\n",
       "  </thead>\n",
       "  <tbody>\n",
       "    <tr>\n",
       "      <th>10</th>\n",
       "      <td>21926710</td>\n",
       "      <td>White on Rice</td>\n",
       "      <td>NaN</td>\n",
       "      <td>2009</td>\n",
       "      <td>[]</td>\n",
       "      <td>['United States of America']</td>\n",
       "      <td>[Romantic comedy, Romance Film, Comedy, Indie]</td>\n",
       "      <td>Jimmy ([[Hiroshi Watanabe  loves dinosaurs and...</td>\n",
       "      <td>2009.0</td>\n",
       "      <td>NaN</td>\n",
       "    </tr>\n",
       "    <tr>\n",
       "      <th>11</th>\n",
       "      <td>20604092</td>\n",
       "      <td>Anbu Thozhi</td>\n",
       "      <td>NaN</td>\n",
       "      <td>2007-08-17</td>\n",
       "      <td>['Tamil Language']</td>\n",
       "      <td>['India']</td>\n",
       "      <td>[Romance Film]</td>\n",
       "      <td>The film opens with a simpleton from a small v...</td>\n",
       "      <td>2007.0</td>\n",
       "      <td>NaN</td>\n",
       "    </tr>\n",
       "    <tr>\n",
       "      <th>12</th>\n",
       "      <td>156558</td>\n",
       "      <td>Baby Boy</td>\n",
       "      <td>29381649.0</td>\n",
       "      <td>2001-06-27</td>\n",
       "      <td>['English Language']</td>\n",
       "      <td>['United States of America']</td>\n",
       "      <td>[Crime Fiction, Drama, Coming of age]</td>\n",
       "      <td>A young 20-year-old named Jody  lives with his...</td>\n",
       "      <td>2001.0</td>\n",
       "      <td>4.241249e+07</td>\n",
       "    </tr>\n",
       "    <tr>\n",
       "      <th>13</th>\n",
       "      <td>11448183</td>\n",
       "      <td>Bindiya Chamkegi</td>\n",
       "      <td>NaN</td>\n",
       "      <td>1984-01-20</td>\n",
       "      <td>['Hindi Language']</td>\n",
       "      <td>['India']</td>\n",
       "      <td>[Family Film, Comedy]</td>\n",
       "      <td>Shalini 'Shalu' lives a wealthy lifestyle with...</td>\n",
       "      <td>1984.0</td>\n",
       "      <td>NaN</td>\n",
       "    </tr>\n",
       "    <tr>\n",
       "      <th>14</th>\n",
       "      <td>9633533</td>\n",
       "      <td>Vandanam</td>\n",
       "      <td>NaN</td>\n",
       "      <td>1989</td>\n",
       "      <td>['Malayalam Language']</td>\n",
       "      <td>['India']</td>\n",
       "      <td>[Action]</td>\n",
       "      <td>Professor Kurian Fernandez , a convict escapes...</td>\n",
       "      <td>1989.0</td>\n",
       "      <td>NaN</td>\n",
       "    </tr>\n",
       "    <tr>\n",
       "      <th>15</th>\n",
       "      <td>29528534</td>\n",
       "      <td>Anokha Rishta</td>\n",
       "      <td>NaN</td>\n",
       "      <td>1986</td>\n",
       "      <td>['Hindi Language']</td>\n",
       "      <td>['India']</td>\n",
       "      <td>[World cinema, Musical, Drama, Romantic drama,...</td>\n",
       "      <td>Mary, an orphan lives in an orphanage run by n...</td>\n",
       "      <td>1986.0</td>\n",
       "      <td>NaN</td>\n",
       "    </tr>\n",
       "    <tr>\n",
       "      <th>16</th>\n",
       "      <td>29772142</td>\n",
       "      <td>Karayilekku Oru Kadal Dooram</td>\n",
       "      <td>NaN</td>\n",
       "      <td>2010-12-31</td>\n",
       "      <td>['Malayalam Language']</td>\n",
       "      <td>['India']</td>\n",
       "      <td>[Drama]</td>\n",
       "      <td>Anoop Chandran , is a famous writer and award ...</td>\n",
       "      <td>2010.0</td>\n",
       "      <td>NaN</td>\n",
       "    </tr>\n",
       "    <tr>\n",
       "      <th>17</th>\n",
       "      <td>26067101</td>\n",
       "      <td>Siam Sunset</td>\n",
       "      <td>NaN</td>\n",
       "      <td>1999</td>\n",
       "      <td>[]</td>\n",
       "      <td>['Australia', 'New Zealand']</td>\n",
       "      <td>[Romantic comedy, Romance Film, Comedy, World ...</td>\n",
       "      <td>Perry is an English chemist working for a pain...</td>\n",
       "      <td>1999.0</td>\n",
       "      <td>NaN</td>\n",
       "    </tr>\n",
       "    <tr>\n",
       "      <th>18</th>\n",
       "      <td>26623942</td>\n",
       "      <td>Kausthubham</td>\n",
       "      <td>NaN</td>\n",
       "      <td>2010-03-19</td>\n",
       "      <td>['Malayalam Language']</td>\n",
       "      <td>['India']</td>\n",
       "      <td>[Drama]</td>\n",
       "      <td>The film is the story of Yamuna  whose life is...</td>\n",
       "      <td>2010.0</td>\n",
       "      <td>NaN</td>\n",
       "    </tr>\n",
       "    <tr>\n",
       "      <th>19</th>\n",
       "      <td>9548445</td>\n",
       "      <td>Archie: To Riverdale and Back Again</td>\n",
       "      <td>NaN</td>\n",
       "      <td>1990-05-06</td>\n",
       "      <td>['English Language']</td>\n",
       "      <td>['United States of America']</td>\n",
       "      <td>[Comedy]</td>\n",
       "      <td>Archie Andrews, fifteen years after graduating...</td>\n",
       "      <td>1990.0</td>\n",
       "      <td>NaN</td>\n",
       "    </tr>\n",
       "  </tbody>\n",
       "</table>\n",
       "</div>"
      ],
      "text/plain": [
       "      WikiID                                 Name     Revenue ReleaseDate  \\\n",
       "10  21926710                        White on Rice         NaN        2009   \n",
       "11  20604092                          Anbu Thozhi         NaN  2007-08-17   \n",
       "12    156558                             Baby Boy  29381649.0  2001-06-27   \n",
       "13  11448183                     Bindiya Chamkegi         NaN  1984-01-20   \n",
       "14   9633533                             Vandanam         NaN        1989   \n",
       "15  29528534                        Anokha Rishta         NaN        1986   \n",
       "16  29772142         Karayilekku Oru Kadal Dooram         NaN  2010-12-31   \n",
       "17  26067101                          Siam Sunset         NaN        1999   \n",
       "18  26623942                          Kausthubham         NaN  2010-03-19   \n",
       "19   9548445  Archie: To Riverdale and Back Again         NaN  1990-05-06   \n",
       "\n",
       "                 Languages                     Countries  \\\n",
       "10                      []  ['United States of America']   \n",
       "11      ['Tamil Language']                     ['India']   \n",
       "12    ['English Language']  ['United States of America']   \n",
       "13      ['Hindi Language']                     ['India']   \n",
       "14  ['Malayalam Language']                     ['India']   \n",
       "15      ['Hindi Language']                     ['India']   \n",
       "16  ['Malayalam Language']                     ['India']   \n",
       "17                      []  ['Australia', 'New Zealand']   \n",
       "18  ['Malayalam Language']                     ['India']   \n",
       "19    ['English Language']  ['United States of America']   \n",
       "\n",
       "                                               Genres  \\\n",
       "10     [Romantic comedy, Romance Film, Comedy, Indie]   \n",
       "11                                     [Romance Film]   \n",
       "12              [Crime Fiction, Drama, Coming of age]   \n",
       "13                              [Family Film, Comedy]   \n",
       "14                                           [Action]   \n",
       "15  [World cinema, Musical, Drama, Romantic drama,...   \n",
       "16                                            [Drama]   \n",
       "17  [Romantic comedy, Romance Film, Comedy, World ...   \n",
       "18                                            [Drama]   \n",
       "19                                           [Comedy]   \n",
       "\n",
       "                                              Summary    Year  AdjustedRevenue  \n",
       "10  Jimmy ([[Hiroshi Watanabe  loves dinosaurs and...  2009.0              NaN  \n",
       "11  The film opens with a simpleton from a small v...  2007.0              NaN  \n",
       "12  A young 20-year-old named Jody  lives with his...  2001.0     4.241249e+07  \n",
       "13  Shalini 'Shalu' lives a wealthy lifestyle with...  1984.0              NaN  \n",
       "14  Professor Kurian Fernandez , a convict escapes...  1989.0              NaN  \n",
       "15  Mary, an orphan lives in an orphanage run by n...  1986.0              NaN  \n",
       "16  Anoop Chandran , is a famous writer and award ...  2010.0              NaN  \n",
       "17  Perry is an English chemist working for a pain...  1999.0              NaN  \n",
       "18  The film is the story of Yamuna  whose life is...  2010.0              NaN  \n",
       "19  Archie Andrews, fifteen years after graduating...  1990.0              NaN  "
      ]
     },
     "execution_count": 42,
     "metadata": {},
     "output_type": "execute_result"
    }
   ],
   "source": [
    "pts = 10000\n",
    "mdat = pd.read_csv('cleanCMURevenueAdjusted.tsv',nrows = pts, delimiter='\\t',encoding='utf-8-sig')\n",
    "plotsum = mdat[mdat.columns[7]]\n",
    "mdat[\"Genres\"] = mdat.apply(lambda row: eval(row[\"Genres\"]), axis=1)\n",
    "#g3 = mdat[\"Genres\"]\n",
    "gen = mdat[\"Genres\"]\n",
    "titles = mdat[\"Name\"]\n",
    "mdat.iloc[10:20]\n",
    "#Train2, Test2 = train_test_split(mdat, test_size=0.3)\n",
    "#TrainPlot = Train2[mdat.columns[7]]\n",
    "#TestPlot = Test2[mdat.columns[7]]\n",
    "#TrainGen = Train2[\"Genres\"]\n",
    "#TestGen = Test2[\"Genres\"]"
   ]
  },
  {
   "cell_type": "code",
   "execution_count": 43,
   "metadata": {},
   "outputs": [
    {
     "data": {
      "text/plain": [
       "'A young 20-year-old named Jody  lives with his mother Juanita ,{{amg movie}} in South Central Los Angeles. He spends most of his time with his unemployed best friend P , and does not seem interested in becoming a responsible adult. However, he is forced to mature as a result of an ex-con named Melvin , who moves into their home. Another factor is his children - a son with his girlfriend Yvette  and a daughter with a girl named Peanut, who also lives with her mother. At the beginning of the movie Yvette has an abortion that Jody forced her to have. Yvette constantly asks Jody if he will ever come live with her and their son, but Jody avoids the subject and comes and goes as he pleases. Jody also continues seeing and having sex with other women, including Peanut. This becomes an issue between him and Yvette as well, especially since Yvette and Peanut do not get along. When she discovers his cheating they get in a heated argument which results to Jody slapping Yvette in the face. After this, Yvette changes the locks on the door. This infuriates Jody and they get into an argument. Their son comes out of his room and runs to the door. Yvette grabs him and cradles him while he yells, \"I wanna see my daddy.\" Eventually, Yvette\\'s gangster ex-boyfriend Rodney  is released from San Quentin State Prison, and returns to the neighborhood to move in with Yvette, much to her dismay. Rodney doesn\\'t care for Yvette and Jody\\'s son and wants to impregnate Yvette himself. Rodney attempts to rape Yvette in front of her son. She tells him, \"So you\\'re really gonna rape me in front of my son\". Rodney pauses for a minute then pushes her son out of the way and walks out of the room. Jody Jr. aka JoJo then says, \"I want my daddy.\" Yvette then cradles her son and replies, \"I know baby, I do too.\" For the next couple of days Yvette lives in fear and disgust of Rodney being there and misses Jody. Rodney, who realizes this, steals the money from her wallet and takes off in her car to go and find Jody. Rodney tries to kill Jody in a drive-by shooting; however, he is unsuccessful with both efforts. After this Yvette kicks Rodney and his friends out of her apartment. While at Sweetpea\\'s house playing cards, Yvette and Sweetpea\\'s girlfriend Kim step outside. Yvette then goes and sits beside Jody. When Jody ignores her she throws the chair back and runs off. Jody goes after her. She then tells Jody about everything she has been going through, even about Rodney trying rape her. Jody then hugs Yvette and says that he\\'s been missing her. Jody and Sweetpea confront Rodney, and as he attempts to escape, Jody shoots him in the ankle. Sweetpea urges Jody to kill Rodney, but he refuses, at which point Sweetpea kills Rodney himself. Feeling guilty for Rodney\\'s death, Jody prepares to commit suicide by shooting himself in the head, but Melvin catches him and takes the gun. After reflecting on the death of Rodney and how he put Yvette and his son in danger by not being around consistently, Jody finally moves out of his mom\\'s house and in with Yvette. They move into a motel after the killing. Jody has now become a mature man, realizing that his mom\\'s relationship with Melvin is a stable one and that he has a family of his own that he needs to protect and take care of. Afterwards, Jody and Yvette get married and she becomes pregnant with Jody\\'s third child and her second child with him. Sweetpea decides to turn over a new life and gets baptized, putting his old life as a street thug behind him.'"
      ]
     },
     "execution_count": 43,
     "metadata": {},
     "output_type": "execute_result"
    }
   ],
   "source": [
    "plotsum[12]"
   ]
  },
  {
   "cell_type": "code",
   "execution_count": 44,
   "metadata": {
    "collapsed": true
   },
   "outputs": [],
   "source": [
    "gen = mdat[\"Genres\"]\n",
    "comPlots = list()\n",
    "romPlots = list()\n",
    "horPlots = list()\n",
    "actionPlots = list()\n",
    "for jj in range(len(gen)):\n",
    "    if any(x == 'Comedy' for x in gen[jj]):\n",
    "        comPlots.append(plotsum[jj])\n",
    "    if any(x == 'Horror' or x == 'Thriller' for x in gen[jj]):\n",
    "        horPlots.append(plotsum[jj])\n",
    "    if any(x == 'Romance' or x == \"Romantic comedy\" or x == \"Romance Film\" for x in gen[jj]):\n",
    "        romPlots.append(plotsum[jj])\n",
    "    if any(x == 'Action' for x in gen[jj]):\n",
    "        actionPlots.append(plotsum[jj])"
   ]
  },
  {
   "cell_type": "code",
   "execution_count": 45,
   "metadata": {},
   "outputs": [
    {
     "data": {
      "text/plain": [
       "1345"
      ]
     },
     "execution_count": 45,
     "metadata": {},
     "output_type": "execute_result"
    }
   ],
   "source": [
    "len(actionPlots)"
   ]
  },
  {
   "cell_type": "code",
   "execution_count": 60,
   "metadata": {},
   "outputs": [],
   "source": [
    "n = 300\n",
    "\n",
    "vectorizer = TfidfVectorizer(max_features = n, stop_words = stopwords.words('english'))\n",
    "plotvecs = vectorizer.fit_transform(plotsum)\n",
    "\n",
    "plotNames = vectorizer.get_feature_names()"
   ]
  },
  {
   "cell_type": "code",
   "execution_count": 61,
   "metadata": {},
   "outputs": [],
   "source": [
    "\n",
    "\n",
    "romvec = TfidfVectorizer(max_features = n, stop_words = stopwords.words('english'))\n",
    "comvec = TfidfVectorizer(max_features = n, stop_words = stopwords.words('english'))\n",
    "horvec = TfidfVectorizer(max_features = n, stop_words = stopwords.words('english'))\n",
    "actionvec = TfidfVectorizer(max_features = n, stop_words = stopwords.words('english'))\n",
    "\n",
    "comTok = comvec.fit_transform(comPlots)\n",
    "romTok = romvec.fit_transform(romPlots)\n",
    "horTok = horvec.fit_transform(horPlots)\n",
    "actionTok = actionvec.fit_transform(actionPlots)\n",
    "\n",
    "comNames = comvec.get_feature_names()\n",
    "romNames = romvec.get_feature_names()\n",
    "horNames = horvec.get_feature_names()\n",
    "actionNames = actionvec.get_feature_names()"
   ]
  },
  {
   "cell_type": "code",
   "execution_count": 62,
   "metadata": {},
   "outputs": [],
   "source": [
    "comspec = list()\n",
    "romspec = list()\n",
    "horspec = list()\n",
    "actionspec = list()\n",
    "\n",
    "for kk in range(n):\n",
    "    if comNames[kk] not in plotNames:\n",
    "        comspec.append(comNames[kk])\n",
    "    if romNames[kk] not in plotNames:\n",
    "        romspec.append(romNames[kk])\n",
    "    if horNames[kk] not in plotNames:\n",
    "        horspec.append(horNames[kk])\n",
    "    if actionNames[kk] not in plotNames:\n",
    "        actionspec.append(actionNames[kk])\n"
   ]
  },
  {
   "cell_type": "code",
   "execution_count": 63,
   "metadata": {},
   "outputs": [
    {
     "name": "stdout",
     "output_type": "stream",
     "text": [
      "['accidentally', 'agent', 'band', 'bank', 'big', 'bob', 'boss', 'boyfriend', 'boys', 'break', 'bugs', 'causing', 'college', 'dance', 'dinner', 'fact', 'frank', 'girls', 'immediately', 'larry', 'max', 'meeting', 'mrs', 'office', 'owner', 'playing', 'ray', 'right', 'saying', 'sex', 'song', 'win']\n"
     ]
    }
   ],
   "source": [
    "print(comspec)"
   ]
  },
  {
   "cell_type": "code",
   "execution_count": 64,
   "metadata": {},
   "outputs": [
    {
     "name": "stdout",
     "output_type": "stream",
     "text": [
      "['accepts', 'accident', 'affair', 'beautiful', 'believes', 'bill', 'book', 'boyfriend', 'break', 'class', 'college', 'dance', 'date', 'dinner', 'fact', 'feelings', 'feels', 'girls', 'happy', 'heart', 'henry', 'jane', 'jenny', 'julia', 'julie', 'kate', 'kiss', 'knows', 'law', 'let', 'letter', 'lover', 'loves', 'max', 'meeting', 'offers', 'paris', 'pregnant', 'raj', 'really', 'right', 'saying', 'seeing', 'sex', 'thinks', 'true', 'truth', 'unable', 'uncle', 'want', 'wealthy']\n"
     ]
    }
   ],
   "source": [
    "print(romspec)"
   ]
  },
  {
   "cell_type": "code",
   "execution_count": 65,
   "metadata": {},
   "outputs": [
    {
     "name": "stdout",
     "output_type": "stream",
     "text": [
      "['agent', 'alex', 'alice', 'alive', 'attacked', 'attacks', 'believes', 'blood', 'building', 'control', 'creature', 'crew', 'crime', 'detective', 'died', 'earlier', 'force', 'frank', 'ghost', 'harry', 'human', 'killer', 'mrs', 'murdered', 'murders', 'mysterious', 'nearby', 'nick', 'office', 'open', 'opens', 'phone', 'ray', 'revenge', 'sarah', 'search', 'shoot', 'shoots', 'something', 'strange', 'suddenly', 'suicide', 'truck', 'window']\n"
     ]
    }
   ],
   "source": [
    "print(horspec)"
   ]
  },
  {
   "cell_type": "code",
   "execution_count": 66,
   "metadata": {},
   "outputs": [
    {
     "name": "stdout",
     "output_type": "stream",
     "text": [
      "['across', 'agent', 'alex', 'alice', 'alive', 'attacked', 'attacks', 'bank', 'battle', 'bomb', 'boss', 'building', 'captured', 'causing', 'control', 'crew', 'crime', 'deal', 'destroy', 'drug', 'earth', 'force', 'forces', 'frank', 'general', 'harry', 'human', 'information', 'island', 'jake', 'japanese', 'killer', 'kong', 'leader', 'led', 'max', 'members', 'military', 'mission', 'power', 'race', 'rescue', 'rest', 'revenge', 'sends', 'shoot', 'shoots', 'soldiers', 'states', 'top', 'wounded']\n"
     ]
    }
   ],
   "source": [
    "print(actionspec)"
   ]
  },
  {
   "cell_type": "code",
   "execution_count": null,
   "metadata": {
    "collapsed": true
   },
   "outputs": [],
   "source": []
  }
 ],
 "metadata": {
  "kernelspec": {
   "display_name": "Python 3",
   "language": "python",
   "name": "python3"
  },
  "language_info": {
   "codemirror_mode": {
    "name": "ipython",
    "version": 3
   },
   "file_extension": ".py",
   "mimetype": "text/x-python",
   "name": "python",
   "nbconvert_exporter": "python",
   "pygments_lexer": "ipython3",
   "version": "3.6.8"
  }
 },
 "nbformat": 4,
 "nbformat_minor": 2
}
