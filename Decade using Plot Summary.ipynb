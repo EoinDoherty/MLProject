{
 "cells": [
  {
   "cell_type": "code",
   "execution_count": 1,
   "metadata": {},
   "outputs": [],
   "source": [
    "import numpy as np\n",
    "import pandas as pd\n",
    "import nltk\n",
    "from nltk.corpus import stopwords\n",
    "from nltk.tokenize import word_tokenize\n",
    "from nltk.corpus import stopwords\n",
    "from nltk.stem.porter import PorterStemmer\n",
    "from sklearn.feature_extraction.text import TfidfVectorizer\n",
    "from sklearn.decomposition import TruncatedSVD\n",
    "from nltk.tokenize import RegexpTokenizer\n",
    "\n",
    "from sklearn.naive_bayes import MultinomialNB\n",
    "from sklearn.naive_bayes import GaussianNB\n",
    "from sklearn.neighbors import KNeighborsClassifier\n",
    "from sklearn.model_selection import train_test_split\n",
    "from sklearn.feature_extraction.text import CountVectorizer\n",
    "from sklearn.ensemble import AdaBoostClassifier\n",
    "from sklearn.naive_bayes import BernoulliNB\n",
    "from sklearn.pipeline import Pipeline\n",
    "from sklearn.feature_extraction.text import TfidfTransformer\n"
   ]
  },
  {
   "cell_type": "code",
   "execution_count": 2,
   "metadata": {},
   "outputs": [
    {
     "data": {
      "text/html": [
       "<div>\n",
       "<style scoped>\n",
       "    .dataframe tbody tr th:only-of-type {\n",
       "        vertical-align: middle;\n",
       "    }\n",
       "\n",
       "    .dataframe tbody tr th {\n",
       "        vertical-align: top;\n",
       "    }\n",
       "\n",
       "    .dataframe thead th {\n",
       "        text-align: right;\n",
       "    }\n",
       "</style>\n",
       "<table border=\"1\" class=\"dataframe\">\n",
       "  <thead>\n",
       "    <tr style=\"text-align: right;\">\n",
       "      <th></th>\n",
       "      <th>WikiID</th>\n",
       "      <th>Name</th>\n",
       "      <th>Revenue</th>\n",
       "      <th>ReleaseDate</th>\n",
       "      <th>Languages</th>\n",
       "      <th>Countries</th>\n",
       "      <th>Genres</th>\n",
       "      <th>Summary</th>\n",
       "      <th>Year</th>\n",
       "      <th>AdjustedRevenue</th>\n",
       "    </tr>\n",
       "  </thead>\n",
       "  <tbody>\n",
       "    <tr>\n",
       "      <th>0</th>\n",
       "      <td>975900</td>\n",
       "      <td>Ghosts of Mars</td>\n",
       "      <td>14010832.0</td>\n",
       "      <td>2001-08-24</td>\n",
       "      <td>['English Language']</td>\n",
       "      <td>['United States of America']</td>\n",
       "      <td>['Thriller', 'Science Fiction', 'Horror', 'Adv...</td>\n",
       "      <td>Set in the second half of the 22nd century, th...</td>\n",
       "      <td>2001.0</td>\n",
       "      <td>2.022468e+07</td>\n",
       "    </tr>\n",
       "    <tr>\n",
       "      <th>1</th>\n",
       "      <td>9363483</td>\n",
       "      <td>White Of The Eye</td>\n",
       "      <td>NaN</td>\n",
       "      <td>1987</td>\n",
       "      <td>['English Language']</td>\n",
       "      <td>['United Kingdom']</td>\n",
       "      <td>['Thriller', 'Erotic thriller', 'Psychological...</td>\n",
       "      <td>A series of murders of rich young women throug...</td>\n",
       "      <td>1987.0</td>\n",
       "      <td>NaN</td>\n",
       "    </tr>\n",
       "    <tr>\n",
       "      <th>2</th>\n",
       "      <td>261236</td>\n",
       "      <td>A Woman in Flames</td>\n",
       "      <td>NaN</td>\n",
       "      <td>1983</td>\n",
       "      <td>['German Language']</td>\n",
       "      <td>['Germany']</td>\n",
       "      <td>['Drama']</td>\n",
       "      <td>Eva, an upper class housewife, becomes frustra...</td>\n",
       "      <td>1983.0</td>\n",
       "      <td>NaN</td>\n",
       "    </tr>\n",
       "    <tr>\n",
       "      <th>3</th>\n",
       "      <td>18998739</td>\n",
       "      <td>The Sorcerer's Apprentice</td>\n",
       "      <td>NaN</td>\n",
       "      <td>2002</td>\n",
       "      <td>['English Language']</td>\n",
       "      <td>['South Africa']</td>\n",
       "      <td>['Family Film', 'Fantasy', 'Adventure', 'World...</td>\n",
       "      <td>Every hundred years, the evil Morgana  returns...</td>\n",
       "      <td>2002.0</td>\n",
       "      <td>NaN</td>\n",
       "    </tr>\n",
       "    <tr>\n",
       "      <th>4</th>\n",
       "      <td>6631279</td>\n",
       "      <td>Little city</td>\n",
       "      <td>NaN</td>\n",
       "      <td>1997-04-04</td>\n",
       "      <td>['English Language']</td>\n",
       "      <td>['United States of America']</td>\n",
       "      <td>['Romantic comedy', 'Ensemble Film', 'Comedy-d...</td>\n",
       "      <td>Adam, a San Francisco-based artist who works a...</td>\n",
       "      <td>1997.0</td>\n",
       "      <td>NaN</td>\n",
       "    </tr>\n",
       "  </tbody>\n",
       "</table>\n",
       "</div>"
      ],
      "text/plain": [
       "     WikiID                       Name     Revenue ReleaseDate  \\\n",
       "0    975900             Ghosts of Mars  14010832.0  2001-08-24   \n",
       "1   9363483           White Of The Eye         NaN        1987   \n",
       "2    261236          A Woman in Flames         NaN        1983   \n",
       "3  18998739  The Sorcerer's Apprentice         NaN        2002   \n",
       "4   6631279                Little city         NaN  1997-04-04   \n",
       "\n",
       "              Languages                     Countries  \\\n",
       "0  ['English Language']  ['United States of America']   \n",
       "1  ['English Language']            ['United Kingdom']   \n",
       "2   ['German Language']                   ['Germany']   \n",
       "3  ['English Language']              ['South Africa']   \n",
       "4  ['English Language']  ['United States of America']   \n",
       "\n",
       "                                              Genres  \\\n",
       "0  ['Thriller', 'Science Fiction', 'Horror', 'Adv...   \n",
       "1  ['Thriller', 'Erotic thriller', 'Psychological...   \n",
       "2                                          ['Drama']   \n",
       "3  ['Family Film', 'Fantasy', 'Adventure', 'World...   \n",
       "4  ['Romantic comedy', 'Ensemble Film', 'Comedy-d...   \n",
       "\n",
       "                                             Summary    Year  AdjustedRevenue  \n",
       "0  Set in the second half of the 22nd century, th...  2001.0     2.022468e+07  \n",
       "1  A series of murders of rich young women throug...  1987.0              NaN  \n",
       "2  Eva, an upper class housewife, becomes frustra...  1983.0              NaN  \n",
       "3  Every hundred years, the evil Morgana  returns...  2002.0              NaN  \n",
       "4  Adam, a San Francisco-based artist who works a...  1997.0              NaN  "
      ]
     },
     "execution_count": 2,
     "metadata": {},
     "output_type": "execute_result"
    }
   ],
   "source": [
    "df = pd.read_csv(\"cleanCMURevenueAdjusted.tsv\", sep=\"\\t\")\n",
    "df.head()"
   ]
  },
  {
   "cell_type": "code",
   "execution_count": 3,
   "metadata": {},
   "outputs": [
    {
     "data": {
      "text/html": [
       "<div>\n",
       "<style scoped>\n",
       "    .dataframe tbody tr th:only-of-type {\n",
       "        vertical-align: middle;\n",
       "    }\n",
       "\n",
       "    .dataframe tbody tr th {\n",
       "        vertical-align: top;\n",
       "    }\n",
       "\n",
       "    .dataframe thead th {\n",
       "        text-align: right;\n",
       "    }\n",
       "</style>\n",
       "<table border=\"1\" class=\"dataframe\">\n",
       "  <thead>\n",
       "    <tr style=\"text-align: right;\">\n",
       "      <th></th>\n",
       "      <th>WikiID</th>\n",
       "      <th>Name</th>\n",
       "      <th>Revenue</th>\n",
       "      <th>ReleaseDate</th>\n",
       "      <th>Languages</th>\n",
       "      <th>Countries</th>\n",
       "      <th>Genres</th>\n",
       "      <th>Summary</th>\n",
       "      <th>Year</th>\n",
       "      <th>AdjustedRevenue</th>\n",
       "      <th>Decade</th>\n",
       "    </tr>\n",
       "  </thead>\n",
       "  <tbody>\n",
       "    <tr>\n",
       "      <th>0</th>\n",
       "      <td>975900</td>\n",
       "      <td>Ghosts of Mars</td>\n",
       "      <td>14010832.0</td>\n",
       "      <td>2001-08-24</td>\n",
       "      <td>['English Language']</td>\n",
       "      <td>['United States of America']</td>\n",
       "      <td>['Thriller', 'Science Fiction', 'Horror', 'Adv...</td>\n",
       "      <td>Set in the second half of the 22nd century, th...</td>\n",
       "      <td>2001.0</td>\n",
       "      <td>2.022468e+07</td>\n",
       "      <td>2000.0</td>\n",
       "    </tr>\n",
       "    <tr>\n",
       "      <th>1</th>\n",
       "      <td>9363483</td>\n",
       "      <td>White Of The Eye</td>\n",
       "      <td>NaN</td>\n",
       "      <td>1987</td>\n",
       "      <td>['English Language']</td>\n",
       "      <td>['United Kingdom']</td>\n",
       "      <td>['Thriller', 'Erotic thriller', 'Psychological...</td>\n",
       "      <td>A series of murders of rich young women throug...</td>\n",
       "      <td>1987.0</td>\n",
       "      <td>NaN</td>\n",
       "      <td>1990.0</td>\n",
       "    </tr>\n",
       "    <tr>\n",
       "      <th>2</th>\n",
       "      <td>261236</td>\n",
       "      <td>A Woman in Flames</td>\n",
       "      <td>NaN</td>\n",
       "      <td>1983</td>\n",
       "      <td>['German Language']</td>\n",
       "      <td>['Germany']</td>\n",
       "      <td>['Drama']</td>\n",
       "      <td>Eva, an upper class housewife, becomes frustra...</td>\n",
       "      <td>1983.0</td>\n",
       "      <td>NaN</td>\n",
       "      <td>1980.0</td>\n",
       "    </tr>\n",
       "    <tr>\n",
       "      <th>3</th>\n",
       "      <td>18998739</td>\n",
       "      <td>The Sorcerer's Apprentice</td>\n",
       "      <td>NaN</td>\n",
       "      <td>2002</td>\n",
       "      <td>['English Language']</td>\n",
       "      <td>['South Africa']</td>\n",
       "      <td>['Family Film', 'Fantasy', 'Adventure', 'World...</td>\n",
       "      <td>Every hundred years, the evil Morgana  returns...</td>\n",
       "      <td>2002.0</td>\n",
       "      <td>NaN</td>\n",
       "      <td>2000.0</td>\n",
       "    </tr>\n",
       "    <tr>\n",
       "      <th>4</th>\n",
       "      <td>6631279</td>\n",
       "      <td>Little city</td>\n",
       "      <td>NaN</td>\n",
       "      <td>1997-04-04</td>\n",
       "      <td>['English Language']</td>\n",
       "      <td>['United States of America']</td>\n",
       "      <td>['Romantic comedy', 'Ensemble Film', 'Comedy-d...</td>\n",
       "      <td>Adam, a San Francisco-based artist who works a...</td>\n",
       "      <td>1997.0</td>\n",
       "      <td>NaN</td>\n",
       "      <td>2000.0</td>\n",
       "    </tr>\n",
       "  </tbody>\n",
       "</table>\n",
       "</div>"
      ],
      "text/plain": [
       "     WikiID                       Name     Revenue ReleaseDate  \\\n",
       "0    975900             Ghosts of Mars  14010832.0  2001-08-24   \n",
       "1   9363483           White Of The Eye         NaN        1987   \n",
       "2    261236          A Woman in Flames         NaN        1983   \n",
       "3  18998739  The Sorcerer's Apprentice         NaN        2002   \n",
       "4   6631279                Little city         NaN  1997-04-04   \n",
       "\n",
       "              Languages                     Countries  \\\n",
       "0  ['English Language']  ['United States of America']   \n",
       "1  ['English Language']            ['United Kingdom']   \n",
       "2   ['German Language']                   ['Germany']   \n",
       "3  ['English Language']              ['South Africa']   \n",
       "4  ['English Language']  ['United States of America']   \n",
       "\n",
       "                                              Genres  \\\n",
       "0  ['Thriller', 'Science Fiction', 'Horror', 'Adv...   \n",
       "1  ['Thriller', 'Erotic thriller', 'Psychological...   \n",
       "2                                          ['Drama']   \n",
       "3  ['Family Film', 'Fantasy', 'Adventure', 'World...   \n",
       "4  ['Romantic comedy', 'Ensemble Film', 'Comedy-d...   \n",
       "\n",
       "                                             Summary    Year  AdjustedRevenue  \\\n",
       "0  Set in the second half of the 22nd century, th...  2001.0     2.022468e+07   \n",
       "1  A series of murders of rich young women throug...  1987.0              NaN   \n",
       "2  Eva, an upper class housewife, becomes frustra...  1983.0              NaN   \n",
       "3  Every hundred years, the evil Morgana  returns...  2002.0              NaN   \n",
       "4  Adam, a San Francisco-based artist who works a...  1997.0              NaN   \n",
       "\n",
       "   Decade  \n",
       "0  2000.0  \n",
       "1  1990.0  \n",
       "2  1980.0  \n",
       "3  2000.0  \n",
       "4  2000.0  "
      ]
     },
     "execution_count": 3,
     "metadata": {},
     "output_type": "execute_result"
    }
   ],
   "source": [
    "\n",
    "df[\"Decade\"] = 10 * np.round(df[\"Year\"]/10)\n",
    "df.head()"
   ]
  },
  {
   "cell_type": "code",
   "execution_count": 4,
   "metadata": {},
   "outputs": [
    {
     "data": {
      "text/plain": [
       "array([2000., 1990., 1980.,   nan, 1960., 1970., 2010., 1940., 1950.,\n",
       "       1910., 1930., 1920., 1900., 1890.])"
      ]
     },
     "execution_count": 4,
     "metadata": {},
     "output_type": "execute_result"
    }
   ],
   "source": [
    "df.Decade.unique()"
   ]
  },
  {
   "cell_type": "code",
   "execution_count": 5,
   "metadata": {},
   "outputs": [
    {
     "data": {
      "text/plain": [
       "0        2000.0\n",
       "1        1990.0\n",
       "2        1980.0\n",
       "3        2000.0\n",
       "4        2000.0\n",
       "5        1990.0\n",
       "6        1990.0\n",
       "8        1960.0\n",
       "9        1970.0\n",
       "10       2010.0\n",
       "11       2010.0\n",
       "12       2000.0\n",
       "13       1980.0\n",
       "14       1990.0\n",
       "15       1990.0\n",
       "16       2010.0\n",
       "17       2000.0\n",
       "18       2010.0\n",
       "19       1990.0\n",
       "20       2000.0\n",
       "21       2000.0\n",
       "22       1980.0\n",
       "23       2010.0\n",
       "24       1990.0\n",
       "25       2010.0\n",
       "26       1990.0\n",
       "27       1990.0\n",
       "28       1940.0\n",
       "29       2010.0\n",
       "30       1980.0\n",
       "          ...  \n",
       "42173    1990.0\n",
       "42174    2000.0\n",
       "42175    1940.0\n",
       "42176    2000.0\n",
       "42177    2000.0\n",
       "42178    1940.0\n",
       "42179    1970.0\n",
       "42181    2000.0\n",
       "42182    1990.0\n",
       "42183    1980.0\n",
       "42184    1930.0\n",
       "42185    2010.0\n",
       "42186    1960.0\n",
       "42187    2010.0\n",
       "42188    2000.0\n",
       "42189    1940.0\n",
       "42190    1970.0\n",
       "42191    1990.0\n",
       "42192    1950.0\n",
       "42193    1960.0\n",
       "42194    2000.0\n",
       "42195    1990.0\n",
       "42196    2000.0\n",
       "42197    1990.0\n",
       "42198    2010.0\n",
       "42199    1940.0\n",
       "42200    2010.0\n",
       "42201    2010.0\n",
       "42202    1990.0\n",
       "42203    2000.0\n",
       "Name: Decade, Length: 39586, dtype: float64"
      ]
     },
     "execution_count": 5,
     "metadata": {},
     "output_type": "execute_result"
    }
   ],
   "source": [
    "df.Decade.dropna()"
   ]
  },
  {
   "cell_type": "code",
   "execution_count": 6,
   "metadata": {},
   "outputs": [],
   "source": [
    "d={}\n",
    "a=[]\n",
    "maxLabel=0\n",
    "\n",
    "for decade in df[\"Decade\"]:\n",
    "    try:\n",
    "        a.append(d[decade])\n",
    "    except KeyError:\n",
    "        a.append(maxLabel)\n",
    "        d[decade]=maxLabel\n",
    "        maxLabel +=1\n",
    "df[\"Decade\"] = a"
   ]
  },
  {
   "cell_type": "code",
   "execution_count": 7,
   "metadata": {},
   "outputs": [
    {
     "data": {
      "text/html": [
       "<div>\n",
       "<style scoped>\n",
       "    .dataframe tbody tr th:only-of-type {\n",
       "        vertical-align: middle;\n",
       "    }\n",
       "\n",
       "    .dataframe tbody tr th {\n",
       "        vertical-align: top;\n",
       "    }\n",
       "\n",
       "    .dataframe thead th {\n",
       "        text-align: right;\n",
       "    }\n",
       "</style>\n",
       "<table border=\"1\" class=\"dataframe\">\n",
       "  <thead>\n",
       "    <tr style=\"text-align: right;\">\n",
       "      <th></th>\n",
       "      <th>WikiID</th>\n",
       "      <th>Name</th>\n",
       "      <th>Revenue</th>\n",
       "      <th>ReleaseDate</th>\n",
       "      <th>Languages</th>\n",
       "      <th>Countries</th>\n",
       "      <th>Genres</th>\n",
       "      <th>Summary</th>\n",
       "      <th>Year</th>\n",
       "      <th>AdjustedRevenue</th>\n",
       "      <th>Decade</th>\n",
       "    </tr>\n",
       "  </thead>\n",
       "  <tbody>\n",
       "    <tr>\n",
       "      <th>0</th>\n",
       "      <td>975900</td>\n",
       "      <td>Ghosts of Mars</td>\n",
       "      <td>14010832.0</td>\n",
       "      <td>2001-08-24</td>\n",
       "      <td>['English Language']</td>\n",
       "      <td>['United States of America']</td>\n",
       "      <td>['Thriller', 'Science Fiction', 'Horror', 'Adv...</td>\n",
       "      <td>Set in the second half of the 22nd century, th...</td>\n",
       "      <td>2001.0</td>\n",
       "      <td>2.022468e+07</td>\n",
       "      <td>0</td>\n",
       "    </tr>\n",
       "    <tr>\n",
       "      <th>1</th>\n",
       "      <td>9363483</td>\n",
       "      <td>White Of The Eye</td>\n",
       "      <td>NaN</td>\n",
       "      <td>1987</td>\n",
       "      <td>['English Language']</td>\n",
       "      <td>['United Kingdom']</td>\n",
       "      <td>['Thriller', 'Erotic thriller', 'Psychological...</td>\n",
       "      <td>A series of murders of rich young women throug...</td>\n",
       "      <td>1987.0</td>\n",
       "      <td>NaN</td>\n",
       "      <td>1</td>\n",
       "    </tr>\n",
       "    <tr>\n",
       "      <th>2</th>\n",
       "      <td>261236</td>\n",
       "      <td>A Woman in Flames</td>\n",
       "      <td>NaN</td>\n",
       "      <td>1983</td>\n",
       "      <td>['German Language']</td>\n",
       "      <td>['Germany']</td>\n",
       "      <td>['Drama']</td>\n",
       "      <td>Eva, an upper class housewife, becomes frustra...</td>\n",
       "      <td>1983.0</td>\n",
       "      <td>NaN</td>\n",
       "      <td>2</td>\n",
       "    </tr>\n",
       "    <tr>\n",
       "      <th>3</th>\n",
       "      <td>18998739</td>\n",
       "      <td>The Sorcerer's Apprentice</td>\n",
       "      <td>NaN</td>\n",
       "      <td>2002</td>\n",
       "      <td>['English Language']</td>\n",
       "      <td>['South Africa']</td>\n",
       "      <td>['Family Film', 'Fantasy', 'Adventure', 'World...</td>\n",
       "      <td>Every hundred years, the evil Morgana  returns...</td>\n",
       "      <td>2002.0</td>\n",
       "      <td>NaN</td>\n",
       "      <td>0</td>\n",
       "    </tr>\n",
       "    <tr>\n",
       "      <th>4</th>\n",
       "      <td>6631279</td>\n",
       "      <td>Little city</td>\n",
       "      <td>NaN</td>\n",
       "      <td>1997-04-04</td>\n",
       "      <td>['English Language']</td>\n",
       "      <td>['United States of America']</td>\n",
       "      <td>['Romantic comedy', 'Ensemble Film', 'Comedy-d...</td>\n",
       "      <td>Adam, a San Francisco-based artist who works a...</td>\n",
       "      <td>1997.0</td>\n",
       "      <td>NaN</td>\n",
       "      <td>0</td>\n",
       "    </tr>\n",
       "  </tbody>\n",
       "</table>\n",
       "</div>"
      ],
      "text/plain": [
       "     WikiID                       Name     Revenue ReleaseDate  \\\n",
       "0    975900             Ghosts of Mars  14010832.0  2001-08-24   \n",
       "1   9363483           White Of The Eye         NaN        1987   \n",
       "2    261236          A Woman in Flames         NaN        1983   \n",
       "3  18998739  The Sorcerer's Apprentice         NaN        2002   \n",
       "4   6631279                Little city         NaN  1997-04-04   \n",
       "\n",
       "              Languages                     Countries  \\\n",
       "0  ['English Language']  ['United States of America']   \n",
       "1  ['English Language']            ['United Kingdom']   \n",
       "2   ['German Language']                   ['Germany']   \n",
       "3  ['English Language']              ['South Africa']   \n",
       "4  ['English Language']  ['United States of America']   \n",
       "\n",
       "                                              Genres  \\\n",
       "0  ['Thriller', 'Science Fiction', 'Horror', 'Adv...   \n",
       "1  ['Thriller', 'Erotic thriller', 'Psychological...   \n",
       "2                                          ['Drama']   \n",
       "3  ['Family Film', 'Fantasy', 'Adventure', 'World...   \n",
       "4  ['Romantic comedy', 'Ensemble Film', 'Comedy-d...   \n",
       "\n",
       "                                             Summary    Year  AdjustedRevenue  \\\n",
       "0  Set in the second half of the 22nd century, th...  2001.0     2.022468e+07   \n",
       "1  A series of murders of rich young women throug...  1987.0              NaN   \n",
       "2  Eva, an upper class housewife, becomes frustra...  1983.0              NaN   \n",
       "3  Every hundred years, the evil Morgana  returns...  2002.0              NaN   \n",
       "4  Adam, a San Francisco-based artist who works a...  1997.0              NaN   \n",
       "\n",
       "   Decade  \n",
       "0       0  \n",
       "1       1  \n",
       "2       2  \n",
       "3       0  \n",
       "4       0  "
      ]
     },
     "execution_count": 7,
     "metadata": {},
     "output_type": "execute_result"
    }
   ],
   "source": [
    "df.head()"
   ]
  },
  {
   "cell_type": "code",
   "execution_count": 8,
   "metadata": {},
   "outputs": [],
   "source": [
    "train, test = train_test_split(df, test_size=0.3)\n",
    "train = train.dropna()\n",
    "test = test.dropna()"
   ]
  },
  {
   "cell_type": "code",
   "execution_count": 9,
   "metadata": {},
   "outputs": [
    {
     "data": {
      "text/html": [
       "<div>\n",
       "<style scoped>\n",
       "    .dataframe tbody tr th:only-of-type {\n",
       "        vertical-align: middle;\n",
       "    }\n",
       "\n",
       "    .dataframe tbody tr th {\n",
       "        vertical-align: top;\n",
       "    }\n",
       "\n",
       "    .dataframe thead th {\n",
       "        text-align: right;\n",
       "    }\n",
       "</style>\n",
       "<table border=\"1\" class=\"dataframe\">\n",
       "  <thead>\n",
       "    <tr style=\"text-align: right;\">\n",
       "      <th></th>\n",
       "      <th>WikiID</th>\n",
       "      <th>Name</th>\n",
       "      <th>Revenue</th>\n",
       "      <th>ReleaseDate</th>\n",
       "      <th>Languages</th>\n",
       "      <th>Countries</th>\n",
       "      <th>Genres</th>\n",
       "      <th>Summary</th>\n",
       "      <th>Year</th>\n",
       "      <th>AdjustedRevenue</th>\n",
       "      <th>Decade</th>\n",
       "    </tr>\n",
       "  </thead>\n",
       "  <tbody>\n",
       "    <tr>\n",
       "      <th>7609</th>\n",
       "      <td>8737659</td>\n",
       "      <td>Speed Racer</td>\n",
       "      <td>93945766.0</td>\n",
       "      <td>2008-04-28</td>\n",
       "      <td>['English Language']</td>\n",
       "      <td>['United States of America', 'Australia', 'Ger...</td>\n",
       "      <td>['Adventure', 'Chase Movie', 'Sports', 'Advent...</td>\n",
       "      <td>Speed Racer  is an 18-year-old whose life and...</td>\n",
       "      <td>2008.0</td>\n",
       "      <td>1.115129e+08</td>\n",
       "      <td>6</td>\n",
       "    </tr>\n",
       "    <tr>\n",
       "      <th>35802</th>\n",
       "      <td>200694</td>\n",
       "      <td>Clerks.</td>\n",
       "      <td>3151130.0</td>\n",
       "      <td>1994-01</td>\n",
       "      <td>['English Language']</td>\n",
       "      <td>['United States of America']</td>\n",
       "      <td>['Buddy film', 'Indie', 'Black-and-white', 'Cu...</td>\n",
       "      <td>On April 10, 1993, Dante Hicks , 22, a retail ...</td>\n",
       "      <td>1994.0</td>\n",
       "      <td>5.430784e+06</td>\n",
       "      <td>1</td>\n",
       "    </tr>\n",
       "    <tr>\n",
       "      <th>39013</th>\n",
       "      <td>24593335</td>\n",
       "      <td>The Tree</td>\n",
       "      <td>2219182.0</td>\n",
       "      <td>2010-08-11</td>\n",
       "      <td>['English Language']</td>\n",
       "      <td>['France', 'Australia']</td>\n",
       "      <td>['Drama', 'Indie', 'World cinema']</td>\n",
       "      <td>Dawn and Peter O’Neil live together with their...</td>\n",
       "      <td>2010.0</td>\n",
       "      <td>2.600922e+06</td>\n",
       "      <td>6</td>\n",
       "    </tr>\n",
       "    <tr>\n",
       "      <th>17117</th>\n",
       "      <td>27602393</td>\n",
       "      <td>Monsters</td>\n",
       "      <td>4242978.0</td>\n",
       "      <td>2010-09-30</td>\n",
       "      <td>['English Language', 'Spanish Language']</td>\n",
       "      <td>['United Kingdom']</td>\n",
       "      <td>['Thriller', 'Drama', 'Romance Film', 'Horror'...</td>\n",
       "      <td>After a NASA deep-space probe crash lands in M...</td>\n",
       "      <td>2010.0</td>\n",
       "      <td>4.972848e+06</td>\n",
       "      <td>6</td>\n",
       "    </tr>\n",
       "    <tr>\n",
       "      <th>28791</th>\n",
       "      <td>2436406</td>\n",
       "      <td>48 Hrs.</td>\n",
       "      <td>78868508.0</td>\n",
       "      <td>1982-12-08</td>\n",
       "      <td>['English Language']</td>\n",
       "      <td>['United States of America']</td>\n",
       "      <td>['Thriller', 'Crime Fiction', 'Buddy film', 'A...</td>\n",
       "      <td>Convicted robber Albert Ganz  is working as pa...</td>\n",
       "      <td>1982.0</td>\n",
       "      <td>2.088177e+08</td>\n",
       "      <td>2</td>\n",
       "    </tr>\n",
       "  </tbody>\n",
       "</table>\n",
       "</div>"
      ],
      "text/plain": [
       "         WikiID         Name     Revenue ReleaseDate  \\\n",
       "7609    8737659  Speed Racer  93945766.0  2008-04-28   \n",
       "35802    200694      Clerks.   3151130.0     1994-01   \n",
       "39013  24593335     The Tree   2219182.0  2010-08-11   \n",
       "17117  27602393     Monsters   4242978.0  2010-09-30   \n",
       "28791   2436406      48 Hrs.  78868508.0  1982-12-08   \n",
       "\n",
       "                                      Languages  \\\n",
       "7609                       ['English Language']   \n",
       "35802                      ['English Language']   \n",
       "39013                      ['English Language']   \n",
       "17117  ['English Language', 'Spanish Language']   \n",
       "28791                      ['English Language']   \n",
       "\n",
       "                                               Countries  \\\n",
       "7609   ['United States of America', 'Australia', 'Ger...   \n",
       "35802                       ['United States of America']   \n",
       "39013                            ['France', 'Australia']   \n",
       "17117                                 ['United Kingdom']   \n",
       "28791                       ['United States of America']   \n",
       "\n",
       "                                                  Genres  \\\n",
       "7609   ['Adventure', 'Chase Movie', 'Sports', 'Advent...   \n",
       "35802  ['Buddy film', 'Indie', 'Black-and-white', 'Cu...   \n",
       "39013                 ['Drama', 'Indie', 'World cinema']   \n",
       "17117  ['Thriller', 'Drama', 'Romance Film', 'Horror'...   \n",
       "28791  ['Thriller', 'Crime Fiction', 'Buddy film', 'A...   \n",
       "\n",
       "                                                 Summary    Year  \\\n",
       "7609    Speed Racer  is an 18-year-old whose life and...  2008.0   \n",
       "35802  On April 10, 1993, Dante Hicks , 22, a retail ...  1994.0   \n",
       "39013  Dawn and Peter O’Neil live together with their...  2010.0   \n",
       "17117  After a NASA deep-space probe crash lands in M...  2010.0   \n",
       "28791  Convicted robber Albert Ganz  is working as pa...  1982.0   \n",
       "\n",
       "       AdjustedRevenue  Decade  \n",
       "7609      1.115129e+08       6  \n",
       "35802     5.430784e+06       1  \n",
       "39013     2.600922e+06       6  \n",
       "17117     4.972848e+06       6  \n",
       "28791     2.088177e+08       2  "
      ]
     },
     "execution_count": 9,
     "metadata": {},
     "output_type": "execute_result"
    }
   ],
   "source": [
    "train.head()"
   ]
  },
  {
   "cell_type": "code",
   "execution_count": 10,
   "metadata": {},
   "outputs": [],
   "source": [
    "train_y = train[\"Decade\"]\n",
    "# train_X = train.drop([\"Decade\", \"Year\", \"ReleaseDate\"], axis=1)\n",
    "train_X = train[[\"Name\", \"Revenue\", \"Languages\", \"Countries\", \"Genres\", \"Summary\", \"AdjustedRevenue\"]]\n",
    "\n",
    "test_y = test[\"Decade\"]\n",
    "# train_X = train.drop([\"Decade\", \"Year\", \"ReleaseDate\"], axis=1)\n",
    "test_X = test[[\"Name\", \"Revenue\", \"Languages\", \"Countries\", \"Genres\", \"Summary\", \"AdjustedRevenue\"]]"
   ]
  },
  {
   "cell_type": "code",
   "execution_count": 36,
   "metadata": {},
   "outputs": [],
   "source": [
    "from sklearn.feature_extraction.text import CountVectorizer\n",
    "\n",
    "titleVectorizer = CountVectorizer()\n",
    "titleX = titleVectorizer.fit_transform(train[\"Name\"])\n",
    "df[\"tokenizedTitle\"] = titleX"
   ]
  },
  {
   "cell_type": "code",
   "execution_count": 37,
   "metadata": {},
   "outputs": [],
   "source": [
    "features = train[[\"Name\", \"Year\", \"Languages\", \"Countries\", \"Genres\", \"Summary\"]]\n",
    "label = train['Decade']"
   ]
  },
  {
   "cell_type": "code",
   "execution_count": 17,
   "metadata": {},
   "outputs": [
    {
     "data": {
      "text/plain": [
       "KNeighborsClassifier(algorithm='auto', leaf_size=30, metric='minkowski',\n",
       "           metric_params=None, n_jobs=None, n_neighbors=5, p=2,\n",
       "           weights='uniform')"
      ]
     },
     "execution_count": 17,
     "metadata": {},
     "output_type": "execute_result"
    }
   ],
   "source": [
    "from sklearn.neighbors import KNeighborsClassifier\n",
    "\n",
    "knn = KNeighborsClassifier()\n",
    "knn.fit(titleX.toarray(), label.values)"
   ]
  },
  {
   "cell_type": "code",
   "execution_count": 18,
   "metadata": {},
   "outputs": [
    {
     "data": {
      "text/plain": [
       "0.21968365553602812"
      ]
     },
     "execution_count": 18,
     "metadata": {},
     "output_type": "execute_result"
    }
   ],
   "source": [
    "testTitles = titleVectorizer.transform(test[\"Name\"]).toarray()\n",
    "y_pred3 = knn.predict(testTitles)\n",
    "sum(y_pred3 == test['Decade'])/len(y_pred3)"
   ]
  },
  {
   "cell_type": "code",
   "execution_count": 16,
   "metadata": {},
   "outputs": [
    {
     "data": {
      "text/plain": [
       "0.15019937970757644"
      ]
     },
     "execution_count": 16,
     "metadata": {},
     "output_type": "execute_result"
    }
   ],
   "source": [
    "from sklearn.naive_bayes import GaussianNB\n",
    "gb = GaussianNB()\n",
    "gb.fit(titleX.toarray(), label.values)\n",
    "testTitles = titleVectorizer.transform(test[\"Name\"]).toarray()\n",
    "y_pred3 = gb.predict(testTitles)\n",
    "sum(y_pred3 == test['Decade'])/len(y_pred3)"
   ]
  },
  {
   "cell_type": "code",
   "execution_count": 19,
   "metadata": {},
   "outputs": [],
   "source": [
    "plotTokenizer = CountVectorizer()\n",
    "trainPlots = plotTokenizer.fit_transform(train_X[\"Summary\"])\n",
    "testPlots = plotTokenizer.transform(test_X[\"Summary\"])"
   ]
  },
  {
   "cell_type": "code",
   "execution_count": 21,
   "metadata": {},
   "outputs": [
    {
     "data": {
      "text/plain": [
       "GaussianNB(priors=None, var_smoothing=1e-09)"
      ]
     },
     "execution_count": 21,
     "metadata": {},
     "output_type": "execute_result"
    }
   ],
   "source": [
    "gb = GaussianNB()\n",
    "gb.fit(TrainPlotsVec, train_y)\n"
   ]
  },
  {
   "cell_type": "code",
   "execution_count": 22,
   "metadata": {},
   "outputs": [
    {
     "data": {
      "text/plain": [
       "0.3141338059370846"
      ]
     },
     "execution_count": 22,
     "metadata": {},
     "output_type": "execute_result"
    }
   ],
   "source": [
    "predict = gb.predict(testPlots.toarray())\n",
    "sum(predict == test_y)/len(predict)"
   ]
  },
  {
   "cell_type": "code",
   "execution_count": null,
   "metadata": {},
   "outputs": [],
   "source": [
    "from sklearn.neighbors import KNeighborsClassifier\n",
    "\n",
    "knn = KNeighborsClassifier()\n",
    "knn.fit(trainPlots.toarray(), train_y)\n",
    "predict = knn.predict(testPlots.toarray())\n",
    "sum(predict == test_y)/len(predict)"
   ]
  },
  {
   "cell_type": "code",
   "execution_count": 41,
   "metadata": {},
   "outputs": [
    {
     "ename": "KeyboardInterrupt",
     "evalue": "",
     "output_type": "error",
     "traceback": [
      "\u001b[1;31m---------------------------------------------------------------------------\u001b[0m",
      "\u001b[1;31mKeyboardInterrupt\u001b[0m                         Traceback (most recent call last)",
      "\u001b[1;32m<ipython-input-41-160d65a697c7>\u001b[0m in \u001b[0;36m<module>\u001b[1;34m\u001b[0m\n\u001b[0;32m      1\u001b[0m \u001b[0mada\u001b[0m \u001b[1;33m=\u001b[0m \u001b[0mAdaBoostClassifier\u001b[0m\u001b[1;33m(\u001b[0m\u001b[0mn_estimators\u001b[0m\u001b[1;33m=\u001b[0m\u001b[1;36m250\u001b[0m\u001b[1;33m,\u001b[0m \u001b[0mlearning_rate\u001b[0m\u001b[1;33m=\u001b[0m\u001b[1;36m1.0\u001b[0m\u001b[1;33m)\u001b[0m\u001b[1;33m\u001b[0m\u001b[1;33m\u001b[0m\u001b[0m\n\u001b[1;32m----> 2\u001b[1;33m \u001b[0mm\u001b[0m\u001b[1;33m=\u001b[0m\u001b[0mada\u001b[0m\u001b[1;33m.\u001b[0m\u001b[0mfit\u001b[0m\u001b[1;33m(\u001b[0m\u001b[0mtrainPlots\u001b[0m\u001b[1;33m.\u001b[0m\u001b[0mtoarray\u001b[0m\u001b[1;33m(\u001b[0m\u001b[1;33m)\u001b[0m\u001b[1;33m,\u001b[0m \u001b[0mtrain_y\u001b[0m\u001b[1;33m)\u001b[0m\u001b[1;33m\u001b[0m\u001b[1;33m\u001b[0m\u001b[0m\n\u001b[0m\u001b[0;32m      3\u001b[0m \u001b[1;33m\u001b[0m\u001b[0m\n\u001b[0;32m      4\u001b[0m \u001b[0mpredict\u001b[0m \u001b[1;33m=\u001b[0m \u001b[0mm\u001b[0m\u001b[1;33m.\u001b[0m\u001b[0mpredict\u001b[0m\u001b[1;33m(\u001b[0m\u001b[0mtestPlots\u001b[0m\u001b[1;33m.\u001b[0m\u001b[0mtoarray\u001b[0m\u001b[1;33m(\u001b[0m\u001b[1;33m)\u001b[0m\u001b[1;33m)\u001b[0m\u001b[1;33m\u001b[0m\u001b[1;33m\u001b[0m\u001b[0m\n\u001b[0;32m      5\u001b[0m \u001b[0msum\u001b[0m\u001b[1;33m(\u001b[0m\u001b[0mpredict\u001b[0m \u001b[1;33m==\u001b[0m \u001b[0mtest_y\u001b[0m\u001b[1;33m)\u001b[0m\u001b[1;33m/\u001b[0m\u001b[0mlen\u001b[0m\u001b[1;33m(\u001b[0m\u001b[0mpredict\u001b[0m\u001b[1;33m)\u001b[0m\u001b[1;33m\u001b[0m\u001b[1;33m\u001b[0m\u001b[0m\n",
      "\u001b[1;32m~\\Anaconda3\\lib\\site-packages\\sklearn\\ensemble\\weight_boosting.py\u001b[0m in \u001b[0;36mfit\u001b[1;34m(self, X, y, sample_weight)\u001b[0m\n\u001b[0;32m    410\u001b[0m \u001b[1;33m\u001b[0m\u001b[0m\n\u001b[0;32m    411\u001b[0m         \u001b[1;31m# Fit\u001b[0m\u001b[1;33m\u001b[0m\u001b[1;33m\u001b[0m\u001b[1;33m\u001b[0m\u001b[0m\n\u001b[1;32m--> 412\u001b[1;33m         \u001b[1;32mreturn\u001b[0m \u001b[0msuper\u001b[0m\u001b[1;33m(\u001b[0m\u001b[0mAdaBoostClassifier\u001b[0m\u001b[1;33m,\u001b[0m \u001b[0mself\u001b[0m\u001b[1;33m)\u001b[0m\u001b[1;33m.\u001b[0m\u001b[0mfit\u001b[0m\u001b[1;33m(\u001b[0m\u001b[0mX\u001b[0m\u001b[1;33m,\u001b[0m \u001b[0my\u001b[0m\u001b[1;33m,\u001b[0m \u001b[0msample_weight\u001b[0m\u001b[1;33m)\u001b[0m\u001b[1;33m\u001b[0m\u001b[1;33m\u001b[0m\u001b[0m\n\u001b[0m\u001b[0;32m    413\u001b[0m \u001b[1;33m\u001b[0m\u001b[0m\n\u001b[0;32m    414\u001b[0m     \u001b[1;32mdef\u001b[0m \u001b[0m_validate_estimator\u001b[0m\u001b[1;33m(\u001b[0m\u001b[0mself\u001b[0m\u001b[1;33m)\u001b[0m\u001b[1;33m:\u001b[0m\u001b[1;33m\u001b[0m\u001b[1;33m\u001b[0m\u001b[0m\n",
      "\u001b[1;32m~\\Anaconda3\\lib\\site-packages\\sklearn\\ensemble\\weight_boosting.py\u001b[0m in \u001b[0;36mfit\u001b[1;34m(self, X, y, sample_weight)\u001b[0m\n\u001b[0;32m    141\u001b[0m                 \u001b[0mX\u001b[0m\u001b[1;33m,\u001b[0m \u001b[0my\u001b[0m\u001b[1;33m,\u001b[0m\u001b[1;33m\u001b[0m\u001b[1;33m\u001b[0m\u001b[0m\n\u001b[0;32m    142\u001b[0m                 \u001b[0msample_weight\u001b[0m\u001b[1;33m,\u001b[0m\u001b[1;33m\u001b[0m\u001b[1;33m\u001b[0m\u001b[0m\n\u001b[1;32m--> 143\u001b[1;33m                 random_state)\n\u001b[0m\u001b[0;32m    144\u001b[0m \u001b[1;33m\u001b[0m\u001b[0m\n\u001b[0;32m    145\u001b[0m             \u001b[1;31m# Early termination\u001b[0m\u001b[1;33m\u001b[0m\u001b[1;33m\u001b[0m\u001b[1;33m\u001b[0m\u001b[0m\n",
      "\u001b[1;32m~\\Anaconda3\\lib\\site-packages\\sklearn\\ensemble\\weight_boosting.py\u001b[0m in \u001b[0;36m_boost\u001b[1;34m(self, iboost, X, y, sample_weight, random_state)\u001b[0m\n\u001b[0;32m    470\u001b[0m         \"\"\"\n\u001b[0;32m    471\u001b[0m         \u001b[1;32mif\u001b[0m \u001b[0mself\u001b[0m\u001b[1;33m.\u001b[0m\u001b[0malgorithm\u001b[0m \u001b[1;33m==\u001b[0m \u001b[1;34m'SAMME.R'\u001b[0m\u001b[1;33m:\u001b[0m\u001b[1;33m\u001b[0m\u001b[1;33m\u001b[0m\u001b[0m\n\u001b[1;32m--> 472\u001b[1;33m             \u001b[1;32mreturn\u001b[0m \u001b[0mself\u001b[0m\u001b[1;33m.\u001b[0m\u001b[0m_boost_real\u001b[0m\u001b[1;33m(\u001b[0m\u001b[0miboost\u001b[0m\u001b[1;33m,\u001b[0m \u001b[0mX\u001b[0m\u001b[1;33m,\u001b[0m \u001b[0my\u001b[0m\u001b[1;33m,\u001b[0m \u001b[0msample_weight\u001b[0m\u001b[1;33m,\u001b[0m \u001b[0mrandom_state\u001b[0m\u001b[1;33m)\u001b[0m\u001b[1;33m\u001b[0m\u001b[1;33m\u001b[0m\u001b[0m\n\u001b[0m\u001b[0;32m    473\u001b[0m \u001b[1;33m\u001b[0m\u001b[0m\n\u001b[0;32m    474\u001b[0m         \u001b[1;32melse\u001b[0m\u001b[1;33m:\u001b[0m  \u001b[1;31m# elif self.algorithm == \"SAMME\":\u001b[0m\u001b[1;33m\u001b[0m\u001b[1;33m\u001b[0m\u001b[0m\n",
      "\u001b[1;32m~\\Anaconda3\\lib\\site-packages\\sklearn\\ensemble\\weight_boosting.py\u001b[0m in \u001b[0;36m_boost_real\u001b[1;34m(self, iboost, X, y, sample_weight, random_state)\u001b[0m\n\u001b[0;32m    480\u001b[0m         \u001b[0mestimator\u001b[0m \u001b[1;33m=\u001b[0m \u001b[0mself\u001b[0m\u001b[1;33m.\u001b[0m\u001b[0m_make_estimator\u001b[0m\u001b[1;33m(\u001b[0m\u001b[0mrandom_state\u001b[0m\u001b[1;33m=\u001b[0m\u001b[0mrandom_state\u001b[0m\u001b[1;33m)\u001b[0m\u001b[1;33m\u001b[0m\u001b[1;33m\u001b[0m\u001b[0m\n\u001b[0;32m    481\u001b[0m \u001b[1;33m\u001b[0m\u001b[0m\n\u001b[1;32m--> 482\u001b[1;33m         \u001b[0mestimator\u001b[0m\u001b[1;33m.\u001b[0m\u001b[0mfit\u001b[0m\u001b[1;33m(\u001b[0m\u001b[0mX\u001b[0m\u001b[1;33m,\u001b[0m \u001b[0my\u001b[0m\u001b[1;33m,\u001b[0m \u001b[0msample_weight\u001b[0m\u001b[1;33m=\u001b[0m\u001b[0msample_weight\u001b[0m\u001b[1;33m)\u001b[0m\u001b[1;33m\u001b[0m\u001b[1;33m\u001b[0m\u001b[0m\n\u001b[0m\u001b[0;32m    483\u001b[0m \u001b[1;33m\u001b[0m\u001b[0m\n\u001b[0;32m    484\u001b[0m         \u001b[0my_predict_proba\u001b[0m \u001b[1;33m=\u001b[0m \u001b[0mestimator\u001b[0m\u001b[1;33m.\u001b[0m\u001b[0mpredict_proba\u001b[0m\u001b[1;33m(\u001b[0m\u001b[0mX\u001b[0m\u001b[1;33m)\u001b[0m\u001b[1;33m\u001b[0m\u001b[1;33m\u001b[0m\u001b[0m\n",
      "\u001b[1;32m~\\Anaconda3\\lib\\site-packages\\sklearn\\tree\\tree.py\u001b[0m in \u001b[0;36mfit\u001b[1;34m(self, X, y, sample_weight, check_input, X_idx_sorted)\u001b[0m\n\u001b[0;32m    799\u001b[0m             \u001b[0msample_weight\u001b[0m\u001b[1;33m=\u001b[0m\u001b[0msample_weight\u001b[0m\u001b[1;33m,\u001b[0m\u001b[1;33m\u001b[0m\u001b[1;33m\u001b[0m\u001b[0m\n\u001b[0;32m    800\u001b[0m             \u001b[0mcheck_input\u001b[0m\u001b[1;33m=\u001b[0m\u001b[0mcheck_input\u001b[0m\u001b[1;33m,\u001b[0m\u001b[1;33m\u001b[0m\u001b[1;33m\u001b[0m\u001b[0m\n\u001b[1;32m--> 801\u001b[1;33m             X_idx_sorted=X_idx_sorted)\n\u001b[0m\u001b[0;32m    802\u001b[0m         \u001b[1;32mreturn\u001b[0m \u001b[0mself\u001b[0m\u001b[1;33m\u001b[0m\u001b[1;33m\u001b[0m\u001b[0m\n\u001b[0;32m    803\u001b[0m \u001b[1;33m\u001b[0m\u001b[0m\n",
      "\u001b[1;32m~\\Anaconda3\\lib\\site-packages\\sklearn\\tree\\tree.py\u001b[0m in \u001b[0;36mfit\u001b[1;34m(self, X, y, sample_weight, check_input, X_idx_sorted)\u001b[0m\n\u001b[0;32m    364\u001b[0m                                            min_impurity_split)\n\u001b[0;32m    365\u001b[0m \u001b[1;33m\u001b[0m\u001b[0m\n\u001b[1;32m--> 366\u001b[1;33m         \u001b[0mbuilder\u001b[0m\u001b[1;33m.\u001b[0m\u001b[0mbuild\u001b[0m\u001b[1;33m(\u001b[0m\u001b[0mself\u001b[0m\u001b[1;33m.\u001b[0m\u001b[0mtree_\u001b[0m\u001b[1;33m,\u001b[0m \u001b[0mX\u001b[0m\u001b[1;33m,\u001b[0m \u001b[0my\u001b[0m\u001b[1;33m,\u001b[0m \u001b[0msample_weight\u001b[0m\u001b[1;33m,\u001b[0m \u001b[0mX_idx_sorted\u001b[0m\u001b[1;33m)\u001b[0m\u001b[1;33m\u001b[0m\u001b[1;33m\u001b[0m\u001b[0m\n\u001b[0m\u001b[0;32m    367\u001b[0m \u001b[1;33m\u001b[0m\u001b[0m\n\u001b[0;32m    368\u001b[0m         \u001b[1;32mif\u001b[0m \u001b[0mself\u001b[0m\u001b[1;33m.\u001b[0m\u001b[0mn_outputs_\u001b[0m \u001b[1;33m==\u001b[0m \u001b[1;36m1\u001b[0m\u001b[1;33m:\u001b[0m\u001b[1;33m\u001b[0m\u001b[1;33m\u001b[0m\u001b[0m\n",
      "\u001b[1;31mKeyboardInterrupt\u001b[0m: "
     ]
    }
   ],
   "source": [
    "ada = AdaBoostClassifier(n_estimators=250, learning_rate=1.0)\n",
    "m=ada.fit(trainPlots.toarray(), train_y)\n",
    "\n",
    "predict = m.predict(testPlots.toarray())\n",
    "sum(predict == test_y)/len(predict)"
   ]
  },
  {
   "cell_type": "code",
   "execution_count": 25,
   "metadata": {},
   "outputs": [
    {
     "name": "stderr",
     "output_type": "stream",
     "text": [
      "C:\\Users\\akash\\Anaconda3\\lib\\site-packages\\sklearn\\naive_bayes.py:480: UserWarning: alpha too small will result in numeric errors, setting alpha = 1.0e-10\n",
      "  'setting alpha = %.1e' % _ALPHA_MIN)\n"
     ]
    },
    {
     "data": {
      "text/plain": [
       "0.3349324029655473"
      ]
     },
     "execution_count": 25,
     "metadata": {},
     "output_type": "execute_result"
    }
   ],
   "source": [
    "mnb =MultinomialNB (alpha=0.00, class_prior=None, fit_prior=True)\n",
    "mnb.fit(trainPlots.toarray(), train_y)\n",
    "predict = mnb.predict(testPlots.toarray())\n",
    "sum(predict == test_y)/len(predict)"
   ]
  },
  {
   "cell_type": "code",
   "execution_count": 30,
   "metadata": {},
   "outputs": [
    {
     "data": {
      "text/plain": [
       "0.3597906672481465"
      ]
     },
     "execution_count": 30,
     "metadata": {},
     "output_type": "execute_result"
    }
   ],
   "source": [
    "bnb =BernoulliNB (alpha=0.5, binarize=0.0, class_prior=None, fit_prior=True)\n",
    "bnb.fit(trainPlots.toarray(), train_y)\n",
    "predict = bnb.predict(testPlots.toarray())\n",
    "sum(predict == test_y)/len(predict)"
   ]
  },
  {
   "cell_type": "code",
   "execution_count": null,
   "metadata": {},
   "outputs": [],
   "source": []
  }
 ],
 "metadata": {
  "kernelspec": {
   "display_name": "Python 3",
   "language": "python",
   "name": "python3"
  },
  "language_info": {
   "codemirror_mode": {
    "name": "ipython",
    "version": 3
   },
   "file_extension": ".py",
   "mimetype": "text/x-python",
   "name": "python",
   "nbconvert_exporter": "python",
   "pygments_lexer": "ipython3",
   "version": "3.7.3"
  }
 },
 "nbformat": 4,
 "nbformat_minor": 2
}
